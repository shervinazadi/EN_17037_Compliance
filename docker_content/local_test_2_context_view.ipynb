{
 "cells": [
  {
   "source": [
    "# Context View Out Notebook"
   ],
   "cell_type": "markdown",
   "metadata": {}
  },
  {
   "source": [
    "## 0. Initialization\n",
    "\n",
    "### 0.1. Importing libraries and setting global variables"
   ],
   "cell_type": "markdown",
   "metadata": {}
  },
  {
   "cell_type": "code",
   "execution_count": 1,
   "metadata": {},
   "outputs": [
    {
     "output_type": "stream",
     "name": "stdout",
     "text": [
      "Path to radiance is set to: /usr/local/radiance\nPath to perl is set to: /usr/bin\n"
     ]
    }
   ],
   "source": [
    "import EN_17037_Recipes as enr \n",
    "import pyvista as pv\n",
    "import os\n",
    "import pandas as pd\n",
    "import numpy as np\n",
    "import trimesh as tm\n",
    "import itertools\n",
    "import matplotlib.pyplot as plt\n",
    "\n",
    "cwd = os.getcwd()\n",
    "src = os.path.dirname(cwd)"
   ]
  },
  {
   "cell_type": "code",
   "execution_count": 2,
   "metadata": {},
   "outputs": [
    {
     "output_type": "stream",
     "name": "stderr",
     "text": [
      "faces have mixed data, using slow fallback!\n"
     ]
    }
   ],
   "source": [
    "project_name = 'EN_17037_context_view_' + '1_9'\n",
    "\n",
    "# setting the rays and points\n",
    "rays = [[0,0,1]]\n",
    "pnts = [[-35.781,39.450,10.839]]\n",
    "\n",
    "# loading all meshes and converting them into hb surfaces\n",
    "hb_surfaces = []\n",
    "# mesh = pv.read(os.path.join(src, \"data\", \"ref_room_walls.obj\"))\n",
    "# hb_surf = enr.pv_mesh_to_hbsurface(mesh, 0, \"wall\", enr.material_plastic)\n",
    "mesh_tm = tm.load_mesh(os.path.join(src, \"data\", \"ref_room_walls.obj\"))\n",
    "hb_surf = enr.mesh_to_hbsurface(mesh_tm.vertices, mesh_tm.faces, 0, \"this_mesh\", enr.material_plastic)\n",
    "hb_surfaces.extend(hb_surf)"
   ]
  },
  {
   "cell_type": "code",
   "execution_count": null,
   "metadata": {},
   "outputs": [],
   "source": [
    "analysis_grid = enr.AnalysisGrid.from_points_and_vectors(pnts, rays, 'test_grid')\n",
    "\n",
    "# put the recipe together\n",
    "rp = enr.ContextViewGridBased(analysis_grids=(analysis_grid,),\n",
    "               hb_objects=hb_surfaces)\n",
    "               \n",
    "# write simulation to folder\n",
    "batch_file = rp.write(\n",
    "    target_folder='.', project_name=project_name)"
   ]
  },
  {
   "cell_type": "code",
   "execution_count": null,
   "metadata": {},
   "outputs": [],
   "source": [
    "# run the simulation\n",
    "rp.run(batch_file, debug=False)"
   ]
  },
  {
   "cell_type": "code",
   "execution_count": null,
   "metadata": {},
   "outputs": [],
   "source": [
    "# load rtrace results\n",
    "rs_path = os.path.join(project_name, 'gridbased', 'rtrace_res.txt')\n",
    "rtrace_res = pd.read_csv(rs_path, skiprows=8, sep='\\t', usecols=[3,4,5], header=None, names=['int_name', 'first_dist', 'last_dist'])\n",
    "rtrace_res"
   ]
  },
  {
   "cell_type": "code",
   "execution_count": null,
   "metadata": {},
   "outputs": [],
   "source": [
    "# load grid data\n",
    "grid_df = pd.read_csv(grid_path, skiprows=0, sep=',', header=None, names=['Sx','Sy','Sz'])\n",
    "\n",
    "# load rtrace results\n",
    "rs_path = os.path.join(project_name, 'gridbased', 'rtrace_res.txt')\n",
    "rtrace_res = pd.read_csv(rs_path, skiprows=8, sep='\\t', usecols=[3,4,5], header=None, names=['last_int_name', 'first_int_dist', 'last_int_dist'])\n",
    "rtrace_res.replace(\"*\", \"sky\", inplace=True)\n",
    "# load the rays\n",
    "rays_path = os.path.join(project_name, 'gridbased', project_name + '.pts')\n",
    "rays_df = pd.read_csv(rays_path, skiprows=0, sep=' ', header=None, names=['Sx','Sy','Sz','Rx', 'Ry', 'Rz'])\n",
    "print(rays_df.shape)\n",
    "# concatenate data frames and group by point ids\n",
    "grid_results = pd.concat([rays_df, rtrace_res], axis = 1)\n",
    "\n",
    "# create masks\n",
    "grid_results['window_mask'] = grid_results['last_int_name'] != \"wall\"\n",
    "grid_results['horizon_mask'] = grid_results['Rz'].abs() < 0.01\n",
    "grid_results['hw_mask'] = grid_results['window_mask'] * grid_results['horizon_mask']\n",
    "\n",
    "#create groupby\n",
    "gb = grid_results.groupby(test_inds)"
   ]
  },
  {
   "source": [
    "### 2.2. Compute window view solid angle on each grid point"
   ],
   "cell_type": "markdown",
   "metadata": {}
  },
  {
   "cell_type": "code",
   "execution_count": null,
   "metadata": {},
   "outputs": [],
   "source": [
    "# window view solid angle in steradian\n",
    "grid_df[\"window_solid_angle\"] = 4 * np.pi * gb['window_mask'].sum() / len(rays)\n",
    "grid_df"
   ]
  },
  {
   "cell_type": "code",
   "execution_count": null,
   "metadata": {},
   "outputs": [],
   "source": [
    "fig = plt.figure(figsize = (6,8))\n",
    "plt.style.use(['ggplot'])\n",
    "plt.set_cmap('viridis')\n",
    "# fig.patch.set_facecolor('white')\n",
    "plt.imshow(grid_df[\"window_solid_angle\"].to_numpy().reshape((-1, 25)), interpolation='none')\n",
    "\n",
    "plt.axis('off')\n",
    "cbar = plt.colorbar() \n",
    "cbar.ax.get_yaxis().labelpad = 15\n",
    "cbar.ax.set_ylabel('Window Solid Angle (Steradian)', rotation=270, ha='center', va='center')  \n",
    "\n",
    "plot_path = os.path.join('plots', project_name + '_window_solid_angle.eps')\n",
    "plt.savefig(plot_path, format='eps')\n",
    "plt.show()"
   ]
  },
  {
   "source": [
    "### 2.3. Compute window view horizontal angle on each grid point"
   ],
   "cell_type": "markdown",
   "metadata": {}
  },
  {
   "cell_type": "code",
   "execution_count": null,
   "metadata": {},
   "outputs": [],
   "source": [
    "grid_df[\"horizontal_angle\"] = 360 * gb['hw_mask'].sum() / gb['horizon_mask'].sum()\n",
    "grid_df"
   ]
  },
  {
   "cell_type": "code",
   "execution_count": null,
   "metadata": {},
   "outputs": [],
   "source": [
    "plt.figure(figsize = (6,8))\n",
    "ha_array = grid_df[\"horizontal_angle\"].to_numpy().reshape((-1, 25))\n",
    "plt.imshow(ha_array, interpolation='none')\n",
    "\n",
    "plt.axis('off')\n",
    "hamx = np.floor(ha_array.max())\n",
    "hamn = np.ceil(ha_array.min())\n",
    "tcks = np.arange(0, 360, 30).astype(np.int)\n",
    "cbar = plt.colorbar(ticks=[hamn] + list(tcks[(tcks > hamn) * (tcks < hamx)]) + [hamx]) \n",
    "cbar.ax.get_yaxis().labelpad = 20\n",
    "cbar.ax.set_ylabel('Window Horizontal Angle (Degree)', rotation=270, ha='center', va='center')          \n",
    "\n",
    "plt.yticks(rotation = 45)\n",
    "# cbar.ax.set_yticklabels([1]*10, rotation='vertical')\n",
    "plt.setp(cbar.ax.get_yticklabels(),rotation=270)\n",
    "plot_path = os.path.join('plots', project_name + '_horizontal_angle.png')\n",
    "plt.savefig(plot_path, facecolor=\"#FFFFFF\", dpi=3, dpi=1200)\n",
    "plt.show()"
   ]
  },
  {
   "source": [
    "### 2.4. Compute view layer count on each grid point"
   ],
   "cell_type": "markdown",
   "metadata": {}
  },
  {
   "cell_type": "code",
   "execution_count": null,
   "metadata": {},
   "outputs": [],
   "source": [
    "counts_df = gb['last_int_name'].value_counts()\n",
    "\n",
    "count_dict = counts_df.to_dict()\n",
    "new_dict = {}\n",
    "for key, val in count_dict.items():\n",
    "    if key[0] in new_dict.keys():\n",
    "        new_dict[key[0]][key[1]] = val\n",
    "    else:\n",
    "        new_dict[key[0]] = {key[1]:val}\n",
    "\n",
    "view_layer_count_df = pd.DataFrame.from_dict(new_dict).T.fillna(0)\n",
    "grid_df = pd.concat([grid_df, view_layer_count_df], axis = 1)\n",
    "grid_df"
   ]
  },
  {
   "cell_type": "code",
   "execution_count": null,
   "metadata": {},
   "outputs": [],
   "source": [
    "columns = list(view_layer_count_df.columns)\n",
    "fig, axs = plt.subplots(1, len(columns), figsize=(15,6))\n",
    "fig.tight_layout() \n",
    "for ax, column in zip(axs,columns):\n",
    "    count_grid = np.reshape(view_layer_count_df[column].to_numpy() - 1, (-1, 25))\n",
    "    pcm =ax.pcolormesh(np.flip(count_grid))\n",
    "    ax.axis('off')\n",
    "    ax.set_title(column)\n",
    "    fig.colorbar(pcm, ax=ax, orientation=\"vertical\", pad=0.05)\n",
    "\n",
    "plot_path = os.path.join('plots', project_name + '_all_layers.eps')\n",
    "plt.savefig(plot_path, format='eps')\n",
    "# cbar = fig.colorbar()              \n",
    "# cbar.set_ticks([1,2,3,4])"
   ]
  },
  {
   "source": [
    "### 2.5. View layer count with different thresholds"
   ],
   "cell_type": "markdown",
   "metadata": {}
  },
  {
   "cell_type": "code",
   "execution_count": null,
   "metadata": {},
   "outputs": [],
   "source": [
    "through_win_ratio = view_layer_count_df.to_numpy() / view_layer_count_df.to_numpy().sum(axis=1).reshape(-1, 1)\n",
    "through_win_ratio"
   ]
  },
  {
   "cell_type": "code",
   "execution_count": null,
   "metadata": {},
   "outputs": [],
   "source": [
    "through_win_ratio_wo_wall = through_win_ratio[:, 1:]"
   ]
  },
  {
   "cell_type": "code",
   "execution_count": null,
   "metadata": {},
   "outputs": [],
   "source": [
    "import matplotlib.gridspec as gridspec\n",
    "\n",
    "plt.style.use(['ggplot'])\n",
    "\n",
    "div = 800.0\n",
    "plot_count = 5\n",
    "w_ratio = 10\n",
    "fig3 = plt.figure(constrained_layout=True, figsize=(20, 8))\n",
    "fig3.patch.set_facecolor('#FFFFFF')\n",
    "gs = fig3.add_gridspec(1, w_ratio * plot_count + 1)\n",
    "cmap = plt.get_cmap('viridis', 4)\n",
    "for i in range(plot_count):\n",
    "    ax = fig3.add_subplot(gs[:, i*w_ratio:(i+1)*w_ratio])\n",
    "    ax.set_title('t = ' + ('%.3f' % ((0.001 + i/div) * 4 * np.pi)) + ' sr', color='black')\n",
    "    ax.axis('off')\n",
    "    count_grid = np.reshape((through_win_ratio_wo_wall> (0.001 + i/div)).sum(axis=1), (-1, 25))\n",
    "    im = ax.imshow(count_grid, interpolation='none', cmap=cmap,vmin = -.5, vmax = 3+.5)\n",
    "\n",
    "cax = fig3.add_subplot(gs[:, w_ratio * plot_count ])\n",
    "cb = plt.colorbar(im, ticks=(), cax = cax) \n",
    "for i in np.arange(0,4):\n",
    "    cb.ax.text(0.75, i - 0.05, i)\n",
    "\n",
    "plot_path = os.path.join('plots', project_name + '_view_layer_threshold.png')\n",
    "plt.savefig(plot_path, facecolor=\"#FFFFFF\", dpi=300)\n"
   ]
  },
  {
   "cell_type": "code",
   "execution_count": null,
   "metadata": {},
   "outputs": [],
   "source": [
    "def discrete_matshow(data):\n",
    "    # get discrete colormap\n",
    "    cmap = plt.get_cmap('viridis', np.max(data)-np.min(data)+1)\n",
    "    # set limits .5 outside true range\n",
    "    mat = plt.imshow(data, cmap=cmap,vmin = np.min(data)-.5, vmax = np.max(data)+.5)\n",
    "    #tell the colorbar to tick at integers\n",
    "    cax = plt.colorbar(mat, ticks=np.arange(np.min(data),np.max(data)+1))\n",
    "    plt.axis('off')\n",
    "    cax.ax.set_ylabel('t = ' + ('%.3f' % ((0.001 + 4/div) * 4 * np.pi)) + ' sr', color='black', rotation=270, ha='center', va='center')  \n",
    "    cax.ax.get_yaxis().labelpad = 10\n",
    "    plt.setp(cbar.ax.get_yticklabels(),rotation=270)\n",
    "\n",
    "discrete_matshow(count_grid)"
   ]
  },
  {
   "cell_type": "code",
   "execution_count": null,
   "metadata": {},
   "outputs": [],
   "source": [
    "filepath = os.path.join(src, \"data\", \"ref_room_window.obj\")\n",
    "win_mesh = pv.read(filepath)"
   ]
  },
  {
   "cell_type": "code",
   "execution_count": null,
   "metadata": {},
   "outputs": [],
   "source": [
    "win_normal = np.array(win_mesh.face_normals).flatten()"
   ]
  },
  {
   "cell_type": "code",
   "execution_count": null,
   "metadata": {},
   "outputs": [],
   "source": [
    "win_mask = grid_results[\"window_mask\"].to_numpy()\n",
    "distances = grid_results[[\"first_int_dist\",\t\"last_int_dist\"]].to_numpy()\n",
    "ray_dir = grid_results[[\"Rx\",\"Ry\",\"Rz\"]].to_numpy()"
   ]
  },
  {
   "cell_type": "code",
   "execution_count": null,
   "metadata": {},
   "outputs": [],
   "source": [
    "win_mask = (grid_results[\"last_int_name\"] != \"wall\").to_numpy()\n",
    "not_sky_mask = (grid_results[\"last_int_name\"] != \"window\").to_numpy()"
   ]
  },
  {
   "cell_type": "code",
   "execution_count": null,
   "metadata": {},
   "outputs": [],
   "source": [
    "win_dist = distances[win_mask]\n",
    "win_ray_dir = ray_dir[win_mask]"
   ]
  },
  {
   "cell_type": "code",
   "execution_count": null,
   "metadata": {},
   "outputs": [],
   "source": [
    "r = np.sum(win_normal * win_ray_dir, axis=1)\n",
    "dist_dif = (win_dist[:, 0] - win_dist[:, 1]) "
   ]
  },
  {
   "cell_type": "code",
   "execution_count": null,
   "metadata": {},
   "outputs": [],
   "source": [
    "dist = dist_dif * r"
   ]
  },
  {
   "cell_type": "code",
   "execution_count": null,
   "metadata": {},
   "outputs": [],
   "source": [
    "con = "
   ]
  },
  {
   "cell_type": "code",
   "execution_count": null,
   "metadata": {},
   "outputs": [],
   "source": [
    "nosky_dist_finall = dist[(dist_dif > 100) * (dist_dif < 400)]\n"
   ]
  },
  {
   "cell_type": "code",
   "execution_count": null,
   "metadata": {},
   "outputs": [],
   "source": [
    "nosky_dist_finall.max()"
   ]
  },
  {
   "cell_type": "code",
   "execution_count": null,
   "metadata": {},
   "outputs": [],
   "source": []
  }
 ],
 "metadata": {
  "kernelspec": {
   "name": "python385jvsc74a57bd0e27e6096067a616dec79045cf409423a9c007e56e5a32f2b7b56e2bb4865536c",
   "display_name": "Python 3.8.5 64-bit ('environmental': conda)"
  },
  "language_info": {
   "codemirror_mode": {
    "name": "ipython",
    "version": 3
   },
   "file_extension": ".py",
   "mimetype": "text/x-python",
   "name": "python",
   "nbconvert_exporter": "python",
   "pygments_lexer": "ipython3",
   "version": "3.8.5"
  }
 },
 "nbformat": 4,
 "nbformat_minor": 2
}