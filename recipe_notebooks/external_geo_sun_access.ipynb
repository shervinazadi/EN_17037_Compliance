{
 "cells": [
  {
   "cell_type": "code",
   "execution_count": 1,
   "metadata": {},
   "outputs": [
    {
     "name": "stdout",
     "output_type": "stream",
     "text": [
      "Path to radiance is set to: /usr/local/radiance\n",
      "Path to perl is set to: /usr/bin\n"
     ]
    }
   ],
   "source": [
    "import pyvista as pv\n",
    "# import topogenesis  as tp\n",
    "import numpy as np\n",
    "from honeybee_plus.hbsurface import HBSurface\n",
    "from honeybee_plus.radiance.recipe.solaraccess.gridbased import SolarAccessGridBased\n",
    "from honeybee_plus.radiance.analysisgrid import AnalysisGrid\n",
    "import os\n",
    "\n",
    "cwd = os.getcwd()\n",
    "src = os.path.dirname(cwd)"
   ]
  },
  {
   "cell_type": "code",
   "execution_count": 2,
   "metadata": {},
   "outputs": [
    {
     "name": "stdout",
     "output_type": "stream",
     "text": [
      "[HBSurface::a4d03c69-1176::Wall, HBSurface::81205123-8641::Wall, HBSurface::2c6865d1-8163::Wall, HBSurface::03d25282-64f4::Wall, HBSurface::19316733-5c47::Wall, HBSurface::36795e31-7bf1::Wall, HBSurface::296f7037-d357::Wall, HBSurface::048afc44-c559::Wall, HBSurface::20dea317-e433::Wall, HBSurface::785f1a27-eba7::Wall, HBSurface::e70518ff-7c7a::Wall, HBSurface::fa5eaecb-1b5b::Wall, HBSurface::4bd1cd7d-67d0::Wall, HBSurface::8eec49db-60a3::Wall, HBSurface::c6876e77-d27c::Wall, HBSurface::d4934a3a-3f84::Wall, HBSurface::29f12e66-4491::Wall, HBSurface::edf908c2-ba91::Wall, HBSurface::cf598c2e-b19e::Wall, HBSurface::a39f5e6a-9344::Wall, HBSurface::b8847307-8d06::Wall, HBSurface::cd578b79-b024::Wall, HBSurface::7afa2117-889f::Wall, HBSurface::69d61426-44f5::Wall, HBSurface::fdc407a3-f445::Wall, HBSurface::cbfff63e-87d6::Wall, HBSurface::87a6340b-5380::Wall, HBSurface::c6324a95-1e79::Wall, HBSurface::8f78321a-dc2e::Wall, HBSurface::3f1e8317-3376::Wall, HBSurface::2eb56edf-b42d::Wall, HBSurface::d2ee5d25-f527::Wall, HBSurface::d58ccee7-9663::Wall, HBSurface::6368e2f3-02c6::Wall, HBSurface::f6bacb16-dd61::Wall, HBSurface::9e3ffc6c-1056::Wall, HBSurface::4fc52b04-0d98::Wall, HBSurface::1db8be83-0266::Wall, HBSurface::0a691a51-216d::Wall, HBSurface::8edaa216-efaf::Wall, HBSurface::21c330e9-5cc8::Wall, HBSurface::a7343ae3-74b9::Wall, HBSurface::522f886d-9b72::Wall, HBSurface::114f6466-f599::Wall, HBSurface::bb3f920d-0fd2::Wall, HBSurface::08f1a613-ef7e::Wall, HBSurface::53167a78-f290::Wall, HBSurface::8f3f261c-79e1::Wall, HBSurface::af00f636-c57f::Wall, HBSurface::f72a7112-7df5::Wall, HBSurface::11902452-5bcf::Wall, HBSurface::bdf0d2f6-c814::Wall, HBSurface::810b51c2-42f3::Wall, HBSurface::599351e0-7b13::Wall, HBSurface::c50ae992-aa24::Wall, HBSurface::d9c16f7e-916a::Wall, HBSurface::5cd7e921-9bba::Wall, HBSurface::2e6451e8-8ee5::Wall, HBSurface::fd8a2b10-0e65::Wall, HBSurface::a57d98c3-b9fa::Wall, HBSurface::f9e6d1bc-f088::Wall, HBSurface::f4a605e8-f9e4::Wall, HBSurface::4a88f82c-43dc::Wall, HBSurface::3ebf52a7-62a2::Wall, HBSurface::3a260e97-7c95::Wall, HBSurface::4c0e44b0-7a1c::Wall, HBSurface::403a1657-196a::Wall, HBSurface::240ac481-6fa7::Wall, HBSurface::5da3ee7f-e40f::Wall, HBSurface::8b777a58-5647::Wall, HBSurface::7202440f-35b3::Wall, HBSurface::71686a6c-94fb::Wall, HBSurface::74e9070b-8bd0::Wall, HBSurface::3b9864f4-14f5::Wall, HBSurface::cc23682d-5a21::Wall, HBSurface::7430e68f-1912::Wall, HBSurface::ac9508ca-6a03::Wall, HBSurface::49a59da9-9a38::Wall]\n",
      "[ 3 40  1  0  3  8 40  0  3  3  2 41  3 40 41  2  3 39 40  8  3 39 10 52\n",
      "  3 52 10 12  3 53 12 14  3 52 53 37  3 52 38 39  3 53 36 37  3  8 10 39\n",
      "  3  5  4 43  3 42  4  3  3 43 44  5  3 44  7  6  3  7 44  9  3 44 45  9\n",
      "  3 55 45 46  3 56 47 48  3 46 47 55  3 45 55 11  3 11 55 56  3 56 48 57\n",
      "  3 13 56 57  3  9 45 11  3 54 14 16  3 53 54 36  3 34 35 58  3 34 58 33\n",
      "  3 58 16 18  3 58 59 33  3 18 32 59  3 20 32 18  3 21 32 20  3 31 32 22\n",
      "  3 22 23 31  3 59 32 33  3 60 57 49  3 57 48 49  3 51 60 50  3 60 17 15\n",
      "  3 61 19 17  3 60 51 61  3 61 51 28  3 29 30 24  3 24 30 23  3 28 29 25\n",
      "  3 27 19 28  3 28 19 61  3 28 26 27  3 54 35 36  3  3 41 42  3 40  2  1\n",
      "  3 52 12 53  3 53 14 54  3 52 37 38  3  4 42 43  3 44  6  5  3 47 56 55\n",
      "  3 11 56 13  3 13 57 15  3 54 16 58  3 35 54 58  3 58 18 59  3 32 21 22\n",
      "  3 23 30 31  3 60 49 50  3 60 15 57  3 61 17 60  3 29 24 25  3 28 25 26\n",
      "  4 65 63 62 64  4 69 68 66 67  4 73 71 70 72  4 77 75 74 76  4 81 79 78\n",
      " 80  6 82 87 84 85 86 83]\n"
     ]
    }
   ],
   "source": [
    "filepath = os.path.join(src, \"data\", \"test_room_01.obj\")\n",
    "mesh = pv.read(filepath)\n",
    "# print(mesh.is_all_triangles())\n",
    "\n",
    "# srf_dict = {\n",
    "#     'name': 'floor', \n",
    "#     'vertices': [[(0, 0, 3.2), (-4.242640687119285, 4.242640687119286, 3.2), (-1.2727922061357848, 7.212489168102785, 3.2), (2.9698484809835, 2.9698484809834995, 3.2)]], \n",
    "#     'surface_material': {\n",
    "#         'modifier': 'void', \n",
    "#         'type': 'plastic', \n",
    "#         'name': 'generic_floor', \n",
    "#         'r_reflectance': 0.2, \n",
    "#         'g_reflectance': 0.2, \n",
    "#         'b_reflectance': 0.2, \n",
    "#         'specularity': 0.0, \n",
    "#         'roughness': 0.0}, \n",
    "#     'surface_type': 2.0\n",
    "# }\n",
    "face_list = list(mesh.faces)\n",
    "hb_surfaces = []\n",
    "e = 0\n",
    "while e < len(face_list):\n",
    "    v_count = face_list[e]\n",
    "    vertices = []\n",
    "    for v in range(v_count):\n",
    "        e += 1\n",
    "        vertices.append(list(mesh.points[face_list[e]]))\n",
    "    srf_dict = {\n",
    "        \"name\": \"\",\n",
    "        \"vertices\": vertices, # [[(x, y, z), (x1, y1, z1), (x2, y2, z2)]],\n",
    "        \"surface_material\": {\n",
    "            'modifier': 'void', \n",
    "            'type': 'plastic', \n",
    "            'name': 'generic_floor', \n",
    "            'r_reflectance': 0.2, \n",
    "            'g_reflectance': 0.2, \n",
    "            'b_reflectance': 0.2, \n",
    "            'specularity': 0.0, \n",
    "            'roughness': 0.0},\n",
    "        \"surface_type\": 0  # 0: wall, 5: window\n",
    "        }\n",
    "    hbsrf = HBSurface.from_json(srf_dict)\n",
    "    hb_surfaces.append(hbsrf)\n",
    "    e += 1\n",
    "\n",
    "\n",
    "print(hb_surfaces)\n",
    "# print(type(mesh))\n",
    "# print(mesh.points)\n",
    "print(mesh.faces)"
   ]
  },
  {
   "cell_type": "code",
   "execution_count": 3,
   "metadata": {},
   "outputs": [
    {
     "name": "stdout",
     "output_type": "stream",
     "text": [
      "Found 78 opaque surfaces.\n",
      "Found 0 fenestration surfaces.\n",
      "Found 0 window-groups.\n"
     ]
    }
   ],
   "source": [
    "# # generate grid of test points\n",
    "# analysis_grid = room.generate_test_points(grid_size=0.5, height=0.75)\n",
    "test_pts = [(0, 0, 0), (1, 1, 0), (3, 2, 0)]\n",
    "test_vec = [(0, 0, 1), (0, 0, 1), (0, 0, 1)]\n",
    "analysis_grid = AnalysisGrid.from_points_and_vectors(test_pts, test_vec, 'test_grid')\n",
    "\n",
    "# define sun vectors\n",
    "sun_vectors = [\n",
    "            (-0.810513, 0.579652, -0.084093), (-0.67166, 0.702357, -0.235729),\n",
    "            (-0.487065, 0.798284, -0.354275), (-0.269301, 0.8609, -0.431657),\n",
    "            (-0.033196, 0.885943, -0.462605), (0.20517, 0.871705, -0.445013),\n",
    "            (0.429563, 0.819156, -0.380077), (0.624703, 0.731875, -0.272221),\n",
    "            (0.777301, 0.615806, -0.128788)]\n",
    "\n",
    "# define sun hours : A list of hours of the year for each sun vector\n",
    "# there are 87600 hours in a year, so the following integers refer to specific hours throughout the year\n",
    "hoys = [1908, 2000, 2530, 3254, 3658, 4000, 4116, 6324, 8508]\n",
    "\n",
    "# # put the recipe together\n",
    "# rp = GridBased(sky=sky, analysis_grids=(analysis_grid,), simulation_type=0, hb_objects=(room,))\n",
    "rp = SolarAccessGridBased(sun_vectors, hoys, [analysis_grid], hb_objects=hb_surfaces)"
   ]
  },
  {
   "cell_type": "code",
   "execution_count": 4,
   "metadata": {},
   "outputs": [
    {
     "name": "stdout",
     "output_type": "stream",
     "text": [
      "Writing recipe contents to: ./external_room_sun/solaraccess\n"
     ]
    }
   ],
   "source": [
    "# write simulation to folder\n",
    "batch_file = rp.write(\n",
    "    target_folder='.', project_name='external_room_sun')"
   ]
  },
  {
   "cell_type": "code",
   "execution_count": 5,
   "metadata": {},
   "outputs": [
    {
     "name": "stdout",
     "output_type": "stream",
     "text": [
      "#!/usr/bin/env bash\n",
      "\n",
      "\n",
      "\n",
      "cd ./external_room_sun/solaraccess\n",
      "\n",
      "/usr/local/radiance/bin/oconv -f scene/opaque/external_room_sun..opq.mat scene/opaque/external_room_sun..opq.rad scene/glazing/external_room_sun..glz.mat scene/glazing/external_room_sun..glz.rad sky/analemma.rad > external_room_sun.oct\n",
      "/usr/local/radiance/bin/rcontrib -aa 0.0 -ab 0 -ad 512 -ar 16 -as 128 -dc 1.0 -dj 0.0 -dp 64 -ds 0.5 -dr 0 -dt 0.0 -I -lr 4 -lw 0.05 -M ./sky/analemma.mod -ss 0.0 -st 0.85 -y 3 external_room_sun.oct < external_room_sun.pts > result/external_room_sun.dc\n",
      "/usr/local/radiance/bin/rmtxop -c 47.4 119.9 11.6 -fa result/external_room_sun.dc > result/external_room_sun.ill\n"
     ]
    },
    {
     "data": {
      "text/plain": [
       "True"
      ]
     },
     "execution_count": 5,
     "metadata": {},
     "output_type": "execute_result"
    }
   ],
   "source": [
    "# run the simulation\n",
    "for com in rp._commands:\n",
    "    print(com)\n",
    "rp.run(batch_file, debug=False)\n",
    "\n",
    "# https://www.radiance-online.org/learning/documentation/manual-pages/pdfs/rmtxop.pdf\n",
    "# Eleonora: rmtxop multiplies the daylight coefficient matrices with the sky vectors. This is necessary for getting illuminance from daylight coefficients computed w.r.t. rgb components. \n",
    "# Sun Access of points, and how to interpret them https://floyd.lbl.gov/radiance/refer/usman2.pdf"
   ]
  },
  {
   "cell_type": "code",
   "execution_count": 6,
   "metadata": {},
   "outputs": [
    {
     "name": "stdout",
     "output_type": "stream",
     "text": [
      "Unloading the current values from the analysis grids.\n",
      "Unloading the current values from the analysis grids.\n",
      "0.000 0.000 0.000 0.000 0.000 1.000\n",
      "1.000 1.000 0.000 0.000 0.000 1.000\n",
      "3.000 2.000 0.000 0.000 0.000 1.000\n"
     ]
    }
   ],
   "source": [
    "# results - in this case it will be an analysis grid\n",
    "result = rp.results()[0]\n",
    "print(rp.results()[0])"
   ]
  },
  {
   "cell_type": "code",
   "execution_count": 7,
   "metadata": {},
   "outputs": [
    {
     "data": {
      "application/vnd.jupyter.widget-view+json": {
       "model_id": "30d368fcff194b2b81ad8a62a9de1ddb",
       "version_major": 2,
       "version_minor": 0
      },
      "text/plain": [
       "Viewer(geometries=[{'vtkClass': 'vtkPolyData', 'points': {'vtkClass': 'vtkPoints', 'name': '_points', 'numberO…"
      ]
     },
     "metadata": {},
     "output_type": "display_data"
    }
   ],
   "source": [
    "# Plot using the ITKplotter\n",
    "pl = pv.PlotterITK()\n",
    "pl.add_mesh(mesh, smooth_shading=True)\n",
    "pl.show(True)"
   ]
  },
  {
   "cell_type": "code",
   "execution_count": null,
   "metadata": {},
   "outputs": [],
   "source": []
  }
 ],
 "metadata": {
  "kernelspec": {
   "display_name": "Python 3",
   "language": "python",
   "name": "python3"
  },
  "language_info": {
   "codemirror_mode": {
    "name": "ipython",
    "version": 3
   },
   "file_extension": ".py",
   "mimetype": "text/x-python",
   "name": "python",
   "nbconvert_exporter": "python",
   "pygments_lexer": "ipython3",
   "version": "3.8.5"
  }
 },
 "nbformat": 4,
 "nbformat_minor": 2
}
