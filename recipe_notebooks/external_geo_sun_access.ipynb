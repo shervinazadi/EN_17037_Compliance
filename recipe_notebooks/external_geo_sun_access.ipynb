{
 "cells": [
  {
   "cell_type": "code",
   "execution_count": 53,
   "metadata": {},
   "outputs": [],
   "source": [
    "import pyvista as pv\n",
    "# import topogenesis  as tp\n",
    "import numpy as np\n",
    "from honeybee_plus.hbsurface import HBSurface\n",
    "from honeybee_plus.radiance.recipe.solaraccess.gridbased import SolarAccessGridBased\n",
    "from honeybee_plus.radiance.analysisgrid import AnalysisGrid\n",
    "import os\n",
    "import ladybug as lb\n",
    "import pandas as pd\n",
    "\n",
    "cwd = os.getcwd()\n",
    "src = os.path.dirname(cwd)"
   ]
  },
  {
   "cell_type": "code",
   "execution_count": 54,
   "metadata": {},
   "outputs": [],
   "source": [
    "# srf_dict = {\n",
    "#     'name': 'floor', \n",
    "#     'vertices': [[(0, 0, 3.2), (-4.242640687119285, 4.242640687119286, 3.2), (-1.2727922061357848, 7.212489168102785, 3.2), (2.9698484809835, 2.9698484809834995, 3.2)]], \n",
    "#     'surface_material': {\n",
    "#         'modifier': 'void', \n",
    "#         'type': 'plastic', \n",
    "#         'name': 'generic_floor', \n",
    "#         'r_reflectance': 0.2, \n",
    "#         'g_reflectance': 0.2, \n",
    "#         'b_reflectance': 0.2, \n",
    "#         'specularity': 0.0, \n",
    "#         'roughness': 0.0}, \n",
    "#     'surface_type': 2.0\n",
    "# }\n",
    "def mesh_to_hbsurface(mesh, s_type):\n",
    "    hb_surfaces = []\n",
    "    face_list = list(mesh.faces)\n",
    "    e = 0\n",
    "    while e < len(face_list):\n",
    "        v_count = face_list[e]\n",
    "        vertices = []\n",
    "        for v in range(v_count):\n",
    "            e += 1\n",
    "            vertices.append(list(mesh.points[face_list[e]]))\n",
    "        srf_dict = {\n",
    "            \"name\": \"\",\n",
    "            \"vertices\": vertices, # [[(x, y, z), (x1, y1, z1), (x2, y2, z2)]],\n",
    "            \"surface_material\": {\n",
    "                'modifier': 'void', \n",
    "                'type': 'plastic', \n",
    "                'name': 'generic_floor', \n",
    "                'r_reflectance': 0.2, \n",
    "                'g_reflectance': 0.2, \n",
    "                'b_reflectance': 0.2, \n",
    "                'specularity': 0.0, \n",
    "                'roughness': 0.0},\n",
    "            \"surface_type\": s_type  # 0: wall, 5: window \n",
    "            # TODO: look for the lables of ceiling and floor\n",
    "            }\n",
    "        hbsrf = HBSurface.from_json(srf_dict)\n",
    "        hb_surfaces.append(hbsrf)\n",
    "        e += 1\n",
    "    return hb_surfaces"
   ]
  },
  {
   "cell_type": "code",
   "execution_count": 55,
   "metadata": {},
   "outputs": [],
   "source": [
    "# import all external geometry with pyvista\n",
    "wal_filepath = os.path.join(src, \"data\", \"test_room_walls_02.obj\")\n",
    "wal_mesh = pv.read(wal_filepath)\n",
    "fen_filepath = os.path.join(src, \"data\", \"test_room_fens_02.obj\")\n",
    "fen_mesh = pv.read(fen_filepath)\n",
    "\n",
    "# construct honeybee surfaces from the mesh\n",
    "wal_hb_surf = mesh_to_hbsurface(wal_mesh, 0)\n",
    "fen_hb_surf = mesh_to_hbsurface(fen_mesh, 5)\n",
    "hb_surfaces = wal_hb_surf + fen_hb_surf\n",
    "# TODO: look into tagging system for out_view to specify the \"external environment\"\n",
    "\n",
    "# print(hb_surfaces)\n",
    "# print(type(mesh))\n",
    "# print(mesh.points)\n",
    "# print(mesh.faces)"
   ]
  },
  {
   "cell_type": "code",
   "execution_count": 56,
   "metadata": {
    "tags": []
   },
   "outputs": [
    {
     "name": "stdout",
     "output_type": "stream",
     "text": [
      "Found 78 opaque surfaces.\n",
      "Found 0 fenestration surfaces.\n",
      "Found 0 window-groups.\n"
     ]
    }
   ],
   "source": [
    "# generate grid of test points\n",
    "test_pts = [(1, 1, 1),(6, 1, 1),(1, 6, 1),(1, 1, 6)]\n",
    "test_vec = [(0, 0, 1),(0, 0, 1),(0, 0, 1),(0, 0, 1)]\n",
    "analysis_grid = AnalysisGrid.from_points_and_vectors(test_pts, test_vec, 'test_grid')\n",
    "\n",
    "# initiate sunpath\n",
    "sp = lb.sunpath.Sunpath(longitude=4.3571, latitude=52.0116)\n",
    "\n",
    "# define sun hours : A list of hours of the year for each sun vector\n",
    "# there are 8760 hours in a year, so the following integers refer to specific hours throughout the year\n",
    "hoys = []\n",
    "sun_vectors = []\n",
    "for i in range(8760):\n",
    "    # compute the sun object\n",
    "    sun = sp.calculate_sun_from_hoy(i)\n",
    "    # extract the sun vector\n",
    "    sun_vector = sun.sun_vector.to_array()\n",
    "    # apparantly, if the Z component of sun vector is positive, it is under the horizon \n",
    "    if sun_vector[2] < 0.0:\n",
    "        hoys.append(i)\n",
    "        sun_vectors.append(sun_vector)\n",
    "\n",
    "# put the recipe together\n",
    "rp = SolarAccessGridBased(sun_vectors, hoys, [analysis_grid], hb_objects=hb_surfaces)"
   ]
  },
  {
   "cell_type": "code",
   "execution_count": 57,
   "metadata": {},
   "outputs": [
    {
     "name": "stdout",
     "output_type": "stream",
     "text": [
      "Writing recipe contents to: ./external_room_sun/solaraccess\n"
     ]
    }
   ],
   "source": [
    "# write simulation to folder\n",
    "batch_file = rp.write(\n",
    "    target_folder='.', project_name='external_room_sun')"
   ]
  },
  {
   "cell_type": "code",
   "execution_count": 58,
   "metadata": {
    "scrolled": true
   },
   "outputs": [
    {
     "name": "stdout",
     "output_type": "stream",
     "text": [
      "#!/usr/bin/env bash\n",
      "\n",
      "\n",
      "\n",
      "cd ./external_room_sun/solaraccess\n",
      "\n",
      "/usr/local/radiance/bin/oconv -f scene/opaque/external_room_sun..opq.mat scene/opaque/external_room_sun..opq.rad scene/glazing/external_room_sun..glz.mat scene/glazing/external_room_sun..glz.rad sky/analemma.rad > external_room_sun.oct\n",
      "/usr/local/radiance/bin/rcontrib -aa 0.0 -ab 0 -ad 512 -ar 16 -as 128 -dc 1.0 -dj 0.0 -dp 64 -ds 0.5 -dr 0 -dt 0.0 -I -lr 4 -lw 0.05 -M ./sky/analemma.mod -ss 0.0 -st 0.85 -y 4 external_room_sun.oct < external_room_sun.pts > result/external_room_sun.dc\n",
      "/usr/local/radiance/bin/rmtxop -c 47.4 119.9 11.6 -fa result/external_room_sun.dc > result/external_room_sun.ill\n"
     ]
    },
    {
     "data": {
      "text/plain": [
       "True"
      ]
     },
     "execution_count": 58,
     "metadata": {},
     "output_type": "execute_result"
    }
   ],
   "source": [
    "# print the radiance commands\n",
    "for com in rp._commands:\n",
    "    print(com)\n",
    "# run the simulation\n",
    "rp.run(batch_file, debug=False)\n",
    "\n",
    "# https://www.radiance-online.org/learning/documentation/manual-pages/pdfs/rmtxop.pdf\n",
    "# Eleonora: rmtxop multiplies the daylight coefficient matrices with the sky vectors. This is necessary for getting illuminance from daylight coefficients computed w.r.t. rgb components. \n",
    "# Sun Access of points, and how to interpret them https://floyd.lbl.gov/radiance/refer/usman2.pdf"
   ]
  },
  {
   "cell_type": "code",
   "execution_count": 66,
   "metadata": {},
   "outputs": [
    {
     "name": "stdout",
     "output_type": "stream",
     "text": [
      "Unloading the current values from the analysis grids.\n",
      "          0    1    2    3\n",
      "540     0.0  1.0  0.0  1.0\n",
      "600     0.0  1.0  0.0  1.0\n",
      "660     0.0  1.0  0.0  1.0\n",
      "720     0.0  1.0  0.0  1.0\n",
      "780     0.0  1.0  0.0  1.0\n",
      "...     ...  ...  ...  ...\n",
      "524820  0.0  1.0  0.0  1.0\n",
      "524880  0.0  1.0  0.0  1.0\n",
      "524940  0.0  1.0  0.0  1.0\n",
      "525000  0.0  1.0  0.0  1.0\n",
      "525060  0.0  1.0  0.0  1.0\n",
      "\n",
      "[4460 rows x 4 columns]\n",
      "0.0\n",
      "0.707847533632287\n",
      "0.4744394618834081\n",
      "1.0\n"
     ]
    }
   ],
   "source": [
    "# results - in this case it will be an analysis grid\n",
    "result = rp.results()[0]\n",
    "dfs = []\n",
    "\n",
    "# print(result.result_files)\n",
    "for i, ap in enumerate(result._analysis_points):\n",
    "    data_dict = ap._values[0][0]\n",
    "    df = pd.DataFrame(data_dict)\n",
    "    dft = df.T\n",
    "    dft.columns = [i, i+1]\n",
    "    dfs.append(dft[i])\n",
    "\n",
    "df = pd.concat(dfs, axis=1)\n",
    "print(df)\n",
    "print(sum(df[0])/4460.0)\n",
    "print(sum(df[1])/4460.0)\n",
    "print(sum(df[2])/4460.0)\n",
    "print(sum(df[3])/4460.0)\n",
    "# df = pd.DataFrame({\n",
    "#   'IX': vol_3d_ind_flat[:, 0],\n",
    "#   'IY': vol_3d_ind_flat[:, 1],\n",
    "#   'IZ': vol_3d_ind_flat[:, 2],\n",
    "#   'value': vol_flat,\n",
    "#})\n",
    "# print result with legend\n",
    "# leg = [\"Daylight autonomy\", \"Continious daylight autonomy\", \"Useful daylight illuminance\", \"Less than UDI\", \"More than UDI\"]\n",
    "# for l, d in zip(leg, result.annual_metrics(da_threshhold=1)):\n",
    "#    print(l, d)\n",
    "\n",
    "# extract the points of interest from the recipe\n",
    "result_points = [[p[0], p[1], p[2]] for p in result.points]"
   ]
  },
  {
   "cell_type": "code",
   "execution_count": 65,
   "metadata": {},
   "outputs": [
    {
     "data": {
      "application/vnd.jupyter.widget-view+json": {
       "model_id": "d6e3a436fe90416aaed1ce825d6f1678",
       "version_major": 2,
       "version_minor": 0
      },
      "text/plain": [
       "Viewer(geometries=[{'vtkClass': 'vtkPolyData', 'points': {'vtkClass': 'vtkPoints', 'name': '_points', 'numberO…"
      ]
     },
     "metadata": {},
     "output_type": "display_data"
    }
   ],
   "source": [
    "# Plot using the ITKplotter\n",
    "pl = pv.PlotterITK()\n",
    "# add the external wall mesh\n",
    "pl.add_mesh(wal_mesh, smooth_shading=True)\n",
    "# add the external fens mesh, transparrent blue\n",
    "pl.add_mesh(fen_mesh, smooth_shading=True, opacity=0.3, color='#c1e2ff')\n",
    "# add points of interest : blue\n",
    "pl.add_points(pv.PolyData(result_points), color='#2499ff')\n",
    "# add sun points : orange\n",
    "pl.add_points(pv.PolyData(np.array(sun_vectors) * -20), color='#ffa500')\n",
    "# show the plot\n",
    "pl.show(True)"
   ]
  },
  {
   "cell_type": "code",
   "execution_count": null,
   "metadata": {},
   "outputs": [],
   "source": []
  }
 ],
 "metadata": {
  "kernelspec": {
   "display_name": "Python 3",
   "language": "python",
   "name": "python3"
  },
  "language_info": {
   "codemirror_mode": {
    "name": "ipython",
    "version": 3
   },
   "file_extension": ".py",
   "mimetype": "text/x-python",
   "name": "python",
   "nbconvert_exporter": "python",
   "pygments_lexer": "ipython3",
   "version": "3.8.5"
  }
 },
 "nbformat": 4,
 "nbformat_minor": 2
}
