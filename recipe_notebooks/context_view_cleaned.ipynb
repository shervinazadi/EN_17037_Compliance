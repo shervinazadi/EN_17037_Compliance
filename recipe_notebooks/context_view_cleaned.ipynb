{
 "metadata": {
  "language_info": {
   "codemirror_mode": {
    "name": "ipython",
    "version": 3
   },
   "file_extension": ".py",
   "mimetype": "text/x-python",
   "name": "python",
   "nbconvert_exporter": "python",
   "pygments_lexer": "ipython3",
   "version": "3.8.5-final"
  },
  "orig_nbformat": 2,
  "kernelspec": {
   "name": "python3",
   "display_name": "Python 3.8.5 64-bit ('environmental': conda)",
   "metadata": {
    "interpreter": {
     "hash": "e27e6096067a616dec79045cf409423a9c007e56e5a32f2b7b56e2bb4865536c"
    }
   }
  }
 },
 "nbformat": 4,
 "nbformat_minor": 2,
 "cells": [
  {
   "source": [
    "# Context View"
   ],
   "cell_type": "markdown",
   "metadata": {}
  },
  {
   "source": [
    "## 0. Initialization\n",
    "\n",
    "### 0.1. Importing libraries and setting global variables"
   ],
   "cell_type": "markdown",
   "metadata": {}
  },
  {
   "cell_type": "code",
   "execution_count": 1,
   "metadata": {},
   "outputs": [
    {
     "output_type": "stream",
     "name": "stdout",
     "text": [
      "Path to radiance is set to: /usr/local/radiance\nPath to perl is set to: /usr/bin\n"
     ]
    }
   ],
   "source": [
    "import esm\n",
    "import os\n",
    "import trimesh as tm \n",
    "import ladybug as lb\n",
    "from honeybee_plus.radiance.recipe.solaraccess.gridbased import SolarAccessGridBased\n",
    "from honeybee_plus.radiance.analysisgrid import AnalysisGrid\n",
    "\n",
    "cwd = os.getcwd()\n",
    "src = os.path.dirname(cwd)"
   ]
  },
  {
   "source": [
    "### 0.2. Importing geometries and assigning materials"
   ],
   "cell_type": "markdown",
   "metadata": {}
  },
  {
   "cell_type": "code",
   "execution_count": 2,
   "metadata": {},
   "outputs": [
    {
     "output_type": "stream",
     "name": "stderr",
     "text": [
      "faces have mixed data, using slow fallback!\n",
      "face lines are weird: 1 6 3 4 5 2\n",
      "faces have mixed data, using slow fallback!\n",
      "faces have mixed data, using slow fallback!\n"
     ]
    }
   ],
   "source": [
    "mesh_files = [\"test_room_walls_02.obj\", \"test_room_fens_02.obj\", \"test_context_01_buildings.obj\", \"test_context_01_ground.obj\", \"test_context_01_vegetation.obj\"]\n",
    "srf_types = [0.0, 0.5, 6.0, 6.0, 6.0]\n",
    "srf_names = [\"wall\", \"window\", \"context_buildings\", \"context_ground\", \"context_vegetation\"]\n",
    "srf_mats = [esm.material_plastic, esm.material_glass, esm.material_plastic, esm.material_plastic, esm.material_plastic]\n",
    "\n",
    "hb_surfaces = []\n",
    "for mesh_file, srf_type, srf_name, srf_mat in zip(mesh_files, srf_types, srf_names, srf_mats):\n",
    "    # file path\n",
    "    mesh_filepath = os.path.join(src, \"data\", mesh_file)\n",
    "    # load mesh\n",
    "    mesh = tm.load(mesh_filepath)\n",
    "    # create surface\n",
    "    hb_surf = esm.mesh_to_hbsurface(mesh.faces, mesh.vertices, srf_type, srf_name, srf_mat)\n",
    "    hb_surfaces.extend(hb_surf)"
   ]
  },
  {
   "source": [
    "### 0.3. Prepare Analysis Information"
   ],
   "cell_type": "markdown",
   "metadata": {}
  },
  {
   "cell_type": "code",
   "execution_count": 3,
   "metadata": {},
   "outputs": [],
   "source": [
    "# generate grid of test points\n",
    "test_pts = [(1, 1, 1),(6, 1, 1),(1, 6, 1),(1, 1, 6)]\n",
    "test_vec = [(0, 0, 1),(0, 0, 1),(0, 0, 1),(0, 0, 1)]\n",
    "analysis_grid = AnalysisGrid.from_points_and_vectors(test_pts, test_vec, 'test_grid')"
   ]
  },
  {
   "source": [
    "## 1. Simulation\n",
    "\n",
    "### 1.1. Create Recipe"
   ],
   "cell_type": "markdown",
   "metadata": {}
  },
  {
   "cell_type": "code",
   "execution_count": 4,
   "metadata": {},
   "outputs": [
    {
     "output_type": "stream",
     "name": "stdout",
     "text": [
      "Found 35213 opaque surfaces.\nFound 1 fenestration surfaces.\nFound 0 window-groups.\n"
     ]
    }
   ],
   "source": [
    "import esm\n",
    "\n",
    "# put the recipe together\n",
    "rp = esm.ContextViewGridBased(analysis_grids=(analysis_grid,), hb_objects=hb_surfaces)\n"
   ]
  },
  {
   "source": [
    "### 1.2. Create Batch Files"
   ],
   "cell_type": "markdown",
   "metadata": {}
  },
  {
   "cell_type": "code",
   "execution_count": 5,
   "metadata": {},
   "outputs": [
    {
     "output_type": "stream",
     "name": "stdout",
     "text": [
      "Writing recipe contents to: ./context_view_cleaned/gridbased\n",
      "Changed view_h_size and view_v_size to 180 for fisheye view type.\n"
     ]
    }
   ],
   "source": [
    "# write simulation to folder\n",
    "batch_file = rp.write(\n",
    "    target_folder='.', project_name='context_view_cleaned')"
   ]
  },
  {
   "source": [
    "### 1.3. Run the simulation"
   ],
   "cell_type": "markdown",
   "metadata": {}
  },
  {
   "cell_type": "code",
   "execution_count": 6,
   "metadata": {},
   "outputs": [
    {
     "output_type": "execute_result",
     "data": {
      "text/plain": [
       "True"
      ]
     },
     "metadata": {},
     "execution_count": 6
    }
   ],
   "source": [
    "# run the simulation\n",
    "rp.run(batch_file, debug=False)"
   ]
  },
  {
   "source": [
    "## 2. Results"
   ],
   "cell_type": "markdown",
   "metadata": {}
  },
  {
   "cell_type": "code",
   "execution_count": 7,
   "metadata": {},
   "outputs": [
    {
     "output_type": "stream",
     "name": "stdout",
     "text": [
      "Unloading the current values from the analysis grids.\n",
      "0    0.360762\n",
      "1    0.707848\n",
      "2    0.474439\n",
      "3    1.000000\n",
      "dtype: float64\n"
     ]
    }
   ],
   "source": [
    "result = esm.parse_results(rp, aggregate=True)\n",
    "print(result)"
   ]
  }
 ]
}