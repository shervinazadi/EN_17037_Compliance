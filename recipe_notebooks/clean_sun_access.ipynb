{
 "cells": [
  {
   "cell_type": "markdown",
   "metadata": {},
   "source": [
    "# Sun Access Example\n"
   ]
  },
  {
   "cell_type": "markdown",
   "metadata": {},
   "source": [
    "## 0. Initialization\n",
    "\n",
    "### 0.1. Importing libraries and setting global variables"
   ]
  },
  {
   "cell_type": "code",
   "execution_count": 235,
   "metadata": {},
   "outputs": [],
   "source": [
    "import esm\n",
    "import os\n",
    "import trimesh as tm \n",
    "import ladybug as lb\n",
    "import pandas as pd\n",
    "import matplotlib.pyplot as plt\n",
    "from matplotlib import colors\n",
    "from honeybee_plus.radiance.recipe.solaraccess.gridbased import SolarAccessGridBased\n",
    "from honeybee_plus.radiance.analysisgrid import AnalysisGrid\n",
    "\n",
    "cwd = os.getcwd()\n",
    "src = os.path.dirname(cwd)"
   ]
  },
  {
   "cell_type": "markdown",
   "metadata": {},
   "source": [
    "### 0.2. Importing geometries and assigning materials"
   ]
  },
  {
   "cell_type": "code",
   "execution_count": 2,
   "metadata": {},
   "outputs": [
    {
     "name": "stderr",
     "output_type": "stream",
     "text": [
      "face lines are weird: 1 6 3 4 5 2\n"
     ]
    }
   ],
   "source": [
    "# loading the wall mesh\n",
    "wal_filepath = os.path.join(src, \"data\", \"test_room_walls_02.obj\")\n",
    "wal_mesh = tm.load(wal_filepath)\n",
    "# converting wall mesh to HB Surfaces\n",
    "wal_hb_surf = esm.mesh_to_hbsurface(wal_mesh.faces, wal_mesh.vertices, 0, \"wall\", esm.material_plastic)\n",
    "\n",
    "# loading the window mesh\n",
    "fen_filepath = os.path.join(src, \"data\", \"test_room_fens_02.obj\")\n",
    "fen_mesh = tm.load(fen_filepath)\n",
    "# loading converting window mesh to HB Surfaces\n",
    "fen_hb_surf = esm.mesh_to_hbsurface(fen_mesh.faces, fen_mesh.vertices, 5, \"window\", esm.material_glass)\n",
    "\n",
    "# combining surface lists\n",
    "hb_surfaces = wal_hb_surf + fen_hb_surf"
   ]
  },
  {
   "cell_type": "markdown",
   "metadata": {},
   "source": [
    "### 0.3. Prepare Analysis Information"
   ]
  },
  {
   "cell_type": "code",
   "execution_count": 3,
   "metadata": {},
   "outputs": [],
   "source": [
    "# generate grid of test points\n",
    "test_pts = [(1, 1, 1),(6, 1, 1),(1, 6, 1),(1, 1, 6)]\n",
    "test_vec = [(0, 0, 1),(0, 0, 1),(0, 0, 1),(0, 0, 1)]\n",
    "analysis_grid = AnalysisGrid.from_points_and_vectors(test_pts, test_vec, 'test_grid')\n",
    "\n",
    "\n",
    "# initiate sunpath\n",
    "sp = lb.sunpath.Sunpath(longitude=4.3571, latitude=52.0116)\n",
    "\n",
    "# define sun hours : A list of hours of the year for each sun vector\n",
    "# there are 8760 hours in a year, so the following integers refer to specific hours throughout the year\n",
    "hoys = []\n",
    "sun_vectors = []\n",
    "for i in range(8760):\n",
    "    # compute the sun object\n",
    "    sun = sp.calculate_sun_from_hoy(i)\n",
    "    # extract the sun vector\n",
    "    sun_vector = sun.sun_vector.to_array()\n",
    "    # apparantly, if the Z component of sun vector is positive, it is under the horizon \n",
    "    if sun_vector[2] < 0.0:\n",
    "        hoys.append(i)\n",
    "        sun_vectors.append(sun_vector)"
   ]
  },
  {
   "cell_type": "markdown",
   "metadata": {},
   "source": [
    "## 1. Simulation\n",
    "\n",
    "### 1.1. Create Recipe"
   ]
  },
  {
   "cell_type": "code",
   "execution_count": 4,
   "metadata": {},
   "outputs": [
    {
     "name": "stdout",
     "output_type": "stream",
     "text": [
      "Found 82 opaque surfaces.\n",
      "Found 1 fenestration surfaces.\n",
      "Found 0 window-groups.\n"
     ]
    }
   ],
   "source": [
    "# put the recipe together\n",
    "rp = SolarAccessGridBased(sun_vectors, hoys, [analysis_grid], hb_objects=hb_surfaces)"
   ]
  },
  {
   "cell_type": "markdown",
   "metadata": {},
   "source": [
    "### 1.2. Create Batch Files"
   ]
  },
  {
   "cell_type": "code",
   "execution_count": 5,
   "metadata": {},
   "outputs": [
    {
     "name": "stdout",
     "output_type": "stream",
     "text": [
      "Writing recipe contents to: ./sun_acc_cleaned/solaraccess\n"
     ]
    }
   ],
   "source": [
    "# write simulation to folder\n",
    "batch_file = rp.write(\n",
    "    target_folder='.', project_name='sun_acc_cleaned')"
   ]
  },
  {
   "cell_type": "markdown",
   "metadata": {},
   "source": [
    "### 1.3. Run the simulation"
   ]
  },
  {
   "cell_type": "code",
   "execution_count": 6,
   "metadata": {},
   "outputs": [
    {
     "data": {
      "text/plain": [
       "True"
      ]
     },
     "execution_count": 6,
     "metadata": {},
     "output_type": "execute_result"
    }
   ],
   "source": [
    "# run the simulation\n",
    "rp.run(batch_file, debug=False)"
   ]
  },
  {
   "cell_type": "markdown",
   "metadata": {},
   "source": [
    "## 2. Results"
   ]
  },
  {
   "cell_type": "code",
   "execution_count": 7,
   "metadata": {},
   "outputs": [],
   "source": [
    "def parse_results(rp, aggregate=False):\n",
    "\n",
    "    df = pd.read_csv(rp._result_files, skiprows=13, sep='\\t', header=None)\n",
    "\n",
    "    if not aggregate:\n",
    "        return df\n",
    "    else:\n",
    "        return df.sum(axis=1) / df.shape[0]"
   ]
  },
  {
   "cell_type": "code",
   "execution_count": 8,
   "metadata": {},
   "outputs": [
    {
     "name": "stdout",
     "output_type": "stream",
     "text": [
      "       0         1         2         3        4         5         6     \\\n",
      "0  0.001089  0.002191  0.002902  0.003164  0.00296  0.000000  0.000000   \n",
      "1  0.001089  0.002191  0.002902  0.003164  0.00296  0.002303  0.001246   \n",
      "2  0.000000  0.000000  0.000000  0.000000  0.00000  0.000000  0.000000   \n",
      "3  0.001089  0.002191  0.002902  0.003164  0.00296  0.002303  0.001246   \n",
      "\n",
      "       7         8         9     ...      4451      4452      4453     4454  \\\n",
      "0  0.001096  0.002202  0.002916  ...  0.000000  0.000000  0.001083  0.00218   \n",
      "1  0.001096  0.002202  0.002916  ...  0.002253  0.001191  0.001083  0.00218   \n",
      "2  0.000000  0.000000  0.000000  ...  0.000000  0.000000  0.000000  0.00000   \n",
      "3  0.001096  0.002202  0.002916  ...  0.002253  0.001191  0.001083  0.00218   \n",
      "\n",
      "       4455      4456      4457      4458      4459  4460  \n",
      "0  0.002886  0.003144  0.002935  0.000000  0.000000   NaN  \n",
      "1  0.002886  0.003144  0.002935  0.002275  0.001215   NaN  \n",
      "2  0.000000  0.000000  0.000000  0.000000  0.000000   NaN  \n",
      "3  0.002886  0.003144  0.002935  0.002275  0.001215   NaN  \n",
      "\n",
      "[4 rows x 4461 columns]\n"
     ]
    }
   ],
   "source": [
    "result = parse_results(rp, aggregate=False)\n",
    "print(result)"
   ]
  },
  {
   "cell_type": "code",
   "execution_count": 169,
   "metadata": {},
   "outputs": [
    {
     "data": {
      "text/plain": [
       "<AxesSubplot:>"
      ]
     },
     "execution_count": 169,
     "metadata": {},
     "output_type": "execute_result"
    },
    {
     "data": {
      "image/png": "[encoded data removed]",
      "text/plain": [
       "<Figure size 432x288 with 1 Axes>"
      ]
     },
     "metadata": {
      "needs_background": "light"
     },
     "output_type": "display_data"
    }
   ],
   "source": [
    "# the indexes for the period 1st Feb and 21st March (included) are 258 and 774\n",
    "\n",
    "point = 2\n",
    "\n",
    "dates = pd.date_range(start='01-01-2021', end='31-12-2021 23:59:00', freq='H')\n",
    "result_timed = pd.DataFrame(index=range(8760), columns=['date','res','bin'], dtype='object')\n",
    "result_timed['date'] = list(dates)\n",
    "result_timed.loc[hoys,'res'] = result.iloc[point,:-1].values\n",
    "result_timed['bin'] = 1\n",
    "\n",
    "result_timed.index = dates\n",
    "\n",
    "result_timed.loc[:,'bin'] = result_timed.loc[:,'bin'].where(result_timed['res']>0,other=0)\n",
    "\n",
    "result_day = result_timed['bin'].resample('D').sum()\n",
    "result_day.plot()"
   ]
  },
  {
   "cell_type": "code",
   "execution_count": 272,
   "metadata": {},
   "outputs": [
    {
     "data": {
      "image/png": "[encoded data removed]",
      "text/plain": [
       "<Figure size 648x288 with 2 Axes>"
      ]
     },
     "metadata": {
      "needs_background": "light"
     },
     "output_type": "display_data"
    }
   ],
   "source": [
    "fig, ax1 = plt.subplots(figsize=(9,4))\n",
    "\n",
    "cmap = colors.ListedColormap(['navy', 'gold'])\n",
    "bounds=[0,.5,1]\n",
    "norm = colors.BoundaryNorm(bounds, cmap.N)\n",
    "\n",
    "xlabel = [str(i).split()[0] for i in result_day['2021-02-01':'2021-03-21'].index]\n",
    "\n",
    "ax1.imshow(result_timed['2021-02-01':'2021-03-21']['bin'].values.reshape(49,24).T, \n",
    "           aspect='auto', origin='lower', cmap=cmap, norm=norm)\n",
    "ax1.set_ylabel('Time')\n",
    "ax1.set_xlabel('Day')\n",
    "ax1.set_yticks(range(0,24,4))\n",
    "ax1.set_yticklabels(['','4:00','8:00','12:00','16:00','20:00'])\n",
    "# ax1.set_xticks(range(49))\n",
    "# ax1.set_xticklabels(xlabel, rotation=90, fontsize=8)\n",
    "ax1.grid(axis='y', color='w', ls=':')\n",
    "ax1.set_ylim(0,23)\n",
    "\n",
    "ax2 = ax1.twinx()\n",
    "\n",
    "ax2.plot(result_day['2021-02-01':'2021-03-21'].values, marker='o', color='turquoise')\n",
    "ax2.set_ylabel('# hours')\n",
    "\n",
    "fig.tight_layout()\n",
    "plt.show()"
   ]
  }
 ],
 "metadata": {
  "kernelspec": {
   "display_name": "Python 3",
   "language": "python",
   "name": "python3"
  },
  "language_info": {
   "codemirror_mode": {
    "name": "ipython",
    "version": 3
   },
   "file_extension": ".py",
   "mimetype": "text/x-python",
   "name": "python",
   "nbconvert_exporter": "python",
   "pygments_lexer": "ipython3",
   "version": "3.8.5"
  }
 },
 "nbformat": 4,
 "nbformat_minor": 2
}
