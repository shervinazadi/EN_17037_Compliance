{
 "cells": [
  {
   "cell_type": "code",
   "execution_count": 4,
   "metadata": {},
   "outputs": [],
   "source": [
    "import pyvista as pv\n",
    "# import topogenesis  as tp\n",
    "import numpy as np\n",
    "from honeybee_plus.hbsurface import HBSurface\n",
    "import os\n",
    "\n",
    "cwd = os.getcwd()\n",
    "src = os.path.dirname(cwd)"
   ]
  },
  {
   "cell_type": "code",
   "execution_count": 18,
   "metadata": {},
   "outputs": [
    {
     "output_type": "stream",
     "name": "stdout",
     "text": [
      "[HBSurface::3a311223-79ff::Wall, HBSurface::d2bea846-a35a::Wall, HBSurface::c272af62-8ee3::Wall, HBSurface::b3108b1e-f402::Wall, HBSurface::477138d3-c6db::Wall, HBSurface::9ebaa73b-d6c4::Wall, HBSurface::94442076-a01f::Wall, HBSurface::4c3a502e-66c6::Wall, HBSurface::dd2c0a6e-5b5f::Wall, HBSurface::92b89b7f-02b0::Wall, HBSurface::55151a79-2173::Wall, HBSurface::e21b48d5-20df::Wall, HBSurface::1433c85f-2aa1::Wall, HBSurface::235c860f-ce2f::Wall, HBSurface::79b06b89-efa2::Wall, HBSurface::100ef690-e4a6::Wall, HBSurface::0d5e80e6-ae96::Wall, HBSurface::85983891-e458::Wall, HBSurface::7320c045-5475::Wall, HBSurface::ed5cf1d9-f5f2::Wall, HBSurface::94b7a8e4-9950::Wall, HBSurface::60fe77d1-ebb2::Wall, HBSurface::cc50b5b6-e0fc::Wall, HBSurface::a38c1c84-d010::Wall, HBSurface::ec6bcfc0-038c::Wall, HBSurface::721b60c1-2446::Wall, HBSurface::17eb845a-5269::Wall, HBSurface::0879e490-6e32::Wall, HBSurface::4dae0bab-6de8::Wall, HBSurface::fe678a2c-12e5::Wall, HBSurface::ddda9719-caff::Wall, HBSurface::14878c76-e213::Wall, HBSurface::477aa8e4-0801::Wall, HBSurface::1c2b2a63-0681::Wall, HBSurface::899650b7-baed::Wall, HBSurface::5414d969-de65::Wall, HBSurface::f44ee4b6-a7f4::Wall, HBSurface::e1936fa6-c998::Wall, HBSurface::af626ff2-fb08::Wall, HBSurface::bde0d106-cfc4::Wall, HBSurface::2e613c2c-f8f0::Wall, HBSurface::b4de8cfd-d585::Wall, HBSurface::9f2844cb-a6ec::Wall, HBSurface::785cd69a-13ef::Wall, HBSurface::4729869e-7d6a::Wall, HBSurface::1fce73af-de90::Wall, HBSurface::331df2a6-0726::Wall, HBSurface::732cea31-d170::Wall, HBSurface::5f2e4dc4-217f::Wall, HBSurface::3047bbf4-65d8::Wall, HBSurface::db32482f-b47e::Wall, HBSurface::e11a54fd-3188::Wall, HBSurface::1219b940-cc63::Wall, HBSurface::2f67037c-ee98::Wall, HBSurface::a953439f-1dca::Wall, HBSurface::430bce5a-95f4::Wall, HBSurface::85bca677-043a::Wall, HBSurface::1afa9143-e9a9::Wall, HBSurface::2dd0c414-6fb3::Wall, HBSurface::d232a537-4521::Wall, HBSurface::7765d6ef-0462::Wall, HBSurface::b736120c-ccac::Wall, HBSurface::34540473-4a3f::Wall, HBSurface::793d9514-e70b::Wall, HBSurface::4c532335-a6f5::Wall, HBSurface::760a7f4d-c31c::Wall, HBSurface::ac106855-817e::Wall, HBSurface::1eb89160-0af6::Wall, HBSurface::4d818878-44e1::Wall, HBSurface::be33cbf9-f116::Wall, HBSurface::0b571c30-e3a4::Wall, HBSurface::2e0e18b0-6f19::Wall, HBSurface::96669142-1180::Wall, HBSurface::a9a6b683-0943::Wall, HBSurface::88470e72-50bd::Wall, HBSurface::e8ac5eb4-cb08::Wall, HBSurface::20cff064-bb70::Wall, HBSurface::a1be587c-bfbe::Wall]\n[ 3 40  1  0  3  8 40  0  3  3  2 41  3 40 41  2  3 39 40  8  3 39 10 52\n  3 52 10 12  3 53 12 14  3 52 53 37  3 52 38 39  3 53 36 37  3  8 10 39\n  3  5  4 43  3 42  4  3  3 43 44  5  3 44  7  6  3  7 44  9  3 44 45  9\n  3 55 45 46  3 56 47 48  3 46 47 55  3 45 55 11  3 11 55 56  3 56 48 57\n  3 13 56 57  3  9 45 11  3 54 14 16  3 53 54 36  3 34 35 58  3 34 58 33\n  3 58 16 18  3 58 59 33  3 18 32 59  3 20 32 18  3 21 32 20  3 31 32 22\n  3 22 23 31  3 59 32 33  3 60 57 49  3 57 48 49  3 51 60 50  3 60 17 15\n  3 61 19 17  3 60 51 61  3 61 51 28  3 29 30 24  3 24 30 23  3 28 29 25\n  3 27 19 28  3 28 19 61  3 28 26 27  3 54 35 36  3  3 41 42  3 40  2  1\n  3 52 12 53  3 53 14 54  3 52 37 38  3  4 42 43  3 44  6  5  3 47 56 55\n  3 11 56 13  3 13 57 15  3 54 16 58  3 35 54 58  3 58 18 59  3 32 21 22\n  3 23 30 31  3 60 49 50  3 60 15 57  3 61 17 60  3 29 24 25  3 28 25 26\n  4 65 63 62 64  4 69 68 66 67  4 73 71 70 72  4 77 75 74 76  4 81 79 78\n 80  6 82 87 84 85 86 83]\n"
     ]
    }
   ],
   "source": [
    "filepath = os.path.join(src, \"data\", \"test_room_01.obj\")\n",
    "mesh = pv.read(filepath)\n",
    "# print(mesh.is_all_triangles())\n",
    "\n",
    "# srf_dict = {\n",
    "#     'name': 'floor', \n",
    "#     'vertices': [[(0, 0, 3.2), (-4.242640687119285, 4.242640687119286, 3.2), (-1.2727922061357848, 7.212489168102785, 3.2), (2.9698484809835, 2.9698484809834995, 3.2)]], \n",
    "#     'surface_material': {\n",
    "#         'modifier': 'void', \n",
    "#         'type': 'plastic', \n",
    "#         'name': 'generic_floor', \n",
    "#         'r_reflectance': 0.2, \n",
    "#         'g_reflectance': 0.2, \n",
    "#         'b_reflectance': 0.2, \n",
    "#         'specularity': 0.0, \n",
    "#         'roughness': 0.0}, \n",
    "#     'surface_type': 2.0\n",
    "# }\n",
    "face_list = list(mesh.faces)\n",
    "hb_surfaces = []\n",
    "e = 0\n",
    "while e < len(face_list):\n",
    "    v_count = face_list[e]\n",
    "    vertices = []\n",
    "    for v in range(v_count):\n",
    "        e += 1\n",
    "        vertices.append(list(mesh.points[face_list[e]]))\n",
    "    srf_dict = {\n",
    "        \"name\": \"\",\n",
    "        \"vertices\": vertices, # [[(x, y, z), (x1, y1, z1), (x2, y2, z2)]],\n",
    "        \"surface_material\": {\n",
    "            'modifier': 'void', \n",
    "            'type': 'plastic', \n",
    "            'name': 'generic_floor', \n",
    "            'r_reflectance': 0.2, \n",
    "            'g_reflectance': 0.2, \n",
    "            'b_reflectance': 0.2, \n",
    "            'specularity': 0.0, \n",
    "            'roughness': 0.0},\n",
    "        \"surface_type\": 0  # 0: wall, 5: window\n",
    "        }\n",
    "    hbsrf = HBSurface.from_json(srf_dict)\n",
    "    hb_surfaces.append(hbsrf)\n",
    "    e += 1\n",
    "\n",
    "\n",
    "\n",
    "print(hb_surfaces)\n",
    "# print(type(mesh))\n",
    "# print(mesh.points)\n",
    "print(mesh.faces)"
   ]
  },
  {
   "cell_type": "code",
   "execution_count": null,
   "metadata": {},
   "outputs": [],
   "source": [
    "# Plot using the ITKplotter\n",
    "pl = pv.PlotterITK()\n",
    "pl.add_mesh(mesh, smooth_shading=True)\n",
    "pl.show(True)"
   ]
  },
  {
   "cell_type": "code",
   "execution_count": null,
   "metadata": {},
   "outputs": [],
   "source": []
  }
 ],
 "metadata": {
  "kernelspec": {
   "display_name": "Python 3",
   "language": "python",
   "name": "python3"
  },
  "language_info": {
   "codemirror_mode": {
    "name": "ipython",
    "version": 3
   },
   "file_extension": ".py",
   "mimetype": "text/x-python",
   "name": "python",
   "nbconvert_exporter": "python",
   "pygments_lexer": "ipython3",
   "version": "3.8.5-final"
  }
 },
 "nbformat": 4,
 "nbformat_minor": 2
}