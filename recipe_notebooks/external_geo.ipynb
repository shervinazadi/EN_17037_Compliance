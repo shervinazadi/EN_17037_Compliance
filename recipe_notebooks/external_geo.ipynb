{
 "cells": [
  {
   "cell_type": "code",
   "execution_count": 1,
   "metadata": {},
   "outputs": [
    {
     "name": "stdout",
     "output_type": "stream",
     "text": [
      "Path to radiance is set to: /usr/local/radiance\n",
      "Path to perl is set to: /usr/bin\n"
     ]
    }
   ],
   "source": [
    "import pyvista as pv\n",
    "# import topogenesis  as tp\n",
    "import numpy as np\n",
    "from honeybee_plus.hbsurface import HBSurface\n",
    "import os\n",
    "\n",
    "cwd = os.getcwd()\n",
    "src = os.path.dirname(cwd)"
   ]
  },
  {
   "cell_type": "code",
   "execution_count": 2,
   "metadata": {},
   "outputs": [
    {
     "name": "stdout",
     "output_type": "stream",
     "text": [
      "[HBSurface::905e1837-6698::Wall, HBSurface::aa92d28d-db30::Wall, HBSurface::5836b100-9d7d::Wall, HBSurface::bb337a6d-228a::Wall, HBSurface::ab5ccefd-058f::Wall, HBSurface::fbef5bb3-d82d::Wall, HBSurface::1e8fb598-fba7::Wall, HBSurface::5d7a361e-da6b::Wall, HBSurface::8bb6b2a7-81ba::Wall, HBSurface::b7482b97-7abc::Wall, HBSurface::74724d18-c55d::Wall, HBSurface::4fb843ea-2fd7::Wall, HBSurface::6e1fd419-fa0b::Wall, HBSurface::aa7e090d-24ab::Wall, HBSurface::d7bf65e7-cc65::Wall, HBSurface::f7e2a163-2566::Wall, HBSurface::b5e2a8c3-28fc::Wall, HBSurface::900facdb-dcc4::Wall, HBSurface::ccfcd518-519c::Wall, HBSurface::88b9aca4-f801::Wall, HBSurface::9b30c0d8-dc54::Wall, HBSurface::515f9a5f-5349::Wall, HBSurface::7c784386-b985::Wall, HBSurface::19370b63-edf2::Wall, HBSurface::d569ec54-c099::Wall, HBSurface::0d69aa26-686f::Wall, HBSurface::9e4f9850-890c::Wall, HBSurface::98584f93-4c77::Wall, HBSurface::e0e7523d-61f8::Wall, HBSurface::f32543c3-a5fb::Wall, HBSurface::b289f177-23e8::Wall, HBSurface::9ad2eb3e-cf63::Wall, HBSurface::aea7ad1a-da1c::Wall, HBSurface::bc117286-856c::Wall, HBSurface::7f60feda-f6f0::Wall, HBSurface::7ee4479c-b8c6::Wall, HBSurface::59a9828d-21aa::Wall, HBSurface::5ff9939f-0034::Wall, HBSurface::47b097e2-3f92::Wall, HBSurface::b2b90c15-8526::Wall, HBSurface::45ad9987-4081::Wall, HBSurface::b6b884cb-ed4a::Wall, HBSurface::9251f74d-2142::Wall, HBSurface::7b0dcd73-bf6a::Wall, HBSurface::8240fad8-f18e::Wall, HBSurface::e6c1c4fd-d97c::Wall, HBSurface::c28c2f93-3a19::Wall, HBSurface::8a2cf02e-2f51::Wall, HBSurface::bdb7c79e-da65::Wall, HBSurface::b668215d-e350::Wall, HBSurface::55857d9f-7422::Wall, HBSurface::52f3bbd9-0aae::Wall, HBSurface::2f0b5974-fc49::Wall, HBSurface::8a10b31b-448d::Wall, HBSurface::bac10058-4f55::Wall, HBSurface::24377f9f-5686::Wall, HBSurface::fe962a87-b270::Wall, HBSurface::7c958578-5286::Wall, HBSurface::1798406d-8015::Wall, HBSurface::b703de12-aa82::Wall, HBSurface::eebcf618-713f::Wall, HBSurface::88512c6b-427b::Wall, HBSurface::3d91c62d-a52a::Wall, HBSurface::5af36789-2b73::Wall, HBSurface::a1556d9c-f558::Wall, HBSurface::86ff5781-9467::Wall, HBSurface::827078d0-0825::Wall, HBSurface::3c00d9a2-0f00::Wall, HBSurface::9a3e3e0a-e9dc::Wall, HBSurface::2b293d28-b1e4::Wall, HBSurface::2e9b7e5c-8ca9::Wall, HBSurface::7a1ced06-7224::Wall, HBSurface::e3f1eacc-b019::Wall, HBSurface::5921c9a1-48d1::Wall, HBSurface::e0959926-91df::Wall, HBSurface::d9861ff6-e0c9::Wall, HBSurface::5bfed7dd-cd0f::Wall, HBSurface::071d5e3b-3788::Wall]\n",
      "[ 3 40  1  0  3  8 40  0  3  3  2 41  3 40 41  2  3 39 40  8  3 39 10 52\n",
      "  3 52 10 12  3 53 12 14  3 52 53 37  3 52 38 39  3 53 36 37  3  8 10 39\n",
      "  3  5  4 43  3 42  4  3  3 43 44  5  3 44  7  6  3  7 44  9  3 44 45  9\n",
      "  3 55 45 46  3 56 47 48  3 46 47 55  3 45 55 11  3 11 55 56  3 56 48 57\n",
      "  3 13 56 57  3  9 45 11  3 54 14 16  3 53 54 36  3 34 35 58  3 34 58 33\n",
      "  3 58 16 18  3 58 59 33  3 18 32 59  3 20 32 18  3 21 32 20  3 31 32 22\n",
      "  3 22 23 31  3 59 32 33  3 60 57 49  3 57 48 49  3 51 60 50  3 60 17 15\n",
      "  3 61 19 17  3 60 51 61  3 61 51 28  3 29 30 24  3 24 30 23  3 28 29 25\n",
      "  3 27 19 28  3 28 19 61  3 28 26 27  3 54 35 36  3  3 41 42  3 40  2  1\n",
      "  3 52 12 53  3 53 14 54  3 52 37 38  3  4 42 43  3 44  6  5  3 47 56 55\n",
      "  3 11 56 13  3 13 57 15  3 54 16 58  3 35 54 58  3 58 18 59  3 32 21 22\n",
      "  3 23 30 31  3 60 49 50  3 60 15 57  3 61 17 60  3 29 24 25  3 28 25 26\n",
      "  4 65 63 62 64  4 69 68 66 67  4 73 71 70 72  4 77 75 74 76  4 81 79 78\n",
      " 80  6 82 87 84 85 86 83]\n"
     ]
    }
   ],
   "source": [
    "filepath = os.path.join(src, \"data\", \"test_room_01.obj\")\n",
    "mesh = pv.read(filepath)\n",
    "# print(mesh.is_all_triangles())\n",
    "\n",
    "# srf_dict = {\n",
    "#     'name': 'floor', \n",
    "#     'vertices': [[(0, 0, 3.2), (-4.242640687119285, 4.242640687119286, 3.2), (-1.2727922061357848, 7.212489168102785, 3.2), (2.9698484809835, 2.9698484809834995, 3.2)]], \n",
    "#     'surface_material': {\n",
    "#         'modifier': 'void', \n",
    "#         'type': 'plastic', \n",
    "#         'name': 'generic_floor', \n",
    "#         'r_reflectance': 0.2, \n",
    "#         'g_reflectance': 0.2, \n",
    "#         'b_reflectance': 0.2, \n",
    "#         'specularity': 0.0, \n",
    "#         'roughness': 0.0}, \n",
    "#     'surface_type': 2.0\n",
    "# }\n",
    "face_list = list(mesh.faces)\n",
    "hb_surfaces = []\n",
    "e = 0\n",
    "while e < len(face_list):\n",
    "    v_count = face_list[e]\n",
    "    vertices = []\n",
    "    for v in range(v_count):\n",
    "        e += 1\n",
    "        vertices.append(list(mesh.points[face_list[e]]))\n",
    "    srf_dict = {\n",
    "        \"name\": \"\",\n",
    "        \"vertices\": vertices, # [[(x, y, z), (x1, y1, z1), (x2, y2, z2)]],\n",
    "        \"surface_material\": {\n",
    "            'modifier': 'void', \n",
    "            'type': 'plastic', \n",
    "            'name': 'generic_floor', \n",
    "            'r_reflectance': 0.2, \n",
    "            'g_reflectance': 0.2, \n",
    "            'b_reflectance': 0.2, \n",
    "            'specularity': 0.0, \n",
    "            'roughness': 0.0},\n",
    "        \"surface_type\": 0  # 0: wall, 5: window\n",
    "        }\n",
    "    hbsrf = HBSurface.from_json(srf_dict)\n",
    "    hb_surfaces.append(hbsrf)\n",
    "    e += 1\n",
    "\n",
    "\n",
    "print(hb_surfaces)\n",
    "# print(type(mesh))\n",
    "# print(mesh.points)\n",
    "print(mesh.faces)"
   ]
  },
  {
   "cell_type": "code",
   "execution_count": 3,
   "metadata": {},
   "outputs": [
    {
     "data": {
      "application/vnd.jupyter.widget-view+json": {
       "model_id": "3447dc25a44c41729f92de1fa03c84f8",
       "version_major": 2,
       "version_minor": 0
      },
      "text/plain": [
       "Viewer(geometries=[{'vtkClass': 'vtkPolyData', 'points': {'vtkClass': 'vtkPoints', 'name': '_points', 'numberO…"
      ]
     },
     "metadata": {},
     "output_type": "display_data"
    }
   ],
   "source": [
    "# Plot using the ITKplotter\n",
    "pl = pv.PlotterITK()\n",
    "pl.add_mesh(mesh, smooth_shading=True)\n",
    "pl.show(True)"
   ]
  },
  {
   "cell_type": "code",
   "execution_count": null,
   "metadata": {},
   "outputs": [],
   "source": []
  }
 ],
 "metadata": {
  "kernelspec": {
   "display_name": "Python 3",
   "language": "python",
   "name": "python3"
  },
  "language_info": {
   "codemirror_mode": {
    "name": "ipython",
    "version": 3
   },
   "file_extension": ".py",
   "mimetype": "text/x-python",
   "name": "python",
   "nbconvert_exporter": "python",
   "pygments_lexer": "ipython3",
   "version": "3.8.5"
  }
 },
 "nbformat": 4,
 "nbformat_minor": 2
}
