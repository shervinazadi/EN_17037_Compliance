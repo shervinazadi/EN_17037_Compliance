{
 "cells": [
  {
   "cell_type": "code",
   "execution_count": 1,
   "metadata": {},
   "outputs": [
    {
     "output_type": "stream",
     "name": "stdout",
     "text": [
      "Path to radiance is set to: /usr/local/radiance\nPath to perl is set to: /usr/bin\n"
     ]
    }
   ],
   "source": [
    "import pyvista as pv\n",
    "# import topogenesis  as tp\n",
    "import numpy as np\n",
    "from honeybee_plus.hbsurface import HBSurface\n",
    "from honeybee_plus.radiance.recipe.solaraccess.gridbased import SolarAccessGridBased\n",
    "from honeybee_plus.radiance.sky.certainIlluminance import CertainIlluminanceLevel\n",
    "from honeybee_plus.radiance.recipe.pointintime.gridbased import GridBased\n",
    "from honeybee_plus.radiance.analysisgrid import AnalysisGrid\n",
    "from honeybee_plus.radiance.parameters.rtrace import LowQuality, RtraceParameters\n",
    "import os\n",
    "import ladybug as lb\n",
    "import pandas as pd\n",
    "\n",
    "cwd = os.getcwd()\n",
    "src = os.path.dirname(cwd)"
   ]
  },
  {
   "cell_type": "code",
   "execution_count": 2,
   "metadata": {},
   "outputs": [],
   "source": [
    "material_glass = {'modifier': 'void', \n",
    "                 'type': 'glass', \n",
    "                 'name': 'generic_glass', \n",
    "                 'r_transmittance': 0.6, \n",
    "                 'g_transmittance': 0.6, \n",
    "                 'b_transmittance': 0.6, \n",
    "                 'refraction_index': 1.52\n",
    "                }\n",
    "material_plastic = {'modifier': 'void', \n",
    "                   'type': 'plastic', \n",
    "                   'name': 'generic_plastic', \n",
    "                   'r_reflectance': 0.2, \n",
    "                   'g_reflectance': 0.2, \n",
    "                   'b_reflectance': 0.2, \n",
    "                   'specularity': 0.0, \n",
    "                   'roughness': 0.0}\n",
    "def mesh_to_hbsurface(mesh, s_type, s_name, mat):\n",
    "    hb_surfaces = []\n",
    "    face_list = list(mesh.faces)\n",
    "    e = 0\n",
    "    while e < len(face_list):\n",
    "        v_count = face_list[e]\n",
    "        vertices = []\n",
    "        for v in range(v_count):\n",
    "            e += 1\n",
    "            vertices.append(list(mesh.points[face_list[e]]))\n",
    "        srf_dict = {\n",
    "            \"name\": s_name,\n",
    "            \"vertices\": vertices, # [[(x, y, z), (x1, y1, z1), (x2, y2, z2)]],\n",
    "            \"surface_material\": mat,\n",
    "            \"surface_type\": s_type  # 0: wall, 5: window \n",
    "            # TODO: look for the lables of ceiling and floor\n",
    "            # TODO: check if radiance need unique names for surfaces!\n",
    "            }\n",
    "        srf_dict[\"surface_material\"][\"name\"] = s_name\n",
    "        hbsrf = HBSurface.from_json(srf_dict)\n",
    "        hb_surfaces.append(hbsrf)\n",
    "        e += 1\n",
    "    return hb_surfaces"
   ]
  },
  {
   "cell_type": "code",
   "execution_count": 3,
   "metadata": {},
   "outputs": [],
   "source": [
    "# import all external geometry with pyvista\n",
    "wal_filepath = os.path.join(src, \"data\", \"test_room_walls_02.obj\")\n",
    "wal_mesh = pv.read(wal_filepath)\n",
    "fen_filepath = os.path.join(src, \"data\", \"test_room_fens_02.obj\")\n",
    "fen_mesh = pv.read(fen_filepath)\n",
    "\n",
    "con_buildings_filepath = os.path.join(src, \"data\", \"test_context_01_buildings.obj\")\n",
    "con_buildings_mesh = pv.read(con_buildings_filepath)\n",
    "con_ground_filepath = os.path.join(src, \"data\", \"test_context_01_ground.obj\")\n",
    "con_ground_mesh = pv.read(con_ground_filepath)\n",
    "con_sky_filepath = os.path.join(src, \"data\", \"test_context_01_sky.obj\")\n",
    "con_sky_mesh = pv.read(con_sky_filepath)\n",
    "con_vegetation_filepath = os.path.join(src, \"data\", \"test_context_01_vegetation.obj\")\n",
    "con_vegetation_mesh = pv.read(con_vegetation_filepath)\n",
    "\n",
    "# construct honeybee surfaces from the mesh\n",
    "wal_hb_surf = mesh_to_hbsurface(wal_mesh, 0, \"wall\", material_plastic)\n",
    "fen_hb_surf = mesh_to_hbsurface(fen_mesh, 5, \"window\", material_glass)\n",
    "con_buildings_hb_surf = mesh_to_hbsurface(con_buildings_mesh, 0, \"context_buildings\", material_plastic)\n",
    "con_ground_hb_surf = mesh_to_hbsurface(con_ground_mesh, 0, \"context_ground\", material_plastic)\n",
    "con_sky_hb_surf = mesh_to_hbsurface(con_sky_mesh, 0, \"context_sky\", material_plastic)\n",
    "con_vegetation_hb_surf = mesh_to_hbsurface(con_vegetation_mesh, 0, \"context_vegetation\", material_plastic)\n",
    "\n",
    "hb_surfaces = wal_hb_surf + fen_hb_surf + con_buildings_hb_surf + con_ground_hb_surf + con_sky_hb_surf + con_vegetation_hb_surf\n",
    "# TODO: look into tagging system for out_view to specify the \"external environment\"\n",
    "\n",
    "# print(hb_surfaces)\n",
    "# print(type(mesh))\n",
    "# print(mesh.points)\n",
    "# print(mesh.faces)"
   ]
  },
  {
   "cell_type": "code",
   "execution_count": 4,
   "metadata": {
    "tags": []
   },
   "outputs": [
    {
     "output_type": "stream",
     "name": "stdout",
     "text": [
      "Uniform CIE sky based on illuminance value.\n\n    Attributes:\n        illuminance_value: Desired illuminance value in lux\n        sky_type: An integer between 0..1 to indicate CIE Sky Type.\n            [0] cloudy sky, [1] uniform sky (default: 0)\n        suffix: An optional suffix for sky name. The suffix will be added at the\n            end of the standard name. Use this input to customize the new and\n            avoid sky being overwritten by other skymatrix components.\n    Usage:\n\n        sky = CertainIlluminanceLevel(1000)\n        sky.execute(\"c:/ladybug/1000luxsky.sky\")\n    \nFound 6386 opaque surfaces.\nFound 1 fenestration surfaces.\nFound 0 window-groups.\n"
     ]
    }
   ],
   "source": [
    "# generate grid of test points\n",
    "test_pts = [(1, 1, 1),(6, 1, 1),(1, 6, 1),(1, 1, 6)]\n",
    "test_vec = [(0, 0, 1),(0, 0, 1),(0, 0, 1),(0, 0, 1)]\n",
    "analysis_grid = AnalysisGrid.from_points_and_vectors(test_pts, test_vec, 'test_grid')\n",
    "\n",
    "# generate the sky\n",
    "sky = CertainIlluminanceLevel(illuminance_value=2000,sky_type=1)\n",
    "print(CertainIlluminanceLevel.__doc__)\n",
    "\n",
    "# put the recipe together # note simulation type is changed\n",
    "rp = GridBased(sky=sky, analysis_grids=(analysis_grid,), simulation_type=2,\n",
    "               hb_objects=hb_surfaces)"
   ]
  },
  {
   "cell_type": "code",
   "execution_count": 5,
   "metadata": {},
   "outputs": [
    {
     "output_type": "stream",
     "name": "stdout",
     "text": [
      "2\n",
      "-aa 0.25 -ab 2 -ad 512 -ar 16 -as 128 -dc 0.25 -dj 0.0 -dp 64 -ds 0.5 -dr 0 -dt 0.5 -lr 4 -lw 0.05 -ss 0.0 -st 0.85\n",
      "-aa 0.25 -ab 0 -ad 512 -ar 16 -as 128 -dc 0.25 -dj 0.0 -dp 64 -ds 0.5 -dr 0 -dt 0.5 -lr 4 -lw 0.05 -ss 0.0 -st 0.85\n",
      "-aa 0.25 -ab 0 -ad 512 -ar 16 -as 128 -dc 0.25 -dj 0.0 -dp 64 -ds 0.5 -dr 0 -dt 0.5 -lr 4 -lw 0.05 -os -ss 0.0 -st 0.85\n",
      "-aa 0.25 -ab 2 -ad 512 -ar 16 -as 128 -dc 0.25 -dj 0.0 -dp 64 -ds 0.5 -dr 0 -dt 0.5 -lr 4 -lw 0.05 -ss 0.0 -st 0.85\n",
      "Writing recipe contents to: ./external_context_view/gridbased\n",
      "0 #!/usr/bin/env bash\n",
      "\n",
      "\n",
      "\n",
      "cd ./external_context_view/gridbased\n",
      "\n",
      "1 /usr/local/radiance/bin/gensky 9 21 12 -u -B 11.1731843575419 > sky/CertainIlluminanceLevel_2000.sky\n",
      "2 /usr/local/radiance/bin/oconv -f sky/CertainIlluminanceLevel_2000.sky sky/groundSky.rad scene/opaque/external_context_view..opq.mat scene/opaque/external_context_view..opq.rad scene/glazing/external_context_view..glz.mat scene/glazing/external_context_view..glz.rad > external_context_view.oct\n",
      "3 /usr/local/radiance/bin/rtrace -aa 0.25 -ab 0 -ad 512 -ar 16 -as 128 -dc 0.25 -dj 0.0 -dp 64 -ds 0.5 -dr 0 -dt 0.5 -e error.txt -h -lr 4 -lw 0.05 -os -ss 0.0 -st 0.85 external_context_view.oct < external_context_view.pts > result/external_context_view.res\n",
      "4 /usr/local/radiance/bin/rcalc -e '$1=(0.265*$1+0.67*$2+0.065*$3)*179' result/external_context_view.res > result/external_context_view.ill\n"
     ]
    }
   ],
   "source": [
    "# rp.simulation_type = 1\n",
    "print(rp.simulation_type)\n",
    "# check the -n flag for the number of parallel proceses, find the number of cpu cores here: https://askubuntu.com/questions/724228/how-to-find-the-number-of-cpu-cores-including-virtual   https://superuser.com/questions/1101311/how-many-cores-does-my-mac-have\n",
    "rad_param = RtraceParameters(0)\n",
    "print(rad_param)\n",
    "rad_param.ambient_bounces = 0\n",
    "print(rad_param)\n",
    "rad_param.output_spec = \"s\"\n",
    "print(rad_param)\n",
    "# update the radiance parameters\n",
    "print(rp.radiance_parameters)\n",
    "rp.radiance_parameters = rad_param\n",
    "\n",
    "# write simulation to folder\n",
    "batch_file = rp.write(\n",
    "    target_folder='.', project_name='external_context_view')\n",
    "\n",
    "# print the radiance commands\n",
    "for i,com in enumerate(rp._commands):\n",
    "    print(i, com)\n",
    "\n",
    "# change the commands\n",
    "#rp._commands[3] = \"/usr/local/radiance/bin/rtrace -os -aa 0.25 -ab 0 -ad 512 -ar 16 -as 128 -dc 0.25 -dj 0.0 -dp 64 -ds 0.5 -dr 0 -dt 0.5 -e error.txt -h -I -lr 4 -lw 0.05 -ss 0.0 -st 0.85 external_context_view.oct < external_context_view.pts > result/external_context_view.res\""
   ]
  },
  {
   "cell_type": "code",
   "execution_count": null,
   "metadata": {
    "scrolled": true
   },
   "outputs": [],
   "source": [
    "# run the simulation\n",
    "rp.run(batch_file, debug=False)\n",
    "\n",
    "# https://www.radiance-online.org/learning/documentation/manual-pages/pdfs/rmtxop.pdf\n",
    "# Eleonora: rmtxop multiplies the daylight coefficient matrices with the sky vectors. This is necessary for getting illuminance from daylight coefficients computed w.r.t. rgb components. \n",
    "# Sun Access of points, and how to interpret them https://floyd.lbl.gov/radiance/refer/usman2.pdf"
   ]
  },
  {
   "cell_type": "code",
   "execution_count": null,
   "metadata": {},
   "outputs": [],
   "source": [
    "# results - in this case it will be an analysis grid\n",
    "result = rp.results()[0]\n",
    "dfs = []\n",
    "\n",
    "# print(result.result_files)\n",
    "for i, ap in enumerate(result._analysis_points):\n",
    "    data_dict = ap._values[0][0]\n",
    "    print(data_dict)\n",
    "    # df = pd.DataFrame(data_dict)\n",
    "    # dft = df.T\n",
    "    # dft.columns = [i, i+1]\n",
    "    # dfs.append(dft[i])\n",
    "\n",
    "# df = pd.concat(dfs, axis=1)\n",
    "# print(df)\n",
    "# print(sum(df[0])/4460.0)\n",
    "# print(sum(df[1])/4460.0)\n",
    "# print(sum(df[2])/4460.0)\n",
    "# print(sum(df[3])/4460.0)\n",
    "# df = pd.DataFrame({\n",
    "#   'IX': vol_3d_ind_flat[:, 0],\n",
    "#   'IY': vol_3d_ind_flat[:, 1],\n",
    "#   'IZ': vol_3d_ind_flat[:, 2],\n",
    "#   'value': vol_flat,\n",
    "#})\n",
    "# print result with legend\n",
    "# leg = [\"Daylight autonomy\", \"Continious daylight autonomy\", \"Useful daylight illuminance\", \"Less than UDI\", \"More than UDI\"]\n",
    "# for l, d in zip(leg, result.annual_metrics(da_threshhold=1)):\n",
    "#    print(l, d)\n",
    "\n",
    "# extract the points of interest from the recipe\n",
    "result_points = [[p[0], p[1], p[2]] for p in result.points]"
   ]
  },
  {
   "cell_type": "code",
   "execution_count": null,
   "metadata": {},
   "outputs": [],
   "source": [
    "# Plot using the ITKplotter\n",
    "pl = pv.PlotterITK()\n",
    "# add the external wall mesh\n",
    "pl.add_mesh(wal_mesh, smooth_shading=True)\n",
    "# add the external fens mesh, transparrent blue\n",
    "pl.add_mesh(fen_mesh, smooth_shading=True, opacity=0.3, color='#c1e2ff')\n",
    "# add the context mesh, transparrent grey\n",
    "pl.add_mesh(con_buildings_mesh, smooth_shading=True, opacity=0.3)\n",
    "pl.add_mesh(con_ground_mesh, smooth_shading=True, opacity=0.3)\n",
    "pl.add_mesh(con_sky_mesh, smooth_shading=True, opacity=0.3)\n",
    "pl.add_mesh(con_vegetation_mesh, smooth_shading=True, opacity=0.3)\n",
    "# add points of interest : blue\n",
    "pl.add_points(pv.PolyData(result_points), color='#2499ff')\n",
    "# add sun points : orange\n",
    "# pl.add_points(pv.PolyData(np.array(sun_vectors) * -120), color='#ffa500')\n",
    "# show the plot\n",
    "pl.show(True)"
   ]
  },
  {
   "cell_type": "code",
   "execution_count": null,
   "metadata": {},
   "outputs": [],
   "source": []
  }
 ],
 "metadata": {
  "kernelspec": {
   "display_name": "Python 3",
   "language": "python",
   "name": "python3"
  },
  "language_info": {
   "codemirror_mode": {
    "name": "ipython",
    "version": 3
   },
   "file_extension": ".py",
   "mimetype": "text/x-python",
   "name": "python",
   "nbconvert_exporter": "python",
   "pygments_lexer": "ipython3",
   "version": "3.8.5-final"
  }
 },
 "nbformat": 4,
 "nbformat_minor": 2
}