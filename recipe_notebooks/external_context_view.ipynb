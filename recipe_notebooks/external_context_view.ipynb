{
 "cells": [
  {
   "cell_type": "code",
   "execution_count": 1,
   "metadata": {},
   "outputs": [
    {
     "name": "stdout",
     "output_type": "stream",
     "text": [
      "Path to radiance is set to: /usr/local/radiance\n",
      "Path to perl is set to: /usr/bin\n"
     ]
    }
   ],
   "source": [
    "import pyvista as pv\n",
    "# import topogenesis  as tp\n",
    "import numpy as np\n",
    "from honeybee_plus.hbsurface import HBSurface\n",
    "from honeybee_plus.radiance.recipe.solaraccess.gridbased import SolarAccessGridBased\n",
    "from honeybee_plus.radiance.sky.certainIlluminance import CertainIlluminanceLevel\n",
    "from honeybee_plus.radiance.recipe.pointintime.gridbased import GridBased\n",
    "from honeybee_plus.radiance.analysisgrid import AnalysisGrid\n",
    "import os\n",
    "import ladybug as lb\n",
    "import pandas as pd\n",
    "import subprocess\n",
    "import matplotlib.pyplot as plt\n",
    "from matplotlib.colors import LogNorm\n",
    "\n",
    "cwd = os.getcwd()\n",
    "src = os.path.dirname(cwd)"
   ]
  },
  {
   "cell_type": "code",
   "execution_count": 2,
   "metadata": {},
   "outputs": [
    {
     "data": {
      "text/plain": [
       "8"
      ]
     },
     "execution_count": 2,
     "metadata": {},
     "output_type": "execute_result"
    }
   ],
   "source": [
    "nproc_cmd = 'sysctl -n hw.ncpu'\n",
    "proc = subprocess.Popen(nproc_cmd, shell=True, stdout=subprocess.PIPE)\n",
    "nproc = int(proc.communicate()[0])\n",
    "nproc"
   ]
  },
  {
   "cell_type": "code",
   "execution_count": 3,
   "metadata": {},
   "outputs": [],
   "source": [
    "material_glass = {'modifier': 'void', \n",
    "                 'type': 'glass', \n",
    "                 'name': 'generic_glass', \n",
    "                 'r_transmittance': 0.88, \n",
    "                 'g_transmittance': 0.88, \n",
    "                 'b_transmittance': 0.88, \n",
    "                 'refraction_index': 1.52\n",
    "                }\n",
    "material_plastic = {'modifier': 'void', \n",
    "                   'type': 'plastic', \n",
    "                   'name': 'generic_plastic', \n",
    "                   'r_reflectance': 0.5, \n",
    "                   'g_reflectance': 0.5, \n",
    "                   'b_reflectance': 0.5, \n",
    "                   'specularity': 0.0, \n",
    "                   'roughness': 0.0}\n",
    "def mesh_to_hbsurface(mesh, s_type, s_name, mat):\n",
    "    hb_surfaces = []\n",
    "    face_list = list(mesh.faces)\n",
    "    e = 0\n",
    "    while e < len(face_list):\n",
    "        v_count = face_list[e]\n",
    "        vertices = []\n",
    "        for v in range(v_count):\n",
    "            e += 1\n",
    "            vertices.append(list(mesh.points[face_list[e]]))\n",
    "        srf_dict = {\n",
    "            \"name\": s_name,\n",
    "            \"vertices\": vertices, # [[(x, y, z), (x1, y1, z1), (x2, y2, z2)]],\n",
    "            \"surface_material\": mat,\n",
    "            \"surface_type\": s_type  # 0: wall, 5: window \n",
    "            # TODO: look for the lables of ceiling and floor\n",
    "            }\n",
    "        srf_dict[\"surface_material\"][\"name\"] = s_name\n",
    "        hbsrf = HBSurface.from_json(srf_dict)\n",
    "        hb_surfaces.append(hbsrf)\n",
    "        e += 1\n",
    "    return hb_surfaces"
   ]
  },
  {
   "cell_type": "code",
   "execution_count": 4,
   "metadata": {},
   "outputs": [],
   "source": [
    "# import all external geometry with pyvista\n",
    "wal_filepath = os.path.join(src, \"data\", \"test_room_walls_02.obj\")\n",
    "wal_mesh = pv.read(wal_filepath)\n",
    "fen_filepath = os.path.join(src, \"data\", \"test_room_fens_02.obj\")\n",
    "fen_mesh = pv.read(fen_filepath)\n",
    "\n",
    "con_buildings_filepath = os.path.join(src, \"data\", \"test_context_01_buildings.obj\")\n",
    "con_buildings_mesh = pv.read(con_buildings_filepath)\n",
    "con_ground_filepath = os.path.join(src, \"data\", \"test_context_01_ground.obj\")\n",
    "con_ground_mesh = pv.read(con_ground_filepath)\n",
    "# con_sky_filepath = os.path.join(src, \"data\", \"test_context_01_sky.obj\")\n",
    "# con_sky_mesh = pv.read(con_sky_filepath)\n",
    "con_vegetation_filepath = os.path.join(src, \"data\", \"test_context_01_vegetation.obj\")\n",
    "con_vegetation_mesh = pv.read(con_vegetation_filepath)\n",
    "\n",
    "# construct honeybee surfaces from the mesh\n",
    "wal_hb_surf = mesh_to_hbsurface(wal_mesh, 0, \"wall\", material_plastic)\n",
    "fen_hb_surf = mesh_to_hbsurface(fen_mesh, 5, \"window\", material_glass)\n",
    "con_buildings_hb_surf = mesh_to_hbsurface(con_buildings_mesh, 0, \"context_buildings\", material_plastic)\n",
    "con_ground_hb_surf = mesh_to_hbsurface(con_ground_mesh, 0, \"context_ground\", material_plastic)\n",
    "# con_sky_hb_surf = mesh_to_hbsurface(con_sky_mesh, 0, \"context_sky\", material_plastic)\n",
    "con_vegetation_hb_surf = mesh_to_hbsurface(con_vegetation_mesh, 0, \"context_vegetation\", material_plastic)\n",
    "\n",
    "hb_surfaces = wal_hb_surf + fen_hb_surf + con_buildings_hb_surf + con_ground_hb_surf + con_vegetation_hb_surf\n",
    "# TODO: look into tagging system for out_view to specify the \"external environment\"\n",
    "\n",
    "# print(hb_surfaces)\n",
    "# print(type(mesh))\n",
    "# print(mesh.points)\n",
    "# print(mesh.faces)"
   ]
  },
  {
   "cell_type": "code",
   "execution_count": 5,
   "metadata": {
    "tags": []
   },
   "outputs": [
    {
     "name": "stdout",
     "output_type": "stream",
     "text": [
      "Uniform CIE sky based on illuminance value.\n",
      "\n",
      "    Attributes:\n",
      "        illuminance_value: Desired illuminance value in lux\n",
      "        sky_type: An integer between 0..1 to indicate CIE Sky Type.\n",
      "            [0] cloudy sky, [1] uniform sky (default: 0)\n",
      "        suffix: An optional suffix for sky name. The suffix will be added at the\n",
      "            end of the standard name. Use this input to customize the new and\n",
      "            avoid sky being overwritten by other skymatrix components.\n",
      "    Usage:\n",
      "\n",
      "        sky = CertainIlluminanceLevel(1000)\n",
      "        sky.execute(\"c:/ladybug/1000luxsky.sky\")\n",
      "    \n",
      "Found 5486 opaque surfaces.\n",
      "Found 1 fenestration surfaces.\n",
      "Found 0 window-groups.\n"
     ]
    }
   ],
   "source": [
    "# generate grid of test points\n",
    "test_pts = [(1, 1, 1),(6, 1, 1),(1, 6, 1),(1, 1, 6)]\n",
    "test_vec = [(0, 0, 1),(0, 0, 1),(0, 0, 1),(0, 0, 1)]\n",
    "analysis_grid = AnalysisGrid.from_points_and_vectors(test_pts, test_vec, 'test_grid')\n",
    "\n",
    "# generate the sky\n",
    "sky = CertainIlluminanceLevel(illuminance_value=10000,sky_type=1)\n",
    "print(CertainIlluminanceLevel.__doc__)\n",
    "\n",
    "# put the recipe together\n",
    "rp = GridBased(sky=sky, analysis_grids=(analysis_grid,), simulation_type=0,\n",
    "               hb_objects=hb_surfaces)"
   ]
  },
  {
   "cell_type": "code",
   "execution_count": 6,
   "metadata": {},
   "outputs": [
    {
     "name": "stdout",
     "output_type": "stream",
     "text": [
      "Writing recipe contents to: ./external_context_view/gridbased\n",
      "0 #!/usr/bin/env bash\n",
      "\n",
      "\n",
      "\n",
      "cd ./external_context_view/gridbased\n",
      "\n",
      "1 /usr/local/radiance/bin/gensky 9 21 12 -u -B 55.865921787709496 > sky/CertainIlluminanceLevel_10000.sky\n",
      "2 /usr/local/radiance/bin/oconv -f sky/CertainIlluminanceLevel_10000.sky sky/groundSky.rad scene/opaque/external_context_view..opq.mat scene/opaque/external_context_view..opq.rad scene/glazing/external_context_view..glz.mat scene/glazing/external_context_view..glz.rad > external_context_view.oct\n",
      "3 /usr/local/radiance/bin/rtrace -aa 0.25 -ab 2 -ad 512 -ar 16 -as 128 -dc 0.25 -dj 0.0 -dp 64 -ds 0.5 -dr 0 -dt 0.5 -e error.txt -h -I -lr 4 -lw 0.05 -ss 0.0 -st 0.85 external_context_view.oct < external_context_view.pts > result/external_context_view.res\n",
      "4 /usr/local/radiance/bin/rcalc -e '$1=(0.265*$1+0.67*$2+0.065*$3)*179' result/external_context_view.res > result/external_context_view.ill\n"
     ]
    }
   ],
   "source": [
    "# write simulation to folder\n",
    "batch_file = rp.write(\n",
    "    target_folder='.', project_name='external_context_view')\n",
    "\n",
    "# print the radiance commands\n",
    "for i,com in enumerate(rp._commands):\n",
    "    print(i, com)\n",
    "\n",
    "# change the commands\n",
    "#rp._commands[3] = \"/usr/local/radiance/bin/rtrace -os -aa 0.25 -ab 0 -ad 512 -ar 16 -as 128 -dc 0.25 -dj 0.0 -dp 64 -ds 0.5 -dr 0 -dt 0.5 -e error.txt -h -I -lr 4 -lw 0.05 -ss 0.0 -st 0.85 external_context_view.oct < external_context_view.pts > result/external_context_view.res\"\n",
    "\n"
   ]
  },
  {
   "cell_type": "code",
   "execution_count": 7,
   "metadata": {
    "scrolled": true
   },
   "outputs": [
    {
     "data": {
      "text/plain": [
       "True"
      ]
     },
     "execution_count": 7,
     "metadata": {},
     "output_type": "execute_result"
    }
   ],
   "source": [
    "# run the simulation\n",
    "rp.run(batch_file, debug=False)\n",
    "\n",
    "# https://www.radiance-online.org/learning/documentation/manual-pages/pdfs/rmtxop.pdf\n",
    "# Eleonora: rmtxop multiplies the daylight coefficient matrices with the sky vectors. This is necessary for getting illuminance from daylight coefficients computed w.r.t. rgb components. \n",
    "# Sun Access of points, and how to interpret them https://floyd.lbl.gov/radiance/refer/usman2.pdf"
   ]
  },
  {
   "cell_type": "code",
   "execution_count": 8,
   "metadata": {},
   "outputs": [
    {
     "name": "stdout",
     "output_type": "stream",
     "text": [
      "Unloading the current values from the analysis grids.\n",
      "defaultdict(<function AnalysisPoint._create_data_structure.<locals>.double at 0x7f9b81e4ec10>, {379440: [1098, None]})\n",
      "defaultdict(<function AnalysisPoint._create_data_structure.<locals>.double at 0x7f9b81e4edc0>, {379440: [4255, None]})\n",
      "defaultdict(<function AnalysisPoint._create_data_structure.<locals>.double at 0x7f9b81e4e8b0>, {379440: [3447, None]})\n",
      "defaultdict(<function AnalysisPoint._create_data_structure.<locals>.double at 0x7f9b81e4e040>, {379440: [8309, None]})\n"
     ]
    }
   ],
   "source": [
    "# results - in this case it will be an analysis grid\n",
    "result = rp.results()[0]\n",
    "dfs = []\n",
    "\n",
    "# print(result.result_files)\n",
    "for i, ap in enumerate(result._analysis_points):\n",
    "    data_dict = ap._values[0][0]\n",
    "    print(data_dict)\n",
    "    # df = pd.DataFrame(data_dict)\n",
    "    # dft = df.T\n",
    "    # dft.columns = [i, i+1]\n",
    "    # dfs.append(dft[i])\n",
    "\n",
    "# df = pd.concat(dfs, axis=1)\n",
    "# print(df)\n",
    "# print(sum(df[0])/4460.0)\n",
    "# print(sum(df[1])/4460.0)\n",
    "# print(sum(df[2])/4460.0)\n",
    "# print(sum(df[3])/4460.0)\n",
    "# df = pd.DataFrame({\n",
    "#   'IX': vol_3d_ind_flat[:, 0],\n",
    "#   'IY': vol_3d_ind_flat[:, 1],\n",
    "#   'IZ': vol_3d_ind_flat[:, 2],\n",
    "#   'value': vol_flat,\n",
    "#})\n",
    "# print result with legend\n",
    "# leg = [\"Daylight autonomy\", \"Continious daylight autonomy\", \"Useful daylight illuminance\", \"Less than UDI\", \"More than UDI\"]\n",
    "# for l, d in zip(leg, result.annual_metrics(da_threshhold=1)):\n",
    "#    print(l, d)\n",
    "\n",
    "# extract the points of interest from the recipe\n",
    "result_points = [[p[0], p[1], p[2]] for p in result.points]"
   ]
  },
  {
   "cell_type": "code",
   "execution_count": 9,
   "metadata": {
    "scrolled": false
   },
   "outputs": [
    {
     "data": {
      "application/vnd.jupyter.widget-view+json": {
       "model_id": "658a8ab9f3254473b5ce9fd19767cbd7",
       "version_major": 2,
       "version_minor": 0
      },
      "text/plain": [
       "Viewer(geometries=[{'vtkClass': 'vtkPolyData', 'points': {'vtkClass': 'vtkPoints', 'name': '_points', 'numberO…"
      ]
     },
     "metadata": {},
     "output_type": "display_data"
    }
   ],
   "source": [
    "# Plot using the ITKplotter\n",
    "pl = pv.PlotterITK()\n",
    "# add the external wall mesh\n",
    "pl.add_mesh(wal_mesh, smooth_shading=True)\n",
    "# add the external fens mesh, transparrent blue\n",
    "pl.add_mesh(fen_mesh, smooth_shading=True, opacity=0.3, color='#c1e2ff')\n",
    "# add the context mesh, transparrent grey\n",
    "pl.add_mesh(con_buildings_mesh, smooth_shading=True, opacity=0.3)\n",
    "pl.add_mesh(con_ground_mesh, smooth_shading=True, opacity=0.3)\n",
    "# pl.add_mesh(con_sky_mesh, smooth_shading=True, opacity=0.3)\n",
    "pl.add_mesh(con_vegetation_mesh, smooth_shading=True, opacity=0.3)\n",
    "# add points of interest : blue\n",
    "pl.add_points(pv.PolyData(result_points), color='#2499ff')\n",
    "# add sun points : orange\n",
    "# pl.add_points(pv.PolyData(np.array(sun_vectors) * -120), color='#ffa500')\n",
    "# show the plot\n",
    "pl.show(True)"
   ]
  },
  {
   "cell_type": "code",
   "execution_count": 10,
   "metadata": {},
   "outputs": [
    {
     "name": "stdout",
     "output_type": "stream",
     "text": [
      "Changed view_h_size and view_v_size to 180 for fisheye view type.\n",
      "-aa 0.25 -ab 2 -ad 512 -ar 16 -as 128 -dc 0.25 -dj 0.0 -dp 64 -ds 0.5 -dr 0 -dt 0.5 -lr 4 -lw 0.05 -pj 0.6 -ps 8 -pt 0.15 -ss 0.0 -st 0.85\n",
      "-ab 0 -ovmlL -w\n"
     ]
    }
   ],
   "source": [
    "import honeybee_plus\n",
    "\n",
    "project_name='external_context_view'\n",
    "octf = src+'/recipe_notebooks/external_context_view/gridbased/external_context_view.oct'\n",
    "\n",
    "view = honeybee_plus.radiance.view.View(name='indoor_fisheye', \n",
    "                                 view_point=(1,1,1),\n",
    "                                view_direction=(0,-1,0),\n",
    "                                view_up_vector=(0,0,1),\n",
    "                                view_type=4,\n",
    "                                view_h_size=180,\n",
    "                                view_v_size=180,\n",
    "                                x_resolution=128,\n",
    "                                y_resolution=128)\n",
    "\n",
    "rp_rpict = honeybee_plus.radiance.parameters.rpict.RpictParameters(0)\n",
    "rp_rtrace = honeybee_plus.radiance.parameters.rtrace.LowQuality()\n",
    "rp_rtrace.remove_parameters() # I didn't find a more elegant way to initialise the parameter class\n",
    "rp_rtrace.add_radiance_number('ab')\n",
    "rp_rtrace.ab = 0\n",
    "rp_rtrace.add_radiance_value('o', is_joined=True)\n",
    "rp_rtrace.o = 'vmlL'\n",
    "rp_rtrace.add_radiance_bool_flag('w')\n",
    "rp_rtrace.w = True\n",
    "\n",
    "print(rp_rpict.to_rad_string())\n",
    "print(rp_rtrace.to_rad_string())\n",
    "\n",
    "# honeybee_plus.radiance.recipe.pointintime.imagebased\n",
    "# doesn't work -- I get: AttributeError: module 'honeybee_plus.radiance.recipe.pointintime' has no attribute 'imagebased'"
   ]
  },
  {
   "cell_type": "code",
   "execution_count": 11,
   "metadata": {},
   "outputs": [
    {
     "data": {
      "text/plain": [
       "(b'', b'')"
      ]
     },
     "execution_count": 11,
     "metadata": {},
     "output_type": "execute_result"
    }
   ],
   "source": [
    "rpict_cmd_0 = 'rpict -w %s %s -af %s/%s.af %s > /dev/null' % (rp_rpict, view, project_name, project_name, octf)\n",
    "rpict_cmd = 'rpict -w %s %s -af %s/%s.af %s > %s/%s.hdr' % (rp_rpict, view, project_name, project_name, octf, project_name, project_name)\n",
    "normtiff_cmd = 'normtiff -h %s/%s.hdr %s/%s.tif' % (project_name, project_name, project_name, project_name)\n",
    "\n",
    "rpict = subprocess.Popen(rpict_cmd_0, shell=True, stdout=subprocess.PIPE, stderr=subprocess.PIPE)\n",
    "rpict = subprocess.Popen(rpict_cmd, shell=True, stdout=subprocess.PIPE, stderr=subprocess.PIPE)\n",
    "rpict.communicate()\n",
    "normtiff = subprocess.Popen(normtiff_cmd, shell=True, stdout=subprocess.PIPE, stderr=subprocess.PIPE)\n",
    "normtiff.communicate()"
   ]
  },
  {
   "cell_type": "code",
   "execution_count": 12,
   "metadata": {},
   "outputs": [
    {
     "data": {
      "text/plain": [
       "(b'', b'')"
      ]
     },
     "execution_count": 12,
     "metadata": {},
     "output_type": "execute_result"
    }
   ],
   "source": [
    "rtrace_cmd = 'vwrays %s | rtrace %s %s > %s/rtrace_res.txt' % (view, rp_rtrace, octf, project_name)\n",
    "\n",
    "rtrace = subprocess.Popen(rtrace_cmd, shell=True, stdout=subprocess.PIPE, stderr=subprocess.PIPE)\n",
    "rtrace.communicate()"
   ]
  },
  {
   "cell_type": "code",
   "execution_count": 13,
   "metadata": {},
   "outputs": [
    {
     "data": {
      "text/html": [
       "<div>\n",
       "<style scoped>\n",
       "    .dataframe tbody tr th:only-of-type {\n",
       "        vertical-align: middle;\n",
       "    }\n",
       "\n",
       "    .dataframe tbody tr th {\n",
       "        vertical-align: top;\n",
       "    }\n",
       "\n",
       "    .dataframe thead th {\n",
       "        text-align: right;\n",
       "    }\n",
       "</style>\n",
       "<table border=\"1\" class=\"dataframe\">\n",
       "  <thead>\n",
       "    <tr style=\"text-align: right;\">\n",
       "      <th></th>\n",
       "      <th>0</th>\n",
       "      <th>1</th>\n",
       "      <th>2</th>\n",
       "      <th>3</th>\n",
       "      <th>4</th>\n",
       "      <th>5</th>\n",
       "      <th>6</th>\n",
       "    </tr>\n",
       "  </thead>\n",
       "  <tbody>\n",
       "    <tr>\n",
       "      <th>0</th>\n",
       "      <td>0.0</td>\n",
       "      <td>0.0</td>\n",
       "      <td>0.0</td>\n",
       "      <td>wall</td>\n",
       "      <td>3.508846</td>\n",
       "      <td>3.508846</td>\n",
       "      <td>NaN</td>\n",
       "    </tr>\n",
       "    <tr>\n",
       "      <th>1</th>\n",
       "      <td>0.0</td>\n",
       "      <td>0.0</td>\n",
       "      <td>0.0</td>\n",
       "      <td>wall</td>\n",
       "      <td>3.438210</td>\n",
       "      <td>3.438210</td>\n",
       "      <td>NaN</td>\n",
       "    </tr>\n",
       "    <tr>\n",
       "      <th>2</th>\n",
       "      <td>0.0</td>\n",
       "      <td>0.0</td>\n",
       "      <td>0.0</td>\n",
       "      <td>wall</td>\n",
       "      <td>3.370834</td>\n",
       "      <td>3.370834</td>\n",
       "      <td>NaN</td>\n",
       "    </tr>\n",
       "    <tr>\n",
       "      <th>3</th>\n",
       "      <td>0.0</td>\n",
       "      <td>0.0</td>\n",
       "      <td>0.0</td>\n",
       "      <td>wall</td>\n",
       "      <td>3.306528</td>\n",
       "      <td>3.306528</td>\n",
       "      <td>NaN</td>\n",
       "    </tr>\n",
       "    <tr>\n",
       "      <th>4</th>\n",
       "      <td>0.0</td>\n",
       "      <td>0.0</td>\n",
       "      <td>0.0</td>\n",
       "      <td>wall</td>\n",
       "      <td>3.245116</td>\n",
       "      <td>3.245116</td>\n",
       "      <td>NaN</td>\n",
       "    </tr>\n",
       "    <tr>\n",
       "      <th>...</th>\n",
       "      <td>...</td>\n",
       "      <td>...</td>\n",
       "      <td>...</td>\n",
       "      <td>...</td>\n",
       "      <td>...</td>\n",
       "      <td>...</td>\n",
       "      <td>...</td>\n",
       "    </tr>\n",
       "    <tr>\n",
       "      <th>16379</th>\n",
       "      <td>0.0</td>\n",
       "      <td>0.0</td>\n",
       "      <td>0.0</td>\n",
       "      <td>context_ground</td>\n",
       "      <td>1.622558</td>\n",
       "      <td>1.622558</td>\n",
       "      <td>NaN</td>\n",
       "    </tr>\n",
       "    <tr>\n",
       "      <th>16380</th>\n",
       "      <td>0.0</td>\n",
       "      <td>0.0</td>\n",
       "      <td>0.0</td>\n",
       "      <td>context_ground</td>\n",
       "      <td>1.653264</td>\n",
       "      <td>1.653264</td>\n",
       "      <td>NaN</td>\n",
       "    </tr>\n",
       "    <tr>\n",
       "      <th>16381</th>\n",
       "      <td>0.0</td>\n",
       "      <td>0.0</td>\n",
       "      <td>0.0</td>\n",
       "      <td>context_ground</td>\n",
       "      <td>1.685417</td>\n",
       "      <td>1.685417</td>\n",
       "      <td>NaN</td>\n",
       "    </tr>\n",
       "    <tr>\n",
       "      <th>16382</th>\n",
       "      <td>0.0</td>\n",
       "      <td>0.0</td>\n",
       "      <td>0.0</td>\n",
       "      <td>context_ground</td>\n",
       "      <td>1.719105</td>\n",
       "      <td>1.719105</td>\n",
       "      <td>NaN</td>\n",
       "    </tr>\n",
       "    <tr>\n",
       "      <th>16383</th>\n",
       "      <td>0.0</td>\n",
       "      <td>0.0</td>\n",
       "      <td>0.0</td>\n",
       "      <td>wall</td>\n",
       "      <td>1.754423</td>\n",
       "      <td>1.754423</td>\n",
       "      <td>NaN</td>\n",
       "    </tr>\n",
       "  </tbody>\n",
       "</table>\n",
       "<p>16384 rows × 7 columns</p>\n",
       "</div>"
      ],
      "text/plain": [
       "         0    1    2               3         4         5   6\n",
       "0      0.0  0.0  0.0            wall  3.508846  3.508846 NaN\n",
       "1      0.0  0.0  0.0            wall  3.438210  3.438210 NaN\n",
       "2      0.0  0.0  0.0            wall  3.370834  3.370834 NaN\n",
       "3      0.0  0.0  0.0            wall  3.306528  3.306528 NaN\n",
       "4      0.0  0.0  0.0            wall  3.245116  3.245116 NaN\n",
       "...    ...  ...  ...             ...       ...       ...  ..\n",
       "16379  0.0  0.0  0.0  context_ground  1.622558  1.622558 NaN\n",
       "16380  0.0  0.0  0.0  context_ground  1.653264  1.653264 NaN\n",
       "16381  0.0  0.0  0.0  context_ground  1.685417  1.685417 NaN\n",
       "16382  0.0  0.0  0.0  context_ground  1.719105  1.719105 NaN\n",
       "16383  0.0  0.0  0.0            wall  1.754423  1.754423 NaN\n",
       "\n",
       "[16384 rows x 7 columns]"
      ]
     },
     "execution_count": 13,
     "metadata": {},
     "output_type": "execute_result"
    }
   ],
   "source": [
    "rtrace_res = pd.read_csv('%s/rtrace_res.txt' % project_name, skiprows=8, sep='\\t', header=None)\n",
    "rtrace_res"
   ]
  },
  {
   "cell_type": "code",
   "execution_count": 19,
   "metadata": {},
   "outputs": [
    {
     "data": {
      "image/png": "[encoded data removed]",
      "text/plain": [
       "<Figure size 432x288 with 2 Axes>"
      ]
     },
     "metadata": {
      "needs_background": "light"
     },
     "output_type": "display_data"
    },
    {
     "name": "stdout",
     "output_type": "stream",
     "text": [
      "2.2799560000000003 10000000000.0\n"
     ]
    }
   ],
   "source": [
    "# distances outside the window\n",
    "\n",
    "labels_array = rtrace_res[3]\n",
    "window_dist_array = rtrace_res[4].values.reshape(int(view.x_resolution), int(view.y_resolution))\n",
    "window_dist_masked = np.ma.masked_where((labels_array!='window'), rtrace_res[4]).reshape(int(view.x_resolution), int(view.y_resolution))\n",
    "\n",
    "plt.imshow(window_dist_masked, origin='upper', norm=LogNorm(vmin=0.01, vmax=1e10))\n",
    "plt.colorbar()\n",
    "plt.show()\n",
    "\n",
    "print(window_dist_masked.min(), window_dist_masked.max())"
   ]
  },
  {
   "cell_type": "code",
   "execution_count": 20,
   "metadata": {},
   "outputs": [
    {
     "data": {
      "text/plain": [
       "101.25"
      ]
     },
     "execution_count": 20,
     "metadata": {},
     "output_type": "execute_result"
    }
   ],
   "source": [
    "# Distances and angles on the central row (eye level)\n",
    "\n",
    "cx, cy = int(int(view.x_resolution)/2), int(int(view.y_resolution)/2)\n",
    "\n",
    "c_row = labels_array.iloc[int(view.x_resolution)*(cy-1):int(view.x_resolution)*(cy)]\n",
    "window_h_aperture_angle = c_row.groupby(c_row).count()['window'] * 180 / int(view.x_resolution)\n",
    "window_h_aperture_angle"
   ]
  },
  {
   "cell_type": "code",
   "execution_count": 21,
   "metadata": {},
   "outputs": [
    {
     "data": {
      "image/png": "[encoded data removed]",
      "text/plain": [
       "<Figure size 432x288 with 2 Axes>"
      ]
     },
     "metadata": {
      "needs_background": "light"
     },
     "output_type": "display_data"
    },
    {
     "name": "stdout",
     "output_type": "stream",
     "text": [
      "1.000106 4.568531 1.000151\n"
     ]
    }
   ],
   "source": [
    "# distances within the room\n",
    "\n",
    "dist_array = rtrace_res[5].values.reshape(int(view.x_resolution),int(view.y_resolution))\n",
    "dist_c = dist_array[cx, cy]\n",
    "\n",
    "plt.imshow(dist_array, origin='upper')\n",
    "plt.colorbar()\n",
    "plt.show()\n",
    "\n",
    "print(dist_array.min(), dist_array.max(), dist_c)"
   ]
  },
  {
   "cell_type": "code",
   "execution_count": null,
   "metadata": {},
   "outputs": [],
   "source": []
  }
 ],
 "metadata": {
  "kernelspec": {
   "display_name": "Python 3",
   "language": "python",
   "name": "python3"
  },
  "language_info": {
   "codemirror_mode": {
    "name": "ipython",
    "version": 3
   },
   "file_extension": ".py",
   "mimetype": "text/x-python",
   "name": "python",
   "nbconvert_exporter": "python",
   "pygments_lexer": "ipython3",
   "version": "3.8.5"
  }
 },
 "nbformat": 4,
 "nbformat_minor": 2
}
