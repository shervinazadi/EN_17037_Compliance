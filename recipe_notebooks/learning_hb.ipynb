{
 "metadata": {
  "language_info": {
   "codemirror_mode": {
    "name": "ipython",
    "version": 3
   },
   "file_extension": ".py",
   "mimetype": "text/x-python",
   "name": "python",
   "nbconvert_exporter": "python",
   "pygments_lexer": "ipython3",
   "version": "3.8.5-final"
  },
  "orig_nbformat": 2,
  "kernelspec": {
   "name": "python_defaultSpec_1600257162145",
   "display_name": "Python 3.8.5 64-bit ('environmental': conda)"
  }
 },
 "nbformat": 4,
 "nbformat_minor": 2,
 "cells": [
  {
   "cell_type": "code",
   "execution_count": 34,
   "metadata": {
    "tags": []
   },
   "outputs": [],
   "source": [
    "from honeybee_plus.room import Room\n",
    "from honeybee_plus.radiance.material.glass import Glass\n",
    "from honeybee_plus.radiance.sky.certainIlluminance import CertainIlluminanceLevel\n",
    "from honeybee_plus.radiance.recipe.pointintime.gridbased import GridBased\n",
    "from honeybee_plus.hbsurface import HBSurface"
   ]
  },
  {
   "cell_type": "code",
   "execution_count": 2,
   "metadata": {},
   "outputs": [],
   "source": [
    "# create a test room\n",
    "room = Room(origin=(0, 0, 3.2), width=4.2, depth=6, height=3.2,\n",
    "            rotation_angle=45)\n",
    "\n",
    "# add fenestration\n",
    "# add a window to the back wall\n",
    "room.add_fenestration_surface(\n",
    "    wall_name='back', width=2, height=2, sill_height=0.7)\n",
    "\n",
    "# add another window with custom material. This time to the right wall\n",
    "glass_60 = Glass.by_single_trans_value('tvis_0.6', 0.6)\n",
    "room.add_fenestration_surface('right', 4, 1.5, 1.2, radiance_material=glass_60)"
   ]
  },
  {
   "cell_type": "code",
   "execution_count": 48,
   "metadata": {
    "tags": []
   },
   "outputs": [
    {
     "output_type": "stream",
     "name": "stdout",
     "text": "HBZone: room\n(HBSurface::floor::Floor, HBSurface::ceiling::Roof, HBSurface::back_wall::Wall, HBSurface::right_wall::Wall, HBSurface::front_wall::Wall, HBSurface::left_wall::Wall)\n6\n<class 'honeybee_plus.hbsurface.HBSurface'>\n[((0, 0, 3.2), (-4.242640687119285, 4.242640687119286, 3.2), (-1.2727922061357848, 7.212489168102785, 3.2), (2.9698484809835, 2.9698484809834995, 3.2))]\n"
    }
   ],
   "source": [
    "# room is a HB (HoneyBee) Zone\n",
    "print(room)\n",
    "# Extracting room surfaces\n",
    "print(room.surfaces)\n",
    "print(len(room.surfaces))\n",
    "# Each surface is an HB Surface\n",
    "print(type(room.surfaces[0]))\n",
    "print(room.surfaces[0].points)\n",
    "\n",
    "# print(room.vertices[0])\n",
    "# # extracting extra surfaces: windows, etc\n",
    "# print(dir(room.children_surfaces[0]))\n",
    "# print(room.children_surfaces[0].points)"
   ]
  },
  {
   "cell_type": "code",
   "execution_count": 49,
   "metadata": {
    "tags": []
   },
   "outputs": [
    {
     "output_type": "stream",
     "name": "stdout",
     "text": "void plastic generic_wall\n0\n0\n5 0.5 0.5 0.5 0.0 0.0\ngeneric_wall polygon 001\n0\n0\n12 0.0 0.0 0.0 10.0 0.0 0.0 0.0 10.0 10.0 0.0 0.0 10.0\n\n{'name': '001', 'vertices': [[(0, 0, 0), (10, 0, 0), (0, 10, 10), (0, 0, 10)]], 'surface_material': {'modifier': 'void', 'type': 'plastic', 'name': 'generic_wall', 'r_reflectance': 0.5, 'g_reflectance': 0.5, 'b_reflectance': 0.5, 'specularity': 0.0, 'roughness': 0.0}, 'surface_type': 0.0}\nHBSurface::001::Wall\n"
    }
   ],
   "source": [
    "# HB Surfaces can be constructed in the following manner\n",
    "pts = [[0, 0, 0], [10, 0, 0], [0, 10, 10], [0, 0, 10]]\n",
    "hbsrf = HBSurface(\"001\", pts)\n",
    "\n",
    "# extracting the radiance string\n",
    "print(hbsrf.to_rad_string(include_materials=True))\n",
    "# extracting json\n",
    "hbsrf_json = hbsrf.to_json()\n",
    "print(hbsrf_json)\n",
    "# constructing a surface from json\n",
    "print(HBSurface.from_json(hbsrf_json))"
   ]
  },
  {
   "cell_type": "code",
   "execution_count": null,
   "metadata": {},
   "outputs": [],
   "source": []
  }
 ]
}