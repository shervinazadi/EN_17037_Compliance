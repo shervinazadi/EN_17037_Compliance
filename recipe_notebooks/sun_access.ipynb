{
 "metadata": {
  "language_info": {
   "codemirror_mode": {
    "name": "ipython",
    "version": 3
   },
   "file_extension": ".py",
   "mimetype": "text/x-python",
   "name": "python",
   "nbconvert_exporter": "python",
   "pygments_lexer": "ipython3",
   "version": "3.8.5-final"
  },
  "orig_nbformat": 2,
  "kernelspec": {
   "name": "Python 3.8.5 64-bit ('environmental': conda)",
   "display_name": "Python 3.8.5 64-bit ('environmental': conda)",
   "metadata": {
    "interpreter": {
     "hash": "e27e6096067a616dec79045cf409423a9c007e56e5a32f2b7b56e2bb4865536c"
    }
   }
  }
 },
 "nbformat": 4,
 "nbformat_minor": 2,
 "cells": [
  {
   "cell_type": "code",
   "execution_count": 10,
   "metadata": {
    "tags": []
   },
   "outputs": [],
   "source": [
    "from honeybee_plus.room import Room\n",
    "from honeybee_plus.radiance.material.glass import Glass\n",
    "from honeybee_plus.radiance.sky.certainIlluminance import CertainIlluminanceLevel\n",
    "# from honeybee_plus.radiance.recipe.pointintime.gridbased import GridBased\n",
    "from honeybee_plus.radiance.recipe.solaraccess.gridbased import SolarAccessGridBased\n",
    "from honeybee_plus.radiance.analysisgrid import AnalysisGrid\n"
   ]
  },
  {
   "cell_type": "code",
   "execution_count": 11,
   "metadata": {},
   "outputs": [],
   "source": [
    "# create a test room\n",
    "room = Room(origin=(0, 0, 3.2), width=4.2, depth=6, height=3.2,\n",
    "            rotation_angle=45)\n",
    "\n",
    "# add fenestration\n",
    "# add a window to the back wall\n",
    "room.add_fenestration_surface(\n",
    "    wall_name='back', width=2, height=2, sill_height=0.7)\n",
    "\n",
    "# add another window with custom material. This time to the right wall\n",
    "glass_60 = Glass.by_single_trans_value('tvis_0.6', 0.6)\n",
    "room.add_fenestration_surface('right', 4, 1.5, 1.2, radiance_material=glass_60)"
   ]
  },
  {
   "cell_type": "code",
   "execution_count": 12,
   "metadata": {
    "tags": []
   },
   "outputs": [],
   "source": [
    "# # generate the sky\n",
    "# sky = CertainIlluminanceLevel(illuminance_value=2000,sky_type=1)\n",
    "# print(CertainIlluminanceLevel.__doc__)"
   ]
  },
  {
   "cell_type": "code",
   "execution_count": 15,
   "metadata": {
    "tags": []
   },
   "outputs": [
    {
     "output_type": "stream",
     "name": "stdout",
     "text": "Found 6 opaque surfaces.\nFound 4 fenestration surfaces.\nFound 0 window-groups.\n"
    }
   ],
   "source": [
    "# # generate grid of test points\n",
    "# analysis_grid = room.generate_test_points(grid_size=0.5, height=0.75)\n",
    "test_pts = [(0, 0, 0), (1, 1, 0), (3, 2, 0)]\n",
    "test_vec = [(0, 0, 1), (0, 0, 1), (0, 0, 1)]\n",
    "analysis_grid = AnalysisGrid.from_points_and_vectors(test_pts, test_vec, 'test_grid')\n",
    "\n",
    "# define sun vectors\n",
    "sun_vectors = [\n",
    "            (-0.810513, 0.579652, -0.084093), (-0.67166, 0.702357, -0.235729),\n",
    "            (-0.487065, 0.798284, -0.354275), (-0.269301, 0.8609, -0.431657),\n",
    "            (-0.033196, 0.885943, -0.462605), (0.20517, 0.871705, -0.445013),\n",
    "            (0.429563, 0.819156, -0.380077), (0.624703, 0.731875, -0.272221),\n",
    "            (0.777301, 0.615806, -0.128788)]\n",
    "\n",
    "# define sun hours : A list of hours of the year for each sun vector\n",
    "hoys = [1908, 2000, 2530, 3254, 3658, 4000, 4116, 6324, 8508]\n",
    "\n",
    "# # put the recipe together\n",
    "# rp = GridBased(sky=sky, analysis_grids=(analysis_grid,), simulation_type=0, hb_objects=(room,))\n",
    "rp = SolarAccessGridBased(sun_vectors, hoys, [analysis_grid], hb_objects=(room,))"
   ]
  },
  {
   "cell_type": "code",
   "execution_count": 17,
   "metadata": {
    "tags": []
   },
   "outputs": [
    {
     "output_type": "stream",
     "name": "stdout",
     "text": "Writing recipe contents to: ./room_sun/solaraccess\n"
    }
   ],
   "source": [
    "# write simulation to folder\n",
    "batch_file = rp.write(\n",
    "    target_folder='.', project_name='room_sun')"
   ]
  },
  {
   "cell_type": "code",
   "execution_count": 22,
   "metadata": {
    "tags": []
   },
   "outputs": [
    {
     "output_type": "stream",
     "name": "stdout",
     "text": "[&#39;#!/usr/bin/env bash\\n\\n\\n\\ncd ./room_sun/solaraccess\\n&#39;, &#39;/usr/local/radiance/bin/oconv -f scene/opaque/room_sun..opq.mat scene/opaque/room_sun..opq.rad scene/glazing/room_sun..glz.mat scene/glazing/room_sun..glz.rad sky/analemma.rad &gt; room_sun.oct&#39;, &#39;/usr/local/radiance/bin/rcontrib -aa 0.0 -ab 0 -ad 512 -ar 16 -as 128 -dc 1.0 -dj 0.0 -dp 64 -ds 0.5 -dr 0 -dt 0.0 -I -lr 4 -lw 0.05 -M ./sky/analemma.mod -ss 0.0 -st 0.85 -y 3 room_sun.oct &lt; room_sun.pts &gt; result/room_sun.dc&#39;, &#39;/usr/local/radiance/bin/rmtxop -c 47.4 119.9 11.6 -fa result/room_sun.dc &gt; result/room_sun.ill&#39;]\n"
    },
    {
     "output_type": "execute_result",
     "data": {
      "text/plain": "True"
     },
     "metadata": {},
     "execution_count": 22
    }
   ],
   "source": [
    "# run the simulation\n",
    "print(rp._commands)\n",
    "rp.run(batch_file, debug=False)"
   ]
  },
  {
   "cell_type": "code",
   "execution_count": 8,
   "metadata": {
    "tags": []
   },
   "outputs": [
    {
     "output_type": "stream",
     "name": "stdout",
     "text": "Unloading the current values from the analysis grids.\nilluminance value: 33 lux\nilluminance value: 75 lux\nilluminance value: 315 lux\nilluminance value: 392 lux\nilluminance value: 402 lux\nilluminance value: 348 lux\nilluminance value: 100 lux\nilluminance value: 22 lux\nilluminance value: 65 lux\nilluminance value: 121 lux\nilluminance value: 217 lux\nilluminance value: 286 lux\nilluminance value: 304 lux\nilluminance value: 272 lux\nilluminance value: 194 lux\nilluminance value: 85 lux\nilluminance value: 78 lux\nilluminance value: 111 lux\nilluminance value: 157 lux\nilluminance value: 207 lux\nilluminance value: 227 lux\nilluminance value: 229 lux\nilluminance value: 233 lux\nilluminance value: 154 lux\nilluminance value: 74 lux\nilluminance value: 91 lux\nilluminance value: 125 lux\nilluminance value: 156 lux\nilluminance value: 178 lux\nilluminance value: 231 lux\nilluminance value: 259 lux\nilluminance value: 185 lux\nilluminance value: 60 lux\nilluminance value: 75 lux\nilluminance value: 107 lux\nilluminance value: 134 lux\nilluminance value: 165 lux\nilluminance value: 202 lux\nilluminance value: 263 lux\nilluminance value: 184 lux\nilluminance value: 60 lux\nilluminance value: 68 lux\nilluminance value: 92 lux\nilluminance value: 119 lux\nilluminance value: 152 lux\nilluminance value: 210 lux\nilluminance value: 255 lux\nilluminance value: 172 lux\nilluminance value: 52 lux\nilluminance value: 62 lux\nilluminance value: 81 lux\nilluminance value: 102 lux\nilluminance value: 136 lux\nilluminance value: 189 lux\nilluminance value: 247 lux\nilluminance value: 167 lux\nilluminance value: 43 lux\nilluminance value: 53 lux\nilluminance value: 70 lux\nilluminance value: 94 lux\nilluminance value: 129 lux\nilluminance value: 188 lux\nilluminance value: 248 lux\nilluminance value: 161 lux\nilluminance value: 42 lux\nilluminance value: 51 lux\nilluminance value: 62 lux\nilluminance value: 81 lux\nilluminance value: 115 lux\nilluminance value: 149 lux\nilluminance value: 213 lux\nilluminance value: 150 lux\nilluminance value: 36 lux\nilluminance value: 42 lux\nilluminance value: 51 lux\nilluminance value: 72 lux\nilluminance value: 88 lux\nilluminance value: 130 lux\nilluminance value: 167 lux\nilluminance value: 118 lux\nilluminance value: 31 lux\nilluminance value: 35 lux\nilluminance value: 49 lux\nilluminance value: 56 lux\nilluminance value: 74 lux\nilluminance value: 92 lux\nilluminance value: 101 lux\nilluminance value: 58 lux\nilluminance value: 29 lux\nilluminance value: 34 lux\nilluminance value: 42 lux\nilluminance value: 48 lux\nilluminance value: 55 lux\nilluminance value: 65 lux\nilluminance value: 55 lux\nilluminance value: 22 lux\n"
    }
   ],
   "source": [
    "# results - in this case it will be an analysis grid\n",
    "result = rp.results()[0]\n",
    "\n",
    "# print the values for each point\n",
    "for value in result.combined_value_by_id():\n",
    "    print('illuminance value: %d lux' % value[0])"
   ]
  }
 ]
}