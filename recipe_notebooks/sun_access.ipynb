{
 "metadata": {
  "language_info": {
   "codemirror_mode": {
    "name": "ipython",
    "version": 3
   },
   "file_extension": ".py",
   "mimetype": "text/x-python",
   "name": "python",
   "nbconvert_exporter": "python",
   "pygments_lexer": "ipython3",
   "version": "3.8.5-final"
  },
  "orig_nbformat": 2,
  "kernelspec": {
   "name": "Python 3.8.5 64-bit ('environmental': conda)",
   "display_name": "Python 3.8.5 64-bit ('environmental': conda)",
   "metadata": {
    "interpreter": {
     "hash": "e27e6096067a616dec79045cf409423a9c007e56e5a32f2b7b56e2bb4865536c"
    }
   }
  }
 },
 "nbformat": 4,
 "nbformat_minor": 2,
 "cells": [
  {
   "cell_type": "code",
   "execution_count": 1,
   "metadata": {
    "tags": []
   },
   "outputs": [
    {
     "output_type": "stream",
     "name": "stdout",
     "text": [
      "Path to radiance is set to: /usr/local/radiance\nPath to perl is set to: /usr/bin\n"
     ]
    }
   ],
   "source": [
    "from honeybee_plus.room import Room\n",
    "from honeybee_plus.radiance.material.glass import Glass\n",
    "# from honeybee_plus.radiance.sky.certainIlluminance import CertainIlluminanceLevel\n",
    "# from honeybee_plus.radiance.recipe.pointintime.gridbased import GridBased\n",
    "from honeybee_plus.radiance.recipe.solaraccess.gridbased import SolarAccessGridBased\n",
    "from honeybee_plus.radiance.analysisgrid import AnalysisGrid"
   ]
  },
  {
   "cell_type": "code",
   "execution_count": 2,
   "metadata": {},
   "outputs": [],
   "source": [
    "# create a test room\n",
    "room = Room(origin=(0, 0, 3.2), width=4.2, depth=6, height=3.2,\n",
    "            rotation_angle=45)\n",
    "\n",
    "# add fenestration\n",
    "# add a window to the back wall\n",
    "room.add_fenestration_surface(\n",
    "    wall_name='back', width=2, height=2, sill_height=0.7)\n",
    "\n",
    "# add another window with custom material. This time to the right wall\n",
    "glass_60 = Glass.by_single_trans_value('tvis_0.6', 0.6)\n",
    "room.add_fenestration_surface('right', 4, 1.5, 1.2, radiance_material=glass_60)"
   ]
  },
  {
   "cell_type": "code",
   "execution_count": 3,
   "metadata": {
    "tags": []
   },
   "outputs": [],
   "source": [
    "# # generate the sky\n",
    "# sky = CertainIlluminanceLevel(illuminance_value=2000,sky_type=1)\n",
    "# print(CertainIlluminanceLevel.__doc__)"
   ]
  },
  {
   "cell_type": "code",
   "execution_count": 4,
   "metadata": {
    "tags": []
   },
   "outputs": [
    {
     "output_type": "stream",
     "name": "stdout",
     "text": [
      "Found 6 opaque surfaces.\n",
      "Found 4 fenestration surfaces.\n",
      "Found 0 window-groups.\n"
     ]
    }
   ],
   "source": [
    "# # generate grid of test points\n",
    "# analysis_grid = room.generate_test_points(grid_size=0.5, height=0.75)\n",
    "test_pts = [(0, 0, 0), (1, 1, 0), (3, 2, 0)]\n",
    "test_vec = [(0, 0, 1), (0, 0, 1), (0, 0, 1)]\n",
    "analysis_grid = AnalysisGrid.from_points_and_vectors(test_pts, test_vec, 'test_grid')\n",
    "\n",
    "# define sun vectors\n",
    "sun_vectors = [\n",
    "            (-0.810513, 0.579652, -0.084093), (-0.67166, 0.702357, -0.235729),\n",
    "            (-0.487065, 0.798284, -0.354275), (-0.269301, 0.8609, -0.431657),\n",
    "            (-0.033196, 0.885943, -0.462605), (0.20517, 0.871705, -0.445013),\n",
    "            (0.429563, 0.819156, -0.380077), (0.624703, 0.731875, -0.272221),\n",
    "            (0.777301, 0.615806, -0.128788)]\n",
    "\n",
    "# define sun hours : A list of hours of the year for each sun vector\n",
    "# there are 87600 hours in a year, so the following integers refer to specific hours throughout the year\n",
    "hoys = [1908, 2000, 2530, 3254, 3658, 4000, 4116, 6324, 8508]\n",
    "\n",
    "# # put the recipe together\n",
    "# rp = GridBased(sky=sky, analysis_grids=(analysis_grid,), simulation_type=0, hb_objects=(room,))\n",
    "rp = SolarAccessGridBased(sun_vectors, hoys, [analysis_grid], hb_objects=(room,))"
   ]
  },
  {
   "cell_type": "code",
   "execution_count": 5,
   "metadata": {
    "tags": []
   },
   "outputs": [
    {
     "output_type": "stream",
     "name": "stdout",
     "text": [
      "Writing recipe contents to: ./room_sun/solaraccess\n"
     ]
    }
   ],
   "source": [
    "# write simulation to folder\n",
    "batch_file = rp.write(\n",
    "    target_folder='.', project_name='room_sun')"
   ]
  },
  {
   "cell_type": "code",
   "execution_count": 6,
   "metadata": {
    "tags": []
   },
   "outputs": [
    {
     "output_type": "stream",
     "name": "stdout",
     "text": [
      "#!/usr/bin/env bash\n\n\n\ncd ./room_sun/solaraccess\n\n/usr/local/radiance/bin/oconv -f scene/opaque/room_sun..opq.mat scene/opaque/room_sun..opq.rad scene/glazing/room_sun..glz.mat scene/glazing/room_sun..glz.rad sky/analemma.rad > room_sun.oct\n/usr/local/radiance/bin/rcontrib -aa 0.0 -ab 0 -ad 512 -ar 16 -as 128 -dc 1.0 -dj 0.0 -dp 64 -ds 0.5 -dr 0 -dt 0.0 -I -lr 4 -lw 0.05 -M ./sky/analemma.mod -ss 0.0 -st 0.85 -y 3 room_sun.oct < room_sun.pts > result/room_sun.dc\n/usr/local/radiance/bin/rmtxop -c 47.4 119.9 11.6 -fa result/room_sun.dc > result/room_sun.ill\n"
     ]
    },
    {
     "output_type": "execute_result",
     "data": {
      "text/plain": [
       "True"
      ]
     },
     "metadata": {},
     "execution_count": 6
    }
   ],
   "source": [
    "# run the simulation\n",
    "for com in rp._commands:\n",
    "    print(com)\n",
    "rp.run(batch_file, debug=False)\n",
    "\n",
    "# https://www.radiance-online.org/learning/documentation/manual-pages/pdfs/rmtxop.pdf\n",
    "# Eleonora: rmtxop multiplies the daylight coefficient matrices with the sky vectors. This is necessary for getting illuminance from daylight coefficients computed w.r.t. rgb components. \n",
    "# Sun Access of points, and how to interpret them https://floyd.lbl.gov/radiance/refer/usman2.pdf"
   ]
  },
  {
   "cell_type": "code",
   "execution_count": 7,
   "metadata": {
    "tags": []
   },
   "outputs": [
    {
     "output_type": "stream",
     "name": "stdout",
     "text": [
      "Unloading the current values from the analysis grids.\nUnloading the current values from the analysis grids.\n0.000 0.000 0.000 0.000 0.000 1.000\n1.000 1.000 0.000 0.000 0.000 1.000\n3.000 2.000 0.000 0.000 0.000 1.000\n(1, None)\n(1, None)\n(1, None)\n"
     ]
    }
   ],
   "source": [
    "# results - in this case it will be an analysis grid\n",
    "result = rp.results()[0]\n",
    "print(rp.results()[0])\n",
    "# print the values for each point\n",
    "for value in result.combined_value_by_id():\n",
    "    print(value)"
   ]
  },
  {
   "cell_type": "code",
   "execution_count": null,
   "metadata": {},
   "outputs": [],
   "source": []
  }
 ]
}