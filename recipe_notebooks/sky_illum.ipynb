{
 "metadata": {
  "language_info": {
   "codemirror_mode": {
    "name": "ipython",
    "version": 3
   },
   "file_extension": ".py",
   "mimetype": "text/x-python",
   "name": "python",
   "nbconvert_exporter": "python",
   "pygments_lexer": "ipython3",
   "version": "3.8.5-final"
  },
  "orig_nbformat": 2,
  "kernelspec": {
   "name": "Python 3.8.5 64-bit ('environmental': conda)",
   "display_name": "Python 3.8.5 64-bit ('environmental': conda)",
   "metadata": {
    "interpreter": {
     "hash": "e27e6096067a616dec79045cf409423a9c007e56e5a32f2b7b56e2bb4865536c"
    }
   }
  }
 },
 "nbformat": 4,
 "nbformat_minor": 2,
 "cells": [
  {
   "cell_type": "code",
   "execution_count": null,
   "metadata": {},
   "outputs": [],
   "source": [
    "from honeybee_plus.room import Room\n",
    "from honeybee_plus.radiance.material.glass import Glass\n",
    "from honeybee_plus.radiance.sky.certainIlluminance import CertainIlluminanceLevel\n",
    "from honeybee_plus.radiance.recipe.pointintime.gridbased import GridBased\n",
    "print(GridBased.__doc__)\n",
    "#the function rtrace is the radiance function for emitting rays from a point to 180 degrees of solid angles.\n",
    "#https://www.radiance-online.org/learning/documentation/manual-pages\n",
    "\n",
    "# One can see that a type of recipes is imported above. If one wants to see the commands available within a 'recipe', one can run print(rp._commands), where rp is the name of a recipe object\n",
    "#rtrace: https://www.radiance-online.org/learning/documentation/manual-pages/pdfs/rtrace.pdf\n",
    "#rcontrib: https://www.radiance-online.org/learning/documentation/manual-pages/pdfs/rcontrib.pdf"
   ]
  },
  {
   "cell_type": "code",
   "execution_count": null,
   "metadata": {},
   "outputs": [],
   "source": [
    "# create a test room\n",
    "room = Room(origin=(0, 0, 3.2), width=4.2, depth=6, height=3.2,\n",
    "            rotation_angle=45)\n",
    "\n",
    "# add fenestration\n",
    "# add a window to the back wall\n",
    "room.add_fenestration_surface(\n",
    "    wall_name='back', width=2, height=2, sill_height=0.7)\n",
    "\n",
    "# add another window with custom material. This time to the right wall\n",
    "glass_60 = Glass.by_single_trans_value('tvis_0.6', 0.6)\n",
    "room.add_fenestration_surface('right', 4, 1.5, 1.2, radiance_material=glass_60)"
   ]
  },
  {
   "cell_type": "code",
   "execution_count": null,
   "metadata": {},
   "outputs": [],
   "source": [
    "# generate the sky\n",
    "sky = CertainIlluminanceLevel(illuminance_value=2000,sky_type=1)\n",
    "print(CertainIlluminanceLevel.__doc__)"
   ]
  },
  {
   "cell_type": "code",
   "execution_count": null,
   "metadata": {},
   "outputs": [],
   "source": [
    "# generate grid of test points\n",
    "analysis_grid = room.generate_test_points(grid_size=0.5, height=0.75)\n",
    "\n",
    "# put the recipe together\n",
    "rp = GridBased(sky=sky, analysis_grids=(analysis_grid,), simulation_type=0,\n",
    "               hb_objects=(room,))\n",
    "\n",
    "# print(GridBased.__doc__)"
   ]
  },
  {
   "cell_type": "code",
   "execution_count": null,
   "metadata": {},
   "outputs": [],
   "source": [
    "# write simulation to folder\n",
    "batch_file = rp.write(\n",
    "    target_folder='.', project_name='room')"
   ]
  },
  {
   "cell_type": "code",
   "execution_count": null,
   "metadata": {},
   "outputs": [],
   "source": [
    "# run the simulation\n",
    "print(rp._commands)\n",
    "rp.run(batch_file, debug=False)"
   ]
  },
  {
   "cell_type": "code",
   "execution_count": null,
   "metadata": {},
   "outputs": [],
   "source": [
    "# results - in this case it will be an analysis grid\n",
    "result = rp.results()[0]\n",
    "\n",
    "# print the values for each point\n",
    "for value in result.combined_value_by_id():\n",
    "    print('illuminance value: %d lux' % value[0])"
   ]
  }
 ]
}