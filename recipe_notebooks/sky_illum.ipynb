{
 "metadata": {
  "language_info": {
   "codemirror_mode": {
    "name": "ipython",
    "version": 3
   },
   "file_extension": ".py",
   "mimetype": "text/x-python",
   "name": "python",
   "nbconvert_exporter": "python",
   "pygments_lexer": "ipython3",
   "version": "3.8.5-final"
  },
  "orig_nbformat": 2,
  "kernelspec": {
   "name": "Python 3.8.5 64-bit ('environmentalPy': conda)",
   "display_name": "Python 3.8.5 64-bit ('environmentalPy': conda)",
   "metadata": {
    "interpreter": {
     "hash": "9c7139eb0c28446e1cc4c8d9e55ac40efb98a3fc5d2d35622625e321d4370a22"
    }
   }
  }
 },
 "nbformat": 4,
 "nbformat_minor": 2,
 "cells": [
  {
   "cell_type": "code",
   "execution_count": 11,
   "metadata": {
    "tags": []
   },
   "outputs": [
    {
     "output_type": "stream",
     "name": "stdout",
     "text": "Grid base analysis base class.\n\n    Attributes:\n        sky: A honeybee sky for the analysis\n        analysis_grids: List of analysis grids.\n        simulation_type: 0: Illuminance(lux), 1: Radiation (kWh), 2: Luminance (Candela)\n            (Default: 0)\n        rad_parameters: Radiance parameters for grid based analysis (rtrace).\n            (Default: gridbased.LowQuality)\n        hb_objects: An optional list of Honeybee surfaces or zones (Default: None).\n        sub_folder: Analysis subfolder for this recipe. (Default: &quot;gridbased&quot;)\n\n    Usage:\n        # create the sky\n        sky = SkyWithCertainIlluminanceLevel(2000)\n\n        # initiate analysis_recipe\n        analysis_recipe = GridBased(\n            sky, testPoints, ptsVectors, simType\n            )\n\n        # add honeybee object\n        analysis_recipe.hb_objects = HBObjs\n\n        # write analysis files to local drive\n        analysis_recipe.write(_folder_, _name_)\n\n        # run the analysis\n        analysis_recipe.run(debaug=False)\n\n        # get the results\n        print(analysis_recipe.results())\n    \n"
    }
   ],
   "source": [
    "from honeybee_plus.room import Room\n",
    "from honeybee_plus.radiance.material.glass import Glass\n",
    "from honeybee_plus.radiance.sky.certainIlluminance import CertainIlluminanceLevel\n",
    "from honeybee_plus.radiance.recipe.pointintime.gridbased import GridBased\n",
    "print(GridBased.__doc__)\n",
    "#the function rtrace is the radiance function for emitting rays from a point to 180 degrees of solid angles.\n",
    "#https://www.radiance-online.org/learning/documentation/manual-pages\n",
    "\n",
    "# One can see that a type of recipes is imported above. If one wants to see the commands available within a 'recipe', one can run print(rp._commands), where rp is the name of a recipe object\n",
    "#rtrace: https://www.radiance-online.org/learning/documentation/manual-pages/pdfs/rtrace.pdf\n",
    "#rcontrib: https://www.radiance-online.org/learning/documentation/manual-pages/pdfs/rcontrib.pdf    "
   ]
  },
  {
   "cell_type": "code",
   "execution_count": 2,
   "metadata": {},
   "outputs": [],
   "source": [
    "\n",
    "# create a test room\n",
    "room = Room(origin=(0, 0, 3.2), width=4.2, depth=6, height=3.2,\n",
    "            rotation_angle=45)\n",
    "\n",
    "# add fenestration\n",
    "# add a window to the back wall\n",
    "room.add_fenestration_surface(\n",
    "    wall_name='back', width=2, height=2, sill_height=0.7)\n",
    "\n",
    "# add another window with custom material. This time to the right wall\n",
    "glass_60 = Glass.by_single_trans_value('tvis_0.6', 0.6)\n",
    "room.add_fenestration_surface('right', 4, 1.5, 1.2, radiance_material=glass_60)\n"
   ]
  },
  {
   "cell_type": "code",
   "execution_count": 10,
   "metadata": {
    "tags": []
   },
   "outputs": [
    {
     "output_type": "stream",
     "name": "stdout",
     "text": "Uniform CIE sky based on illuminance value.\n\n    Attributes:\n        illuminance_value: Desired illuminance value in lux\n        sky_type: An integer between 0..1 to indicate CIE Sky Type.\n            [0] cloudy sky, [1] uniform sky (default: 0)\n        suffix: An optional suffix for sky name. The suffix will be added at the\n            end of the standard name. Use this input to customize the new and\n            avoid sky being overwritten by other skymatrix components.\n    Usage:\n\n        sky = CertainIlluminanceLevel(1000)\n        sky.execute(&quot;c:/ladybug/1000luxsky.sky&quot;)\n    \n"
    }
   ],
   "source": [
    "# generate the sky\n",
    "sky = CertainIlluminanceLevel(illuminance_value=2000,sky_type=1)\n",
    "print(CertainIlluminanceLevel.__doc__)"
   ]
  },
  {
   "cell_type": "code",
   "execution_count": 8,
   "metadata": {
    "tags": []
   },
   "outputs": [
    {
     "output_type": "stream",
     "name": "stdout",
     "text": "Found 6 opaque surfaces.\nFound 4 fenestration surfaces.\nFound 0 window-groups.\nGridBased: Illuminance\n#PointGroups: 1 #Points: 96\nHelp on class GridBased in module honeybee_plus.radiance.recipe.pointintime.gridbased:\n\nclass GridBased(honeybee_plus.radiance.recipe._gridbasedbase.GenericGridBased)\n |  GridBased(sky, analysis_grids, simulation_type=0, rad_parameters=None, hb_objects=None, sub_folder=&#39;gridbased&#39;)\n |  \n |  Grid base analysis base class.\n |  \n |  Attributes:\n |      sky: A honeybee sky for the analysis\n |      analysis_grids: List of analysis grids.\n |      simulation_type: 0: Illuminance(lux), 1: Radiation (kWh), 2: Luminance (Candela)\n |          (Default: 0)\n |      rad_parameters: Radiance parameters for grid based analysis (rtrace).\n |          (Default: gridbased.LowQuality)\n |      hb_objects: An optional list of Honeybee surfaces or zones (Default: None).\n |      sub_folder: Analysis subfolder for this recipe. (Default: &quot;gridbased&quot;)\n |  \n |  Usage:\n |      # create the sky\n |      sky = SkyWithCertainIlluminanceLevel(2000)\n |  \n |      # initiate analysis_recipe\n |      analysis_recipe = GridBased(\n |          sky, testPoints, ptsVectors, simType\n |          )\n |  \n |      # add honeybee object\n |      analysis_recipe.hb_objects = HBObjs\n |  \n |      # write analysis files to local drive\n |      analysis_recipe.write(_folder_, _name_)\n |  \n |      # run the analysis\n |      analysis_recipe.run(debaug=False)\n |  \n |      # get the results\n |      print(analysis_recipe.results())\n |  \n |  Method resolution order:\n |      GridBased\n |      honeybee_plus.radiance.recipe._gridbasedbase.GenericGridBased\n |      honeybee_plus.radiance.recipe._recipebase.AnalysisRecipe\n |      builtins.object\n |  \n |  Methods defined here:\n |  \n |  ToString(self)\n |      Overwrite .NET ToString method.\n |  \n |  __init__(self, sky, analysis_grids, simulation_type=0, rad_parameters=None, hb_objects=None, sub_folder=&#39;gridbased&#39;)\n |      Create grid-based recipe.\n |  \n |  __repr__(self)\n |      Represent grid based recipe.\n |  \n |  results(self)\n |      Return results for this analysis.\n |  \n |  to_json(self)\n |      Create point-in-time recipe from json.\n |      {\n |        &quot;id&quot;: &quot;point_in_time&quot;,\n |        &quot;type&quot;: &quot;gridbased&quot;,\n |        &quot;sky&quot;: null, // a honeybee sky\n |        &quot;surfaces&quot;: [], // list of honeybee surfaces\n |        &quot;analysis_grids&quot;: [] // list of analysis grids\n |        // [0] illuminance(lux), [1] radiation (kwh), [2] luminance (Candela).\n |        &quot;analysis_type&quot;: 0\n |      }\n |  \n |  write(self, target_folder, project_name=&#39;untitled&#39;, header=True)\n |      Write analysis files to target folder.\n |      \n |      Files for a grid based analysis are:\n |          test points &lt;project_name.pts&gt;: List of analysis points.\n |          sky file &lt;*.sky&gt;: Radiance sky for this analysis.\n |          material file &lt;*.mat&gt;: Radiance materials. Will be empty if hb_objects\n |              is None.\n |          geometry file &lt;*.rad&gt;: Radiance geometries. Will be empty if hb_objects\n |              is None.\n |          sky file &lt;*.sky&gt;: Radiance sky for this analysis.\n |          batch file &lt;*.bat&gt;: An executable batch file which has the list of commands.\n |              oconve &lt;*.sky&gt; &lt;project_name.mat&gt; &lt;project_name.rad&gt;\n |              &lt;additional rad_files&gt; &gt; &lt;project_name.oct&gt;\n |              rtrace &lt;radiance_parameters&gt; &lt;project_name.oct&gt; &gt; &lt;project_name.res&gt;\n |          results file &lt;*.res&gt;: Results file once the analysis is over.\n |      \n |      Args:\n |          target_folder: Path to parent folder. Files will be created under\n |              target_folder/gridbased. use self.sub_folder to change subfolder name.\n |          project_name: Name of this project as a string.\n |      \n |      Returns:\n |          Full path to command.bat\n |  \n |  ----------------------------------------------------------------------\n |  Class methods defined here:\n |  \n |  from_json(rec_json) from builtins.type\n |      Create the solar access recipe from json.\n |      {\n |        &quot;id&quot;: &quot;point_in_time&quot;,\n |        &quot;type&quot;: &quot;gridbased&quot;,\n |        &quot;sky&quot;: null, // a honeybee sky\n |        &quot;surfaces&quot;: [], // list of honeybee surfaces\n |        &quot;analysis_grids&quot;: [] // list of analysis grids\n |        // [0] illuminance(lux), [1] radiation (kwh), [2] luminance (Candela).\n |        &quot;analysis_type&quot;: 0\n |      }\n |  \n |  from_points_and_vectors(sky, point_groups, vector_groups=None, simulation_type=0, rad_parameters=None, hb_objects=None, sub_folder=&#39;gridbased&#39;) from builtins.type\n |      Create grid based recipe from points and vectors.\n |      \n |      Args:\n |          sky: A honeybee sky for the analysis\n |          point_groups: A list of (x, y, z) test points or lists of (x, y, z)\n |              test points. Each list of test points will be converted to a\n |              TestPointGroup. If testPts is a single flattened list only one\n |              TestPointGroup will be created.\n |          vector_groups: An optional list of (x, y, z) vectors. Each vector\n |              represents direction of corresponding point in testPts. If the\n |              vector is not provided (0, 0, 1) will be assigned.\n |          simulation_type: 0: Illuminance(lux), 1: Radiation (kWh), 2: Luminance\n |              (Candela) (Default: 0).\n |          rad_parameters: Radiance parameters for grid based analysis (rtrace).\n |              (Default: gridbased.LowQuality)\n |          hb_objects: An optional list of Honeybee surfaces or zones (Default: None).\n |          sub_folder: Analysis subfolder for this recipe. (Default: &quot;gridbased&quot;)\n |  \n |  ----------------------------------------------------------------------\n |  Data descriptors defined here:\n |  \n |  radiance_parameters\n |      Get and set Radiance parameters.\n |  \n |  simulation_type\n |      Get/set simulation Type.\n |      \n |      0: Illuminance(lux), 1: Radiation (kWh), 2: Luminance (Candela) (Default: 0)\n |  \n |  sky\n |      Get and set sky definition.\n |  \n |  ----------------------------------------------------------------------\n |  Methods inherited from honeybee_plus.radiance.recipe._gridbasedbase.GenericGridBased:\n |  \n |  write_analysis_grids(self, target_dir, file_name=None, merge=True, mkdir=False)\n |      Write point groups to file.\n |      \n |      Args:\n |          target_dir: Path to project directory (e.g. c:/ladybug)\n |          file_name: File name as string. Points will be saved as\n |              file_name.pts\n |          merge: Merge all the grids into a single file. If the input is\n |              False each file will be named based on the grid name (default: True).\n |      Returns:\n |          Path to file in case of success.\n |      \n |      Exceptions:\n |          ValueError if target_dir doesn&#39;t exist and mkdir is False.\n |  \n |  ----------------------------------------------------------------------\n |  Static methods inherited from honeybee_plus.radiance.recipe._gridbasedbase.GenericGridBased:\n |  \n |  analysis_grids_from_points_and_vectors(point_groups, vector_groups=None)\n |      Create analysisGrid classes from points and vectors.\n |      \n |      Args:\n |          point_groups: A list of (x, y, z) test points or lists of list of (x, y, z)\n |              test points. Each list of test points will be converted to a\n |                  TestPointGroup.\n |              If testPts is a single flattened list only one TestPointGroup will be\n |                  created.\n |          vector_groups: An optional list of (x, y, z) vectors. Each vector represents\n |              direction of corresponding point in testPts. If the vector is not\n |              provided (0, 0, 1) will be assigned.\n |  \n |  ----------------------------------------------------------------------\n |  Readonly properties inherited from honeybee_plus.radiance.recipe._gridbasedbase.GenericGridBased:\n |  \n |  analysis_grid_count\n |      Number of point groups.\n |  \n |  legend_parameters\n |      Legend parameters for grid based analysis.\n |  \n |  points\n |      Return nested list of points.\n |  \n |  total_point_count\n |      Number of total points.\n |  \n |  vectors\n |      Nested list of vectors.\n |  \n |  ----------------------------------------------------------------------\n |  Data descriptors inherited from honeybee_plus.radiance.recipe._gridbasedbase.GenericGridBased:\n |  \n |  analysis_grids\n |      Return analysis grids.\n |  \n |  ----------------------------------------------------------------------\n |  Data and other attributes inherited from honeybee_plus.radiance.recipe._gridbasedbase.GenericGridBased:\n |  \n |  __metaclass__ = &lt;class &#39;abc.ABCMeta&#39;&gt;\n |      Metaclass for defining Abstract Base Classes (ABCs).\n |      \n |      Use this metaclass to create an ABC.  An ABC can be subclassed\n |      directly, and then acts as a mix-in class.  You can also register\n |      unrelated concrete classes (even built-in classes) and unrelated\n |      ABCs as &#39;virtual subclasses&#39; -- these and their descendants will\n |      be considered subclasses of the registering ABC by the built-in\n |      issubclass() function, but the registering ABC won&#39;t show up in\n |      their MRO (Method Resolution Order) nor will method\n |      implementations defined by the registering ABC be callable (not\n |      even via super()).\n |  \n |  ----------------------------------------------------------------------\n |  Methods inherited from honeybee_plus.radiance.recipe._recipebase.AnalysisRecipe:\n |  \n |  header(self, target_folder, include_rad_path=True)\n |      Get the header for bat file.\n |      \n |      The header changes the path into project path and also add lines to set PATH and\n |      PATHRAY for Radiance.\n |      \n |      IncludeRadPath is only useful for Windows.\n |      \n |      Args:\n |          target_folder: Full path to working directory.\n |          include_rad_path: At the Boolean to True to include path to radiance\n |              installation folder.\n |  \n |  run(self, command_file, debug=False, env=None)\n |      Run the analysis.\n |  \n |  to_rad_string(self)\n |      Radiance representation of the recipe.\n |  \n |  write_content(self, target_folder, project_name=&#39;untitled&#39;, remove_content=True, subfolders=[&#39;scene&#39;, &#39;sky&#39;, &#39;result&#39;])\n |      Write geometry and material files to folder for this recipe.\n |      \n |      This method in recipebase creates the folder and subfolders for &#39;scene&#39;,\n |      &#39;result&#39; and &#39;sky&#39; which is shared between all the recipes. If there is a\n |      scene added to the recipe by user a folder will be created as &#39;scene/extra&#39;.\n |      \n |      Args:\n |          subfolders: List of subfolders to be added to &#39;scene&#39;, &#39;sky&#39; and &#39;result&#39;.\n |      Returns:\n |          Path to analysis folder.\n |  \n |  ----------------------------------------------------------------------\n |  Static methods inherited from honeybee_plus.radiance.recipe._recipebase.AnalysisRecipe:\n |  \n |  relpath(path, start)\n |      Return a relative path.\n |  \n |  ----------------------------------------------------------------------\n |  Readonly properties inherited from honeybee_plus.radiance.recipe._recipebase.AnalysisRecipe:\n |  \n |  commands\n |      List of recipe commands.\n |  \n |  glazing_rad_file\n |      A RadFile for glazing surfaces in this recipe.\n |  \n |  glazing_surfaces\n |      Collection of glazing surfaces in this recipe.\n |  \n |  isAnalysisRecipe\n |      Return true to indicate it is an analysis recipe.\n |  \n |  is_calculated\n |      Return True if the recipe is calculated.\n |  \n |  opaque_rad_file\n |      A RadFile for opaque surfaces in this recipe.\n |  \n |  opaque_surfaces\n |      Collection of opaque surfaces in this recipe.\n |  \n |  result_files\n |      Get list of result files for this recipe.\n |  \n |  window_groups\n |      Collection of window groups in this recipe.\n |  \n |  window_groups_rad_files\n |      Collection of RadFiles for window groups in this recipe.\n |  \n |  ----------------------------------------------------------------------\n |  Data descriptors inherited from honeybee_plus.radiance.recipe._recipebase.AnalysisRecipe:\n |  \n |  __dict__\n |      dictionary for instance variables (if defined)\n |  \n |  __weakref__\n |      list of weak references to the object (if defined)\n |  \n |  hb_objects\n |      Get and set Honeybee objects for this recipe.\n |  \n |  scene\n |      A base honeybee_plus.radiance.scene for the recipe.\n |  \n |  sub_folder\n |      Sub-folder for Grid-based analysis.\n\nNone\n"
    }
   ],
   "source": [
    "# generate grid of test points\n",
    "analysis_grid = room.generate_test_points(grid_size=0.5, height=0.75)\n",
    "\n",
    "# put the recipe together\n",
    "rp = GridBased(sky=sky, analysis_grids=(analysis_grid,), simulation_type=0,\n",
    "               hb_objects=(room,))\n",
    "#print(rp)\n",
    "#print(help(GridBased))\n",
    "               "
   ]
  },
  {
   "cell_type": "code",
   "execution_count": 5,
   "metadata": {
    "tags": []
   },
   "outputs": [
    {
     "output_type": "stream",
     "name": "stdout",
     "text": "Writing recipe contents to: .\\room\\gridbased\n"
    }
   ],
   "source": [
    "\n",
    "# write simulation to folder\n",
    "batch_file = rp.write(\n",
    "    target_folder='.', project_name='room')"
   ]
  },
  {
   "cell_type": "code",
   "execution_count": 6,
   "metadata": {},
   "outputs": [
    {
     "output_type": "execute_result",
     "data": {
      "text/plain": "True"
     },
     "metadata": {},
     "execution_count": 6
    }
   ],
   "source": [
    "# run the simulation\n",
    "rp.run(batch_file, debug=False)"
   ]
  },
  {
   "cell_type": "code",
   "execution_count": 8,
   "metadata": {
    "tags": []
   },
   "outputs": [
    {
     "output_type": "stream",
     "name": "stdout",
     "text": "Unloading the current values from the analysis grids.\nilluminance value: 33 lux\nilluminance value: 75 lux\nilluminance value: 315 lux\nilluminance value: 392 lux\nilluminance value: 402 lux\nilluminance value: 348 lux\nilluminance value: 100 lux\nilluminance value: 22 lux\nilluminance value: 65 lux\nilluminance value: 121 lux\nilluminance value: 217 lux\nilluminance value: 286 lux\nilluminance value: 304 lux\nilluminance value: 272 lux\nilluminance value: 194 lux\nilluminance value: 85 lux\nilluminance value: 78 lux\nilluminance value: 111 lux\nilluminance value: 157 lux\nilluminance value: 207 lux\nilluminance value: 227 lux\nilluminance value: 229 lux\nilluminance value: 233 lux\nilluminance value: 154 lux\nilluminance value: 74 lux\nilluminance value: 91 lux\nilluminance value: 125 lux\nilluminance value: 156 lux\nilluminance value: 178 lux\nilluminance value: 231 lux\nilluminance value: 259 lux\nilluminance value: 185 lux\nilluminance value: 60 lux\nilluminance value: 75 lux\nilluminance value: 107 lux\nilluminance value: 134 lux\nilluminance value: 165 lux\nilluminance value: 202 lux\nilluminance value: 263 lux\nilluminance value: 184 lux\nilluminance value: 60 lux\nilluminance value: 68 lux\nilluminance value: 92 lux\nilluminance value: 119 lux\nilluminance value: 152 lux\nilluminance value: 210 lux\nilluminance value: 255 lux\nilluminance value: 172 lux\nilluminance value: 52 lux\nilluminance value: 62 lux\nilluminance value: 81 lux\nilluminance value: 102 lux\nilluminance value: 136 lux\nilluminance value: 189 lux\nilluminance value: 247 lux\nilluminance value: 167 lux\nilluminance value: 43 lux\nilluminance value: 53 lux\nilluminance value: 70 lux\nilluminance value: 94 lux\nilluminance value: 129 lux\nilluminance value: 188 lux\nilluminance value: 248 lux\nilluminance value: 161 lux\nilluminance value: 42 lux\nilluminance value: 51 lux\nilluminance value: 62 lux\nilluminance value: 81 lux\nilluminance value: 115 lux\nilluminance value: 149 lux\nilluminance value: 213 lux\nilluminance value: 150 lux\nilluminance value: 36 lux\nilluminance value: 42 lux\nilluminance value: 51 lux\nilluminance value: 72 lux\nilluminance value: 88 lux\nilluminance value: 130 lux\nilluminance value: 167 lux\nilluminance value: 118 lux\nilluminance value: 31 lux\nilluminance value: 35 lux\nilluminance value: 49 lux\nilluminance value: 56 lux\nilluminance value: 74 lux\nilluminance value: 92 lux\nilluminance value: 101 lux\nilluminance value: 58 lux\nilluminance value: 29 lux\nilluminance value: 34 lux\nilluminance value: 42 lux\nilluminance value: 48 lux\nilluminance value: 55 lux\nilluminance value: 65 lux\nilluminance value: 55 lux\nilluminance value: 22 lux\n"
    }
   ],
   "source": [
    "\n",
    "# results - in this case it will be an analysis grid\n",
    "result = rp.results()[0]\n",
    "\n",
    "# print the values for each point\n",
    "for value in result.combined_value_by_id():\n",
    "    print('illuminance value: %d lux' % value[0])\n"
   ]
  },
  {
   "cell_type": "code",
   "execution_count": null,
   "metadata": {},
   "outputs": [],
   "source": []
  }
 ]
}