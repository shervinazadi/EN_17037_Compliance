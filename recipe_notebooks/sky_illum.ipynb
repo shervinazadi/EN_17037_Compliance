{
 "metadata": {
  "language_info": {
   "codemirror_mode": {
    "name": "ipython",
    "version": 3
   },
   "file_extension": ".py",
   "mimetype": "text/x-python",
   "name": "python",
   "nbconvert_exporter": "python",
   "pygments_lexer": "ipython3",
   "version": "3.8.5-final"
  },
  "orig_nbformat": 2,
  "kernelspec": {
   "name": "Python 3.8.5 64-bit ('environmental': conda)",
   "display_name": "Python 3.8.5 64-bit ('environmental': conda)",
   "metadata": {
    "interpreter": {
     "hash": "e27e6096067a616dec79045cf409423a9c007e56e5a32f2b7b56e2bb4865536c"
    }
   }
  }
 },
 "nbformat": 4,
 "nbformat_minor": 2,
 "cells": [
  {
   "cell_type": "code",
   "execution_count": 15,
   "metadata": {
    "tags": []
   },
   "outputs": [],
   "source": [
    "from honeybee_plus.room import Room\n",
    "from honeybee_plus.radiance.material.glass import Glass\n",
    "from honeybee_plus.radiance.sky.certainIlluminance import CertainIlluminanceLevel\n",
    "from honeybee_plus.radiance.recipe.pointintime.gridbased import GridBased"
   ]
  },
  {
   "cell_type": "code",
   "execution_count": 16,
   "metadata": {},
   "outputs": [],
   "source": [
    "# create a test room\n",
    "room = Room(origin=(0, 0, 3.2), width=4.2, depth=6, height=3.2,\n",
    "            rotation_angle=45)\n",
    "\n",
    "# add fenestration\n",
    "# add a window to the back wall\n",
    "room.add_fenestration_surface(\n",
    "    wall_name='back', width=2, height=2, sill_height=0.7)\n",
    "\n",
    "# add another window with custom material. This time to the right wall\n",
    "glass_60 = Glass.by_single_trans_value('tvis_0.6', 0.6)\n",
    "room.add_fenestration_surface('right', 4, 1.5, 1.2, radiance_material=glass_60)"
   ]
  },
  {
   "cell_type": "code",
   "execution_count": 17,
   "metadata": {
    "tags": []
   },
   "outputs": [
    {
     "output_type": "stream",
     "name": "stdout",
     "text": "Uniform CIE sky based on illuminance value.\n\n    Attributes:\n        illuminance_value: Desired illuminance value in lux\n        sky_type: An integer between 0..1 to indicate CIE Sky Type.\n            [0] cloudy sky, [1] uniform sky (default: 0)\n        suffix: An optional suffix for sky name. The suffix will be added at the\n            end of the standard name. Use this input to customize the new and\n            avoid sky being overwritten by other skymatrix components.\n    Usage:\n\n        sky = CertainIlluminanceLevel(1000)\n        sky.execute(&quot;c:/ladybug/1000luxsky.sky&quot;)\n    \n"
    }
   ],
   "source": [
    "# generate the sky\n",
    "sky = CertainIlluminanceLevel(illuminance_value=2000,sky_type=1)\n",
    "print(CertainIlluminanceLevel.__doc__)"
   ]
  },
  {
   "cell_type": "code",
   "execution_count": 18,
   "metadata": {
    "tags": []
   },
   "outputs": [
    {
     "output_type": "stream",
     "name": "stdout",
     "text": "Found 6 opaque surfaces.\nFound 4 fenestration surfaces.\nFound 0 window-groups.\n"
    }
   ],
   "source": [
    "# generate grid of test points\n",
    "analysis_grid = room.generate_test_points(grid_size=0.5, height=0.75)\n",
    "\n",
    "# put the recipe together\n",
    "rp = GridBased(sky=sky, analysis_grids=(analysis_grid,), simulation_type=0,\n",
    "               hb_objects=(room,))\n",
    "\n",
    "# print(GridBased.__doc__)\n"
   ]
  },
  {
   "cell_type": "code",
   "execution_count": 19,
   "metadata": {
    "tags": []
   },
   "outputs": [
    {
     "output_type": "stream",
     "name": "stdout",
     "text": "Writing recipe contents to: ./room/gridbased\n"
    }
   ],
   "source": [
    "# write simulation to folder\n",
    "batch_file = rp.write(\n",
    "    target_folder='.', project_name='room')"
   ]
  },
  {
   "cell_type": "code",
   "execution_count": 20,
   "metadata": {
    "tags": []
   },
   "outputs": [
    {
     "output_type": "stream",
     "name": "stdout",
     "text": "[&#39;#!/usr/bin/env bash\\n\\n\\n\\ncd ./room/gridbased\\n&#39;, &#39;/usr/local/radiance/bin/gensky 9 21 12 -u -B 11.1731843575419 &gt; sky/CertainIlluminanceLevel_2000.sky&#39;, &#39;/usr/local/radiance/bin/oconv -f sky/CertainIlluminanceLevel_2000.sky sky/groundSky.rad scene/opaque/room..opq.mat scene/opaque/room..opq.rad scene/glazing/room..glz.mat scene/glazing/room..glz.rad &gt; room.oct&#39;, &#39;/usr/local/radiance/bin/rtrace -aa 0.25 -ab 2 -ad 512 -ar 16 -as 128 -dc 0.25 -dj 0.0 -dp 64 -ds 0.5 -dr 0 -dt 0.5 -e error.txt -h -I -lr 4 -lw 0.05 -ss 0.0 -st 0.85 room.oct &lt; room.pts &gt; result/room.res&#39;, &quot;/usr/local/radiance/bin/rcalc -e &#39;$1=(0.265*$1+0.67*$2+0.065*$3)*179&#39; result/room.res &gt; result/room.ill&quot;]\n"
    },
    {
     "output_type": "execute_result",
     "data": {
      "text/plain": "True"
     },
     "metadata": {},
     "execution_count": 20
    }
   ],
   "source": [
    "# run the simulation\n",
    "print(rp._commands)\n",
    "rp.run(batch_file, debug=False)"
   ]
  },
  {
   "cell_type": "code",
   "execution_count": 21,
   "metadata": {
    "tags": []
   },
   "outputs": [
    {
     "output_type": "stream",
     "name": "stdout",
     "text": "Unloading the current values from the analysis grids.\nilluminance value: 46 lux\nilluminance value: 88 lux\nilluminance value: 339 lux\nilluminance value: 414 lux\nilluminance value: 419 lux\nilluminance value: 372 lux\nilluminance value: 115 lux\nilluminance value: 30 lux\nilluminance value: 98 lux\nilluminance value: 141 lux\nilluminance value: 241 lux\nilluminance value: 318 lux\nilluminance value: 335 lux\nilluminance value: 289 lux\nilluminance value: 199 lux\nilluminance value: 90 lux\nilluminance value: 109 lux\nilluminance value: 136 lux\nilluminance value: 184 lux\nilluminance value: 236 lux\nilluminance value: 262 lux\nilluminance value: 255 lux\nilluminance value: 250 lux\nilluminance value: 157 lux\nilluminance value: 108 lux\nilluminance value: 122 lux\nilluminance value: 154 lux\nilluminance value: 187 lux\nilluminance value: 214 lux\nilluminance value: 256 lux\nilluminance value: 275 lux\nilluminance value: 179 lux\nilluminance value: 93 lux\nilluminance value: 115 lux\nilluminance value: 138 lux\nilluminance value: 162 lux\nilluminance value: 204 lux\nilluminance value: 236 lux\nilluminance value: 280 lux\nilluminance value: 173 lux\nilluminance value: 91 lux\nilluminance value: 99 lux\nilluminance value: 111 lux\nilluminance value: 151 lux\nilluminance value: 191 lux\nilluminance value: 242 lux\nilluminance value: 268 lux\nilluminance value: 168 lux\nilluminance value: 77 lux\nilluminance value: 97 lux\nilluminance value: 109 lux\nilluminance value: 123 lux\nilluminance value: 174 lux\nilluminance value: 223 lux\nilluminance value: 262 lux\nilluminance value: 160 lux\nilluminance value: 74 lux\nilluminance value: 78 lux\nilluminance value: 92 lux\nilluminance value: 122 lux\nilluminance value: 167 lux\nilluminance value: 206 lux\nilluminance value: 245 lux\nilluminance value: 156 lux\nilluminance value: 66 lux\nilluminance value: 70 lux\nilluminance value: 84 lux\nilluminance value: 102 lux\nilluminance value: 140 lux\nilluminance value: 185 lux\nilluminance value: 228 lux\nilluminance value: 137 lux\nilluminance value: 60 lux\nilluminance value: 60 lux\nilluminance value: 75 lux\nilluminance value: 87 lux\nilluminance value: 119 lux\nilluminance value: 141 lux\nilluminance value: 177 lux\nilluminance value: 115 lux\nilluminance value: 51 lux\nilluminance value: 57 lux\nilluminance value: 62 lux\nilluminance value: 81 lux\nilluminance value: 96 lux\nilluminance value: 117 lux\nilluminance value: 110 lux\nilluminance value: 55 lux\nilluminance value: 47 lux\nilluminance value: 47 lux\nilluminance value: 54 lux\nilluminance value: 68 lux\nilluminance value: 72 lux\nilluminance value: 84 lux\nilluminance value: 75 lux\nilluminance value: 28 lux\n"
    }
   ],
   "source": [
    "# results - in this case it will be an analysis grid\n",
    "result = rp.results()[0]\n",
    "\n",
    "# print the values for each point\n",
    "for value in result.combined_value_by_id():\n",
    "    print('illuminance value: %d lux' % value[0])"
   ]
  },
  {
   "cell_type": "code",
   "execution_count": null,
   "metadata": {},
   "outputs": [],
   "source": []
  }
 ]
}