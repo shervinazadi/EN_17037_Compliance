{
 "metadata": {
  "language_info": {
   "codemirror_mode": {
    "name": "ipython",
    "version": 3
   },
   "file_extension": ".py",
   "mimetype": "text/x-python",
   "name": "python",
   "nbconvert_exporter": "python",
   "pygments_lexer": "ipython3",
   "version": "3.8.5-final"
  },
  "orig_nbformat": 2,
  "kernelspec": {
   "name": "python_defaultSpec_1600259347707",
   "display_name": "Python 3.8.5 64-bit ('environmental': conda)"
  }
 },
 "nbformat": 4,
 "nbformat_minor": 2,
 "cells": [
  {
   "cell_type": "code",
   "execution_count": 1,
   "metadata": {
    "tags": []
   },
   "outputs": [
    {
     "output_type": "stream",
     "name": "stdout",
     "text": "Path to radiance is set to: /usr/local/radiance\nPath to perl is set to: /usr/bin\n"
    }
   ],
   "source": [
    "from honeybee_plus.room import Room\n",
    "from honeybee_plus.radiance.material.glass import Glass\n",
    "from honeybee_plus.radiance.sky.certainIlluminance import CertainIlluminanceLevel\n",
    "from honeybee_plus.radiance.recipe.pointintime.gridbased import GridBased"
   ]
  },
  {
   "cell_type": "code",
   "execution_count": 2,
   "metadata": {},
   "outputs": [],
   "source": [
    "\n",
    "# create a test room\n",
    "room = Room(origin=(0, 0, 3.2), width=4.2, depth=6, height=3.2,\n",
    "            rotation_angle=45)\n",
    "\n",
    "# add fenestration\n",
    "# add a window to the back wall\n",
    "room.add_fenestration_surface(\n",
    "    wall_name='back', width=2, height=2, sill_height=0.7)\n",
    "\n",
    "# add another window with custom material. This time to the right wall\n",
    "glass_60 = Glass.by_single_trans_value('tvis_0.6', 0.6)\n",
    "room.add_fenestration_surface('right', 4, 1.5, 1.2, radiance_material=glass_60)\n"
   ]
  },
  {
   "cell_type": "code",
   "execution_count": 3,
   "metadata": {},
   "outputs": [],
   "source": [
    "# generate the sky\n",
    "sky = CertainIlluminanceLevel(illuminance_value=2000)"
   ]
  },
  {
   "cell_type": "code",
   "execution_count": 4,
   "metadata": {
    "tags": []
   },
   "outputs": [
    {
     "output_type": "stream",
     "name": "stdout",
     "text": "Found 6 opaque surfaces.\nFound 4 fenestration surfaces.\nFound 0 window-groups.\n"
    }
   ],
   "source": [
    "# generate grid of test points\n",
    "analysis_grid = room.generate_test_points(grid_size=0.5, height=0.75)\n",
    "\n",
    "# put the recipe together\n",
    "rp = GridBased(sky=sky, analysis_grids=(analysis_grid,), simulation_type=0,\n",
    "               hb_objects=(room,))\n",
    "               "
   ]
  },
  {
   "cell_type": "code",
   "execution_count": 6,
   "metadata": {
    "tags": []
   },
   "outputs": [
    {
     "output_type": "stream",
     "name": "stdout",
     "text": "Writing recipe contents to: ./room/gridbased\n"
    }
   ],
   "source": [
    "\n",
    "# write simulation to folder\n",
    "batch_file = rp.write(\n",
    "    target_folder='.', project_name='room')"
   ]
  },
  {
   "cell_type": "code",
   "execution_count": 7,
   "metadata": {},
   "outputs": [
    {
     "output_type": "execute_result",
     "data": {
      "text/plain": "True"
     },
     "metadata": {},
     "execution_count": 7
    }
   ],
   "source": [
    "# run the simulation\n",
    "rp.run(batch_file, debug=False)"
   ]
  },
  {
   "cell_type": "code",
   "execution_count": 8,
   "metadata": {
    "tags": []
   },
   "outputs": [
    {
     "output_type": "stream",
     "name": "stdout",
     "text": "Unloading the current values from the analysis grids.\nilluminance value: 33 lux\nilluminance value: 75 lux\nilluminance value: 315 lux\nilluminance value: 392 lux\nilluminance value: 402 lux\nilluminance value: 348 lux\nilluminance value: 100 lux\nilluminance value: 22 lux\nilluminance value: 65 lux\nilluminance value: 121 lux\nilluminance value: 217 lux\nilluminance value: 286 lux\nilluminance value: 304 lux\nilluminance value: 272 lux\nilluminance value: 194 lux\nilluminance value: 85 lux\nilluminance value: 78 lux\nilluminance value: 111 lux\nilluminance value: 157 lux\nilluminance value: 207 lux\nilluminance value: 227 lux\nilluminance value: 229 lux\nilluminance value: 233 lux\nilluminance value: 154 lux\nilluminance value: 74 lux\nilluminance value: 91 lux\nilluminance value: 125 lux\nilluminance value: 156 lux\nilluminance value: 178 lux\nilluminance value: 231 lux\nilluminance value: 259 lux\nilluminance value: 185 lux\nilluminance value: 60 lux\nilluminance value: 75 lux\nilluminance value: 107 lux\nilluminance value: 134 lux\nilluminance value: 165 lux\nilluminance value: 202 lux\nilluminance value: 263 lux\nilluminance value: 184 lux\nilluminance value: 60 lux\nilluminance value: 68 lux\nilluminance value: 92 lux\nilluminance value: 119 lux\nilluminance value: 152 lux\nilluminance value: 210 lux\nilluminance value: 255 lux\nilluminance value: 172 lux\nilluminance value: 52 lux\nilluminance value: 62 lux\nilluminance value: 81 lux\nilluminance value: 102 lux\nilluminance value: 136 lux\nilluminance value: 189 lux\nilluminance value: 247 lux\nilluminance value: 167 lux\nilluminance value: 43 lux\nilluminance value: 53 lux\nilluminance value: 70 lux\nilluminance value: 94 lux\nilluminance value: 129 lux\nilluminance value: 188 lux\nilluminance value: 248 lux\nilluminance value: 161 lux\nilluminance value: 42 lux\nilluminance value: 51 lux\nilluminance value: 62 lux\nilluminance value: 81 lux\nilluminance value: 115 lux\nilluminance value: 149 lux\nilluminance value: 213 lux\nilluminance value: 150 lux\nilluminance value: 36 lux\nilluminance value: 42 lux\nilluminance value: 51 lux\nilluminance value: 72 lux\nilluminance value: 88 lux\nilluminance value: 130 lux\nilluminance value: 167 lux\nilluminance value: 118 lux\nilluminance value: 31 lux\nilluminance value: 35 lux\nilluminance value: 49 lux\nilluminance value: 56 lux\nilluminance value: 74 lux\nilluminance value: 92 lux\nilluminance value: 101 lux\nilluminance value: 58 lux\nilluminance value: 29 lux\nilluminance value: 34 lux\nilluminance value: 42 lux\nilluminance value: 48 lux\nilluminance value: 55 lux\nilluminance value: 65 lux\nilluminance value: 55 lux\nilluminance value: 22 lux\n"
    }
   ],
   "source": [
    "\n",
    "# results - in this case it will be an analysis grid\n",
    "result = rp.results()[0]\n",
    "\n",
    "# print the values for each point\n",
    "for value in result.combined_value_by_id():\n",
    "    print('illuminance value: %d lux' % value[0])\n"
   ]
  },
  {
   "cell_type": "code",
   "execution_count": null,
   "metadata": {},
   "outputs": [],
   "source": []
  }
 ]
}