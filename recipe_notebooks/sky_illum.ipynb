{
 "metadata": {
  "language_info": {
   "codemirror_mode": {
    "name": "ipython",
    "version": 3
   },
   "file_extension": ".py",
   "mimetype": "text/x-python",
   "name": "python",
   "nbconvert_exporter": "python",
   "pygments_lexer": "ipython3",
   "version": "3.8.5-final"
  },
  "orig_nbformat": 2,
  "kernelspec": {
   "name": "Python 3.8.5 64-bit ('environmental': conda)",
   "display_name": "Python 3.8.5 64-bit ('environmental': conda)",
   "metadata": {
    "interpreter": {
     "hash": "e27e6096067a616dec79045cf409423a9c007e56e5a32f2b7b56e2bb4865536c"
    }
   }
  }
 },
 "nbformat": 4,
 "nbformat_minor": 2,
 "cells": [
  {
   "cell_type": "code",
   "execution_count": 1,
   "metadata": {},
   "outputs": [
    {
     "output_type": "stream",
     "name": "stdout",
     "text": [
      "Path to radiance is set to: /usr/local/radiance\nPath to perl is set to: /usr/bin\nGrid base analysis base class.\n\n    Attributes:\n        sky: A honeybee sky for the analysis\n        analysis_grids: List of analysis grids.\n        simulation_type: 0: Illuminance(lux), 1: Radiation (kWh), 2: Luminance (Candela)\n            (Default: 0)\n        rad_parameters: Radiance parameters for grid based analysis (rtrace).\n            (Default: gridbased.LowQuality)\n        hb_objects: An optional list of Honeybee surfaces or zones (Default: None).\n        sub_folder: Analysis subfolder for this recipe. (Default: \"gridbased\")\n\n    Usage:\n        # create the sky\n        sky = SkyWithCertainIlluminanceLevel(2000)\n\n        # initiate analysis_recipe\n        analysis_recipe = GridBased(\n            sky, testPoints, ptsVectors, simType\n            )\n\n        # add honeybee object\n        analysis_recipe.hb_objects = HBObjs\n\n        # write analysis files to local drive\n        analysis_recipe.write(_folder_, _name_)\n\n        # run the analysis\n        analysis_recipe.run(debaug=False)\n\n        # get the results\n        print(analysis_recipe.results())\n    \n"
     ]
    }
   ],
   "source": [
    "from honeybee_plus.room import Room\n",
    "from honeybee_plus.radiance.material.glass import Glass\n",
    "from honeybee_plus.radiance.sky.certainIlluminance import CertainIlluminanceLevel\n",
    "from honeybee_plus.radiance.recipe.pointintime.gridbased import GridBased\n",
    "print(GridBased.__doc__)\n",
    "#the function rtrace is the radiance function for emitting rays from a point to 180 degrees of solid angles.\n",
    "#https://www.radiance-online.org/learning/documentation/manual-pages\n",
    "\n",
    "# One can see that a type of recipes is imported above. If one wants to see the commands available within a 'recipe', one can run print(rp._commands), where rp is the name of a recipe object\n",
    "#rtrace: https://www.radiance-online.org/learning/documentation/manual-pages/pdfs/rtrace.pdf\n",
    "#rcontrib: https://www.radiance-online.org/learning/documentation/manual-pages/pdfs/rcontrib.pdf"
   ]
  },
  {
   "cell_type": "code",
   "execution_count": 2,
   "metadata": {},
   "outputs": [],
   "source": [
    "# create a test room\n",
    "room = Room(origin=(0, 0, 3.2), width=4.2, depth=6, height=3.2,\n",
    "            rotation_angle=45)\n",
    "\n",
    "# add fenestration\n",
    "# add a window to the back wall\n",
    "room.add_fenestration_surface(\n",
    "    wall_name='back', width=2, height=2, sill_height=0.7)\n",
    "\n",
    "# add another window with custom material. This time to the right wall\n",
    "glass_60 = Glass.by_single_trans_value('tvis_0.6', 0.6)\n",
    "room.add_fenestration_surface('right', 4, 1.5, 1.2, radiance_material=glass_60)"
   ]
  },
  {
   "cell_type": "code",
   "execution_count": 3,
   "metadata": {},
   "outputs": [
    {
     "output_type": "stream",
     "name": "stdout",
     "text": [
      "Uniform CIE sky based on illuminance value.\n\n    Attributes:\n        illuminance_value: Desired illuminance value in lux\n        sky_type: An integer between 0..1 to indicate CIE Sky Type.\n            [0] cloudy sky, [1] uniform sky (default: 0)\n        suffix: An optional suffix for sky name. The suffix will be added at the\n            end of the standard name. Use this input to customize the new and\n            avoid sky being overwritten by other skymatrix components.\n    Usage:\n\n        sky = CertainIlluminanceLevel(1000)\n        sky.execute(\"c:/ladybug/1000luxsky.sky\")\n    \n"
     ]
    }
   ],
   "source": [
    "# generate the sky\n",
    "sky = CertainIlluminanceLevel(illuminance_value=2000,sky_type=1)\n",
    "print(CertainIlluminanceLevel.__doc__)"
   ]
  },
  {
   "cell_type": "code",
   "execution_count": 4,
   "metadata": {},
   "outputs": [
    {
     "output_type": "stream",
     "name": "stdout",
     "text": [
      "Found 6 opaque surfaces.\nFound 4 fenestration surfaces.\nFound 0 window-groups.\n"
     ]
    }
   ],
   "source": [
    "# generate grid of test points\n",
    "analysis_grid = room.generate_test_points(grid_size=0.5, height=0.75)\n",
    "\n",
    "# put the recipe together\n",
    "rp = GridBased(sky=sky, analysis_grids=(analysis_grid,), simulation_type=0,\n",
    "               hb_objects=(room,))\n",
    "\n",
    "# print(GridBased.__doc__)"
   ]
  },
  {
   "cell_type": "code",
   "execution_count": 5,
   "metadata": {},
   "outputs": [
    {
     "output_type": "stream",
     "name": "stdout",
     "text": [
      "Writing recipe contents to: ./room/gridbased\n"
     ]
    }
   ],
   "source": [
    "# write simulation to folder\n",
    "batch_file = rp.write(\n",
    "    target_folder='.', project_name='room')"
   ]
  },
  {
   "cell_type": "code",
   "execution_count": 6,
   "metadata": {},
   "outputs": [
    {
     "output_type": "stream",
     "name": "stdout",
     "text": [
      "['#!/usr/bin/env bash\\n\\n\\n\\ncd ./room/gridbased\\n', '/usr/local/radiance/bin/gensky 9 21 12 -u -B 11.1731843575419 > sky/CertainIlluminanceLevel_2000.sky', '/usr/local/radiance/bin/oconv -f sky/CertainIlluminanceLevel_2000.sky sky/groundSky.rad scene/opaque/room..opq.mat scene/opaque/room..opq.rad scene/glazing/room..glz.mat scene/glazing/room..glz.rad > room.oct', '/usr/local/radiance/bin/rtrace -aa 0.25 -ab 2 -ad 512 -ar 16 -as 128 -dc 0.25 -dj 0.0 -dp 64 -ds 0.5 -dr 0 -dt 0.5 -e error.txt -h -I -lr 4 -lw 0.05 -ss 0.0 -st 0.85 room.oct < room.pts > result/room.res', \"/usr/local/radiance/bin/rcalc -e '$1=(0.265*$1+0.67*$2+0.065*$3)*179' result/room.res > result/room.ill\"]\n"
     ]
    },
    {
     "output_type": "execute_result",
     "data": {
      "text/plain": [
       "True"
      ]
     },
     "metadata": {},
     "execution_count": 6
    }
   ],
   "source": [
    "# run the simulation\n",
    "print(rp._commands)\n",
    "rp.run(batch_file, debug=False)"
   ]
  },
  {
   "cell_type": "code",
   "execution_count": 7,
   "metadata": {},
   "outputs": [
    {
     "output_type": "stream",
     "name": "stdout",
     "text": [
      "Unloading the current values from the analysis grids.\nilluminance value: 45 lux\nilluminance value: 90 lux\nilluminance value: 340 lux\nilluminance value: 417 lux\nilluminance value: 427 lux\nilluminance value: 367 lux\nilluminance value: 103 lux\nilluminance value: 30 lux\nilluminance value: 90 lux\nilluminance value: 147 lux\nilluminance value: 245 lux\nilluminance value: 308 lux\nilluminance value: 327 lux\nilluminance value: 295 lux\nilluminance value: 203 lux\nilluminance value: 95 lux\nilluminance value: 101 lux\nilluminance value: 136 lux\nilluminance value: 190 lux\nilluminance value: 234 lux\nilluminance value: 257 lux\nilluminance value: 249 lux\nilluminance value: 249 lux\nilluminance value: 154 lux\nilluminance value: 105 lux\nilluminance value: 118 lux\nilluminance value: 165 lux\nilluminance value: 193 lux\nilluminance value: 218 lux\nilluminance value: 253 lux\nilluminance value: 272 lux\nilluminance value: 173 lux\nilluminance value: 98 lux\nilluminance value: 108 lux\nilluminance value: 136 lux\nilluminance value: 168 lux\nilluminance value: 212 lux\nilluminance value: 240 lux\nilluminance value: 272 lux\nilluminance value: 182 lux\nilluminance value: 87 lux\nilluminance value: 96 lux\nilluminance value: 117 lux\nilluminance value: 145 lux\nilluminance value: 174 lux\nilluminance value: 244 lux\nilluminance value: 274 lux\nilluminance value: 165 lux\nilluminance value: 82 lux\nilluminance value: 86 lux\nilluminance value: 101 lux\nilluminance value: 138 lux\nilluminance value: 157 lux\nilluminance value: 233 lux\nilluminance value: 272 lux\nilluminance value: 161 lux\nilluminance value: 74 lux\nilluminance value: 78 lux\nilluminance value: 96 lux\nilluminance value: 128 lux\nilluminance value: 139 lux\nilluminance value: 208 lux\nilluminance value: 242 lux\nilluminance value: 154 lux\nilluminance value: 67 lux\nilluminance value: 74 lux\nilluminance value: 78 lux\nilluminance value: 104 lux\nilluminance value: 138 lux\nilluminance value: 174 lux\nilluminance value: 223 lux\nilluminance value: 142 lux\nilluminance value: 58 lux\nilluminance value: 65 lux\nilluminance value: 78 lux\nilluminance value: 89 lux\nilluminance value: 111 lux\nilluminance value: 155 lux\nilluminance value: 182 lux\nilluminance value: 114 lux\nilluminance value: 52 lux\nilluminance value: 57 lux\nilluminance value: 65 lux\nilluminance value: 71 lux\nilluminance value: 90 lux\nilluminance value: 101 lux\nilluminance value: 110 lux\nilluminance value: 51 lux\nilluminance value: 49 lux\nilluminance value: 50 lux\nilluminance value: 59 lux\nilluminance value: 69 lux\nilluminance value: 78 lux\nilluminance value: 86 lux\nilluminance value: 70 lux\nilluminance value: 26 lux\n"
     ]
    }
   ],
   "source": [
    "# results - in this case it will be an analysis grid\n",
    "result = rp.results()[0]\n",
    "\n",
    "# print the values for each point\n",
    "for value in result.combined_value_by_id():\n",
    "    print('illuminance value: %d lux' % value[0])"
   ]
  }
 ]
}