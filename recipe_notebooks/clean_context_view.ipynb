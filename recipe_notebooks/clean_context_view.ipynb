{
 "cells": [
  {
   "cell_type": "code",
   "execution_count": 1,
   "metadata": {},
   "outputs": [
    {
     "output_type": "stream",
     "name": "stdout",
     "text": [
      "Path to radiance is set to: /usr/local/radiance\nPath to perl is set to: /usr/bin\n"
     ]
    }
   ],
   "source": [
    "import esm\n",
    "import pyvista as pv\n",
    "import os\n",
    "import pandas as pd\n",
    "import numpy as np\n",
    "import trimesh as tm\n",
    "\n",
    "cwd = os.getcwd()\n",
    "src = os.path.dirname(cwd)"
   ]
  },
  {
   "cell_type": "code",
   "execution_count": 2,
   "metadata": {},
   "outputs": [],
   "source": [
    "# import all external geometry with pyvista\n",
    "wal_filepath = os.path.join(src, \"data\", \"test_room_walls_02.obj\")\n",
    "wal_mesh = pv.read(wal_filepath)\n",
    "fen_filepath = os.path.join(src, \"data\", \"test_room_fens_02.obj\")\n",
    "fen_mesh = pv.read(fen_filepath)\n",
    "\n",
    "con_buildings_filepath = os.path.join(src, \"data\", \"test_context_01_buildings.obj\")\n",
    "con_buildings_mesh = pv.read(con_buildings_filepath)\n",
    "con_ground_filepath = os.path.join(src, \"data\", \"test_context_01_ground.obj\")\n",
    "con_ground_mesh = pv.read(con_ground_filepath)\n",
    "# con_sky_filepath = os.path.join(src, \"data\", \"test_context_01_sky.obj\")\n",
    "# con_sky_mesh = pv.read(con_sky_filepath)\n",
    "con_vegetation_filepath = os.path.join(src, \"data\", \"test_context_01_vegetation.obj\")\n",
    "con_vegetation_mesh = pv.read(con_vegetation_filepath)\n",
    "\n",
    "# construct honeybee surfaces from the mesh\n",
    "wal_hb_surf = esm.pv_mesh_to_hbsurface(wal_mesh, 0, \"wall\", esm.material_plastic)\n",
    "fen_hb_surf = esm.pv_mesh_to_hbsurface(fen_mesh, 5, \"window\", esm.material_glass)\n",
    "con_buildings_hb_surf = esm.pv_mesh_to_hbsurface(con_buildings_mesh, 0, \"context_buildings\", esm.material_plastic)\n",
    "con_ground_hb_surf = esm.pv_mesh_to_hbsurface(con_ground_mesh, 0, \"context_ground\", esm.material_plastic)\n",
    "# con_sky_hb_surf = esm.pv_mesh_to_hbsurface(con_sky_mesh, 0, \"context_sky\", esm.material_plastic)\n",
    "con_vegetation_hb_surf = esm.pv_mesh_to_hbsurface(con_vegetation_mesh, 0, \"context_vegetation\", esm.material_plastic)\n",
    "\n",
    "hb_surfaces = wal_hb_surf + fen_hb_surf + con_buildings_hb_surf + con_ground_hb_surf + con_vegetation_hb_surf"
   ]
  },
  {
   "cell_type": "code",
   "execution_count": 3,
   "metadata": {},
   "outputs": [
    {
     "output_type": "stream",
     "name": "stdout",
     "text": [
      "Found 5486 opaque surfaces.\nFound 1 fenestration surfaces.\nFound 0 window-groups.\n"
     ]
    }
   ],
   "source": [
    "# generate grid of test points\n",
    "test_pts = [(1, 1, 1),(6, 1, 1),(1, 6, 1),(1, 1, 6)]\n",
    "test_vec = [(0, 0, 1),(0, 0, 1),(0, 0, 1),(0, 0, 1)]\n",
    "analysis_grid = esm.AnalysisGrid.from_points_and_vectors(test_pts, test_vec, 'test_grid')\n",
    "\n",
    "# put the recipe together\n",
    "rp = esm.ContextViewGridBased(analysis_grids=(analysis_grid,),\n",
    "               hb_objects=hb_surfaces)"
   ]
  },
  {
   "cell_type": "code",
   "execution_count": 4,
   "metadata": {},
   "outputs": [
    {
     "output_type": "stream",
     "name": "stdout",
     "text": [
      "Writing recipe contents to: ./clean_context_view/gridbased\n"
     ]
    }
   ],
   "source": [
    "# write simulation to folder\n",
    "project_name = 'clean_context_view'\n",
    "batch_file = rp.write(\n",
    "    target_folder='.', project_name=project_name)\n"
   ]
  },
  {
   "cell_type": "code",
   "execution_count": 5,
   "metadata": {},
   "outputs": [
    {
     "output_type": "execute_result",
     "data": {
      "text/plain": [
       "True"
      ]
     },
     "metadata": {},
     "execution_count": 5
    }
   ],
   "source": [
    "# run the simulation\n",
    "rp.run(batch_file, debug=False)"
   ]
  },
  {
   "cell_type": "code",
   "execution_count": 7,
   "metadata": {},
   "outputs": [
    {
     "output_type": "execute_result",
     "data": {
      "text/plain": [
       "             Rx        Ry        Rz      last_int_name  first_int_dist  \\\n",
       "0     -0.525731  0.850651  0.000000               wall        1.902113   \n",
       "1      0.525731  0.850651  0.000000  context_buildings        4.205226   \n",
       "2     -0.525731 -0.850651  0.000000               wall        1.175571   \n",
       "3      0.525731 -0.850651  0.000000             window      119.185700   \n",
       "4      0.000000 -0.525731  0.850651               wall        1.902113   \n",
       "...         ...       ...       ...                ...             ...   \n",
       "10237 -0.953549 -0.300528  0.020669               wall        1.048714   \n",
       "10238 -0.939160 -0.333520  0.082120               wall        1.064782   \n",
       "10239 -0.929648 -0.367868  0.020669               wall        1.075676   \n",
       "10240 -0.951932 -0.300080  0.061453               wall        1.050495   \n",
       "10241 -0.942422 -0.334425  0.000000               wall        1.061096   \n",
       "\n",
       "       last_int_dist  \n",
       "0           1.902113  \n",
       "1           4.205226  \n",
       "2           1.175571  \n",
       "3           1.175571  \n",
       "4           1.902113  \n",
       "...              ...  \n",
       "10237       1.048714  \n",
       "10238       1.064782  \n",
       "10239       1.075676  \n",
       "10240       1.050495  \n",
       "10241       1.061096  \n",
       "\n",
       "[10242 rows x 6 columns]"
      ],
      "text/html": "<div>\n<style scoped>\n    .dataframe tbody tr th:only-of-type {\n        vertical-align: middle;\n    }\n\n    .dataframe tbody tr th {\n        vertical-align: top;\n    }\n\n    .dataframe thead th {\n        text-align: right;\n    }\n</style>\n<table border=\"1\" class=\"dataframe\">\n  <thead>\n    <tr style=\"text-align: right;\">\n      <th></th>\n      <th>Rx</th>\n      <th>Ry</th>\n      <th>Rz</th>\n      <th>last_int_name</th>\n      <th>first_int_dist</th>\n      <th>last_int_dist</th>\n    </tr>\n  </thead>\n  <tbody>\n    <tr>\n      <th>0</th>\n      <td>-0.525731</td>\n      <td>0.850651</td>\n      <td>0.000000</td>\n      <td>wall</td>\n      <td>1.902113</td>\n      <td>1.902113</td>\n    </tr>\n    <tr>\n      <th>1</th>\n      <td>0.525731</td>\n      <td>0.850651</td>\n      <td>0.000000</td>\n      <td>context_buildings</td>\n      <td>4.205226</td>\n      <td>4.205226</td>\n    </tr>\n    <tr>\n      <th>2</th>\n      <td>-0.525731</td>\n      <td>-0.850651</td>\n      <td>0.000000</td>\n      <td>wall</td>\n      <td>1.175571</td>\n      <td>1.175571</td>\n    </tr>\n    <tr>\n      <th>3</th>\n      <td>0.525731</td>\n      <td>-0.850651</td>\n      <td>0.000000</td>\n      <td>window</td>\n      <td>119.185700</td>\n      <td>1.175571</td>\n    </tr>\n    <tr>\n      <th>4</th>\n      <td>0.000000</td>\n      <td>-0.525731</td>\n      <td>0.850651</td>\n      <td>wall</td>\n      <td>1.902113</td>\n      <td>1.902113</td>\n    </tr>\n    <tr>\n      <th>...</th>\n      <td>...</td>\n      <td>...</td>\n      <td>...</td>\n      <td>...</td>\n      <td>...</td>\n      <td>...</td>\n    </tr>\n    <tr>\n      <th>10237</th>\n      <td>-0.953549</td>\n      <td>-0.300528</td>\n      <td>0.020669</td>\n      <td>wall</td>\n      <td>1.048714</td>\n      <td>1.048714</td>\n    </tr>\n    <tr>\n      <th>10238</th>\n      <td>-0.939160</td>\n      <td>-0.333520</td>\n      <td>0.082120</td>\n      <td>wall</td>\n      <td>1.064782</td>\n      <td>1.064782</td>\n    </tr>\n    <tr>\n      <th>10239</th>\n      <td>-0.929648</td>\n      <td>-0.367868</td>\n      <td>0.020669</td>\n      <td>wall</td>\n      <td>1.075676</td>\n      <td>1.075676</td>\n    </tr>\n    <tr>\n      <th>10240</th>\n      <td>-0.951932</td>\n      <td>-0.300080</td>\n      <td>0.061453</td>\n      <td>wall</td>\n      <td>1.050495</td>\n      <td>1.050495</td>\n    </tr>\n    <tr>\n      <th>10241</th>\n      <td>-0.942422</td>\n      <td>-0.334425</td>\n      <td>0.000000</td>\n      <td>wall</td>\n      <td>1.061096</td>\n      <td>1.061096</td>\n    </tr>\n  </tbody>\n</table>\n<p>10242 rows × 6 columns</p>\n</div>"
     },
     "metadata": {},
     "execution_count": 7
    }
   ],
   "source": [
    "# load rtrace results\n",
    "rs_path = os.path.join(project_name, 'gridbased', 'rtrace_res.txt')\n",
    "rtrace_res = pd.read_csv(rs_path, skiprows=8, sep='\\t', usecols=[3,4,5], header=None, names=['last_int_name', 'first_int_dist', 'last_int_dist'])\n",
    "\n",
    "# load the rays\n",
    "rays_path = os.path.join(project_name, 'gridbased', 'view_rays.txt')\n",
    "rays_df = pd.read_csv(rays_path, skiprows=0, sep=' ', usecols=[3,4,5], header=None, names=['Rx', 'Ry', 'Rz'])\n",
    "\n",
    "# concatenate data frames\n",
    "results = pd.concat([rays_df, rtrace_res], axis = 1)\n",
    "results"
   ]
  },
  {
   "cell_type": "code",
   "execution_count": 8,
   "metadata": {},
   "outputs": [
    {
     "output_type": "stream",
     "name": "stdout",
     "text": [
      "window view solid angle: 1.9459347582868236 steradian\n"
     ]
    }
   ],
   "source": [
    "window_mask = (results['last_int_dist'] - results['first_int_dist']).abs() > 0\n",
    "print('window view solid angle:',4 * np.pi * window_mask.sum()/len(window_mask), 'steradian')"
   ]
  },
  {
   "cell_type": "code",
   "execution_count": 10,
   "metadata": {},
   "outputs": [
    {
     "output_type": "stream",
     "name": "stdout",
     "text": [
      "horizontal window view angle: 2.012582793705961 radians\n"
     ]
    }
   ],
   "source": [
    "horizontal_line_mask = results['Rz'].abs() < 0.01\n",
    "print('horizontal window view angle:',(2 * np.pi * window_mask * horizontal_line_mask).sum() / horizontal_line_mask.sum(), 'radians')"
   ]
  },
  {
   "cell_type": "code",
   "execution_count": 9,
   "metadata": {},
   "outputs": [
    {
     "output_type": "execute_result",
     "data": {
      "text/plain": [
       "wall                 0.553310\n",
       "context_ground       0.257762\n",
       "window               0.154853\n",
       "context_buildings    0.034075\n",
       "Name: last_int_name, dtype: float64"
      ]
     },
     "metadata": {},
     "execution_count": 9
    }
   ],
   "source": [
    "view_quality_ratio = results['last_int_name'].value_counts() / len(results)\n",
    "view_quality_ratio"
   ]
  },
  {
   "cell_type": "code",
   "execution_count": null,
   "metadata": {},
   "outputs": [],
   "source": [
    "p = pv.Plotter(notebook=True)\n",
    "\n",
    "icosphere = tm.creation.icosphere(subdivisions=5, radius=1.0)\n",
    "\n",
    "p.add_mesh(icosphere.vertices, scalars=results['last_int_dist'], point_size=10)\n",
    "\n",
    "p.add_axes()\n",
    "\n",
    "p.show(use_ipyvtk=True)"
   ]
  },
  {
   "cell_type": "code",
   "execution_count": null,
   "metadata": {},
   "outputs": [],
   "source": []
  }
 ],
 "metadata": {
  "kernelspec": {
   "name": "python3",
   "display_name": "Python 3.8.5 64-bit ('environmental': conda)",
   "metadata": {
    "interpreter": {
     "hash": "e27e6096067a616dec79045cf409423a9c007e56e5a32f2b7b56e2bb4865536c"
    }
   }
  },
  "language_info": {
   "codemirror_mode": {
    "name": "ipython",
    "version": 3
   },
   "file_extension": ".py",
   "mimetype": "text/x-python",
   "name": "python",
   "nbconvert_exporter": "python",
   "pygments_lexer": "ipython3",
   "version": "3.8.5-final"
  }
 },
 "nbformat": 4,
 "nbformat_minor": 2
}