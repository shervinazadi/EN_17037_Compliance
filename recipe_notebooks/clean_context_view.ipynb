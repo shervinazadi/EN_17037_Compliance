{
 "cells": [
  {
   "cell_type": "code",
   "execution_count": 7,
   "metadata": {},
   "outputs": [],
   "source": [
    "import esm\n",
    "import pyvista as pv\n",
    "import os\n",
    "import pandas as pd\n",
    "import numpy as np\n",
    "import trimesh as tm\n",
    "import itertools\n",
    "\n",
    "cwd = os.getcwd()\n",
    "src = os.path.dirname(cwd)"
   ]
  },
  {
   "cell_type": "code",
   "execution_count": 8,
   "metadata": {},
   "outputs": [],
   "source": [
    "# import all external geometry with pyvista\n",
    "wal_filepath = os.path.join(src, \"data\", \"test_room_walls_02.obj\")\n",
    "wal_mesh = pv.read(wal_filepath)\n",
    "fen_filepath = os.path.join(src, \"data\", \"test_room_fens_02.obj\")\n",
    "fen_mesh = pv.read(fen_filepath)\n",
    "\n",
    "con_buildings_filepath = os.path.join(src, \"data\", \"test_context_01_buildings.obj\")\n",
    "con_buildings_mesh = pv.read(con_buildings_filepath)\n",
    "con_ground_filepath = os.path.join(src, \"data\", \"test_context_01_ground.obj\")\n",
    "con_ground_mesh = pv.read(con_ground_filepath)\n",
    "# con_sky_filepath = os.path.join(src, \"data\", \"test_context_01_sky.obj\")\n",
    "# con_sky_mesh = pv.read(con_sky_filepath)\n",
    "con_vegetation_filepath = os.path.join(src, \"data\", \"test_context_01_vegetation.obj\")\n",
    "con_vegetation_mesh = pv.read(con_vegetation_filepath)\n",
    "\n",
    "# construct honeybee surfaces from the mesh\n",
    "wal_hb_surf = esm.pv_mesh_to_hbsurface(wal_mesh, 0, \"wall\", esm.material_plastic)\n",
    "fen_hb_surf = esm.pv_mesh_to_hbsurface(fen_mesh, 5, \"window\", esm.material_glass)\n",
    "con_buildings_hb_surf = esm.pv_mesh_to_hbsurface(con_buildings_mesh, 0, \"context_buildings\", esm.material_plastic)\n",
    "con_ground_hb_surf = esm.pv_mesh_to_hbsurface(con_ground_mesh, 0, \"context_ground\", esm.material_plastic)\n",
    "# con_sky_hb_surf = esm.pv_mesh_to_hbsurface(con_sky_mesh, 0, \"context_sky\", esm.material_plastic)\n",
    "con_vegetation_hb_surf = esm.pv_mesh_to_hbsurface(con_vegetation_mesh, 0, \"context_vegetation\", esm.material_plastic)\n",
    "\n",
    "hb_surfaces = wal_hb_surf + fen_hb_surf + con_buildings_hb_surf + con_ground_hb_surf + con_vegetation_hb_surf"
   ]
  },
  {
   "cell_type": "code",
   "execution_count": 19,
   "metadata": {
    "tags": []
   },
   "outputs": [
    {
     "output_type": "stream",
     "name": "stdout",
     "text": [
      "Found 5486 opaque surfaces.\nFound 1 fenestration surfaces.\nFound 0 window-groups.\n"
     ]
    }
   ],
   "source": [
    "# homogenous discretization of sphere\n",
    "icosphere = tm.creation.icosphere(subdivisions=5, radius=1.0)\n",
    "v = icosphere.vertices\n",
    "\n",
    "# setting the rays and points\n",
    "rays = [tuple(v) for v in icosphere.vertices]\n",
    "pnts = [(1, 1, 1),(6, 1, 1),(1, 6, 1),(1, 1, 6)]\n",
    "\n",
    "# generate grid of test points\n",
    "test_inds = [j for j in range(len(pnts)) for i in range(len(rays))]\n",
    "test_pnts = [pnt for pnt in pnts for i in range(len(rays))]\n",
    "test_rays = rays * len(pnts)\n",
    "\n",
    "analysis_grid = esm.AnalysisGrid.from_points_and_vectors(test_pnts, test_rays, 'test_grid')\n",
    "\n",
    "# put the recipe together\n",
    "rp = esm.ContextViewGridBased(analysis_grids=(analysis_grid,),\n",
    "               hb_objects=hb_surfaces)"
   ]
  },
  {
   "cell_type": "code",
   "execution_count": 10,
   "metadata": {},
   "outputs": [
    {
     "output_type": "stream",
     "name": "stdout",
     "text": [
      "Writing recipe contents to: ./clean_context_view/gridbased\n"
     ]
    }
   ],
   "source": [
    "# write simulation to folder\n",
    "project_name = 'clean_context_view'\n",
    "batch_file = rp.write(\n",
    "    target_folder='.', project_name=project_name)\n"
   ]
  },
  {
   "cell_type": "code",
   "execution_count": 11,
   "metadata": {},
   "outputs": [
    {
     "output_type": "execute_result",
     "data": {
      "text/plain": [
       "True"
      ]
     },
     "metadata": {},
     "execution_count": 11
    }
   ],
   "source": [
    "# run the simulation\n",
    "rp.run(batch_file, debug=False)"
   ]
  },
  {
   "cell_type": "code",
   "execution_count": 26,
   "metadata": {},
   "outputs": [
    {
     "output_type": "execute_result",
     "data": {
      "text/plain": [
       "        Sx   Sy   Sz     Rx     Ry     Rz      last_int_name  first_int_dist  \\\n",
       "0      1.0  1.0  1.0 -0.526  0.851  0.000               wall        1.901974   \n",
       "1      1.0  1.0  1.0  0.526  0.851  0.000  context_buildings        4.205255   \n",
       "2      1.0  1.0  1.0 -0.526 -0.851  0.000               wall        1.175603   \n",
       "3      1.0  1.0  1.0  0.526 -0.851  0.000             window      119.185700   \n",
       "4      1.0  1.0  1.0  0.000 -0.526  0.851               wall        1.901974   \n",
       "...    ...  ...  ...    ...    ...    ...                ...             ...   \n",
       "10237  1.0  1.0  1.0 -0.954 -0.301  0.021               wall        1.048825   \n",
       "10238  1.0  1.0  1.0 -0.939 -0.334  0.082               wall        1.064963   \n",
       "10239  1.0  1.0  1.0 -0.930 -0.368  0.021               wall        1.075680   \n",
       "10240  1.0  1.0  1.0 -0.952 -0.300  0.061               wall        1.050433   \n",
       "10241  1.0  1.0  1.0 -0.942 -0.334  0.000               wall        1.060998   \n",
       "\n",
       "       last_int_dist  \n",
       "0           1.901974  \n",
       "1           4.205255  \n",
       "2           1.175603  \n",
       "3           1.175603  \n",
       "4           1.901974  \n",
       "...              ...  \n",
       "10237       1.048825  \n",
       "10238       1.064963  \n",
       "10239       1.075680  \n",
       "10240       1.050433  \n",
       "10241       1.060998  \n",
       "\n",
       "[10242 rows x 9 columns]"
      ],
      "text/html": "<div>\n<style scoped>\n    .dataframe tbody tr th:only-of-type {\n        vertical-align: middle;\n    }\n\n    .dataframe tbody tr th {\n        vertical-align: top;\n    }\n\n    .dataframe thead th {\n        text-align: right;\n    }\n</style>\n<table border=\"1\" class=\"dataframe\">\n  <thead>\n    <tr style=\"text-align: right;\">\n      <th></th>\n      <th>Sx</th>\n      <th>Sy</th>\n      <th>Sz</th>\n      <th>Rx</th>\n      <th>Ry</th>\n      <th>Rz</th>\n      <th>last_int_name</th>\n      <th>first_int_dist</th>\n      <th>last_int_dist</th>\n    </tr>\n  </thead>\n  <tbody>\n    <tr>\n      <th>0</th>\n      <td>1.0</td>\n      <td>1.0</td>\n      <td>1.0</td>\n      <td>-0.526</td>\n      <td>0.851</td>\n      <td>0.000</td>\n      <td>wall</td>\n      <td>1.901974</td>\n      <td>1.901974</td>\n    </tr>\n    <tr>\n      <th>1</th>\n      <td>1.0</td>\n      <td>1.0</td>\n      <td>1.0</td>\n      <td>0.526</td>\n      <td>0.851</td>\n      <td>0.000</td>\n      <td>context_buildings</td>\n      <td>4.205255</td>\n      <td>4.205255</td>\n    </tr>\n    <tr>\n      <th>2</th>\n      <td>1.0</td>\n      <td>1.0</td>\n      <td>1.0</td>\n      <td>-0.526</td>\n      <td>-0.851</td>\n      <td>0.000</td>\n      <td>wall</td>\n      <td>1.175603</td>\n      <td>1.175603</td>\n    </tr>\n    <tr>\n      <th>3</th>\n      <td>1.0</td>\n      <td>1.0</td>\n      <td>1.0</td>\n      <td>0.526</td>\n      <td>-0.851</td>\n      <td>0.000</td>\n      <td>window</td>\n      <td>119.185700</td>\n      <td>1.175603</td>\n    </tr>\n    <tr>\n      <th>4</th>\n      <td>1.0</td>\n      <td>1.0</td>\n      <td>1.0</td>\n      <td>0.000</td>\n      <td>-0.526</td>\n      <td>0.851</td>\n      <td>wall</td>\n      <td>1.901974</td>\n      <td>1.901974</td>\n    </tr>\n    <tr>\n      <th>...</th>\n      <td>...</td>\n      <td>...</td>\n      <td>...</td>\n      <td>...</td>\n      <td>...</td>\n      <td>...</td>\n      <td>...</td>\n      <td>...</td>\n      <td>...</td>\n    </tr>\n    <tr>\n      <th>10237</th>\n      <td>1.0</td>\n      <td>1.0</td>\n      <td>1.0</td>\n      <td>-0.954</td>\n      <td>-0.301</td>\n      <td>0.021</td>\n      <td>wall</td>\n      <td>1.048825</td>\n      <td>1.048825</td>\n    </tr>\n    <tr>\n      <th>10238</th>\n      <td>1.0</td>\n      <td>1.0</td>\n      <td>1.0</td>\n      <td>-0.939</td>\n      <td>-0.334</td>\n      <td>0.082</td>\n      <td>wall</td>\n      <td>1.064963</td>\n      <td>1.064963</td>\n    </tr>\n    <tr>\n      <th>10239</th>\n      <td>1.0</td>\n      <td>1.0</td>\n      <td>1.0</td>\n      <td>-0.930</td>\n      <td>-0.368</td>\n      <td>0.021</td>\n      <td>wall</td>\n      <td>1.075680</td>\n      <td>1.075680</td>\n    </tr>\n    <tr>\n      <th>10240</th>\n      <td>1.0</td>\n      <td>1.0</td>\n      <td>1.0</td>\n      <td>-0.952</td>\n      <td>-0.300</td>\n      <td>0.061</td>\n      <td>wall</td>\n      <td>1.050433</td>\n      <td>1.050433</td>\n    </tr>\n    <tr>\n      <th>10241</th>\n      <td>1.0</td>\n      <td>1.0</td>\n      <td>1.0</td>\n      <td>-0.942</td>\n      <td>-0.334</td>\n      <td>0.000</td>\n      <td>wall</td>\n      <td>1.060998</td>\n      <td>1.060998</td>\n    </tr>\n  </tbody>\n</table>\n<p>10242 rows × 9 columns</p>\n</div>"
     },
     "metadata": {},
     "execution_count": 26
    }
   ],
   "source": [
    "# load rtrace results\n",
    "rs_path = os.path.join(project_name, 'gridbased', 'rtrace_res.txt')\n",
    "rtrace_res = pd.read_csv(rs_path, skiprows=8, sep='\\t', usecols=[3,4,5], header=None, names=['last_int_name', 'first_int_dist', 'last_int_dist'])\n",
    "\n",
    "# load the rays\n",
    "rays_path = os.path.join(project_name, 'gridbased', 'clean_context_view.pts')\n",
    "rays_df = pd.read_csv(rays_path, skiprows=0, sep=' ', header=None, names=['Sx','Sy','Sz','Rx', 'Ry', 'Rz'])\n",
    "\n",
    "# concatenate data frames and group by point ids\n",
    "grid_results = pd.concat([rays_df, rtrace_res], axis = 1)\n",
    "gb = grid_results.groupby(test_inds)\n",
    "\n",
    "# extract point 0 info\n",
    "point_0_results = gb.get_group(0)\n",
    "point_0_results"
   ]
  },
  {
   "cell_type": "code",
   "execution_count": 27,
   "metadata": {},
   "outputs": [
    {
     "output_type": "stream",
     "name": "stdout",
     "text": [
      "window view solid angle: 1.9459347582868236 steradian\n"
     ]
    }
   ],
   "source": [
    "window_mask = (point_0_results['last_int_dist'] - point_0_results['first_int_dist']).abs() > 0\n",
    "print('window view solid angle:',4 * np.pi * window_mask.sum()/len(window_mask), 'steradian')"
   ]
  },
  {
   "cell_type": "code",
   "execution_count": 28,
   "metadata": {},
   "outputs": [
    {
     "output_type": "stream",
     "name": "stdout",
     "text": [
      "horizontal window view angle: 2.012582793705961 radians\n"
     ]
    }
   ],
   "source": [
    "horizontal_line_mask = point_0_results['Rz'].abs() < 0.01\n",
    "print('horizontal window view angle:',(2 * np.pi * window_mask * horizontal_line_mask).sum() / horizontal_line_mask.sum(), 'radians')"
   ]
  },
  {
   "cell_type": "code",
   "execution_count": 29,
   "metadata": {},
   "outputs": [
    {
     "output_type": "execute_result",
     "data": {
      "text/plain": [
       "wall                 0.553408\n",
       "context_ground       0.257860\n",
       "window               0.154853\n",
       "context_buildings    0.033880\n",
       "Name: last_int_name, dtype: float64"
      ]
     },
     "metadata": {},
     "execution_count": 29
    }
   ],
   "source": [
    "view_quality_ratio = point_0_results['last_int_name'].value_counts() / len(point_0_results)\n",
    "view_quality_ratio"
   ]
  },
  {
   "cell_type": "code",
   "execution_count": 31,
   "metadata": {},
   "outputs": [
    {
     "output_type": "display_data",
     "data": {
      "text/plain": "ViewInteractiveWidget(height=768, layout=Layout(height='auto', width='100%'), width=1024)",
      "application/vnd.jupyter.widget-view+json": {
       "version_major": 2,
       "version_minor": 0,
       "model_id": "88326cb27d5146e8ac3c2f1eada71a27"
      }
     },
     "metadata": {}
    },
    {
     "output_type": "execute_result",
     "data": {
      "text/plain": [
       "[(3.8637033051562737, 3.8637033051562737, 3.8637033051562737),\n",
       " (0.0, 0.0, 0.0),\n",
       " (0.0, 0.0, 1.0)]"
      ]
     },
     "metadata": {},
     "execution_count": 31
    }
   ],
   "source": [
    "p = pv.Plotter(notebook=True)\n",
    "\n",
    "icosphere = tm.creation.icosphere(subdivisions=5, radius=1.0)\n",
    "\n",
    "p.add_mesh(icosphere.vertices, scalars=point_0_results['last_int_dist'], point_size=10)\n",
    "\n",
    "p.add_axes()\n",
    "\n",
    "p.show(use_ipyvtk=True)"
   ]
  }
 ],
 "metadata": {
  "kernelspec": {
   "name": "python3",
   "display_name": "Python 3.8.5 64-bit ('environmental': conda)",
   "metadata": {
    "interpreter": {
     "hash": "e27e6096067a616dec79045cf409423a9c007e56e5a32f2b7b56e2bb4865536c"
    }
   }
  },
  "language_info": {
   "codemirror_mode": {
    "name": "ipython",
    "version": 3
   },
   "file_extension": ".py",
   "mimetype": "text/x-python",
   "name": "python",
   "nbconvert_exporter": "python",
   "pygments_lexer": "ipython3",
   "version": "3.8.5-final"
  }
 },
 "nbformat": 4,
 "nbformat_minor": 2
}