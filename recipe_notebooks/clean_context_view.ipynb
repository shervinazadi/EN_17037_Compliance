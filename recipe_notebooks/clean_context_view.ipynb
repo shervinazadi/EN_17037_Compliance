{
 "cells": [
  {
   "cell_type": "code",
   "execution_count": 1,
   "metadata": {},
   "outputs": [
    {
     "output_type": "stream",
     "name": "stdout",
     "text": [
      "Path to radiance is set to: /usr/local/radiance\nPath to perl is set to: /usr/bin\n"
     ]
    }
   ],
   "source": [
    "import esm\n",
    "import pyvista as pv\n",
    "import os\n",
    "import ladybug as lb\n",
    "import pandas as pd\n",
    "import subprocess\n",
    "import matplotlib.pyplot as plt\n",
    "from matplotlib.colors import LogNorm\n",
    "import numpy as np\n",
    "\n",
    "cwd = os.getcwd()\n",
    "src = os.path.dirname(cwd)"
   ]
  },
  {
   "cell_type": "code",
   "execution_count": 2,
   "metadata": {},
   "outputs": [],
   "source": [
    "# import all external geometry with pyvista\n",
    "wal_filepath = os.path.join(src, \"data\", \"test_room_walls_02.obj\")\n",
    "wal_mesh = pv.read(wal_filepath)\n",
    "fen_filepath = os.path.join(src, \"data\", \"test_room_fens_02.obj\")\n",
    "fen_mesh = pv.read(fen_filepath)\n",
    "\n",
    "con_buildings_filepath = os.path.join(src, \"data\", \"test_context_01_buildings.obj\")\n",
    "con_buildings_mesh = pv.read(con_buildings_filepath)\n",
    "con_ground_filepath = os.path.join(src, \"data\", \"test_context_01_ground.obj\")\n",
    "con_ground_mesh = pv.read(con_ground_filepath)\n",
    "# con_sky_filepath = os.path.join(src, \"data\", \"test_context_01_sky.obj\")\n",
    "# con_sky_mesh = pv.read(con_sky_filepath)\n",
    "con_vegetation_filepath = os.path.join(src, \"data\", \"test_context_01_vegetation.obj\")\n",
    "con_vegetation_mesh = pv.read(con_vegetation_filepath)\n",
    "\n",
    "# construct honeybee surfaces from the mesh\n",
    "wal_hb_surf = esm.pv_mesh_to_hbsurface(wal_mesh, 0, \"wall\", esm.material_plastic)\n",
    "fen_hb_surf = esm.pv_mesh_to_hbsurface(fen_mesh, 5, \"window\", esm.material_glass)\n",
    "con_buildings_hb_surf = esm.pv_mesh_to_hbsurface(con_buildings_mesh, 0, \"context_buildings\", esm.material_plastic)\n",
    "con_ground_hb_surf = esm.pv_mesh_to_hbsurface(con_ground_mesh, 0, \"context_ground\", esm.material_plastic)\n",
    "# con_sky_hb_surf = esm.pv_mesh_to_hbsurface(con_sky_mesh, 0, \"context_sky\", esm.material_plastic)\n",
    "con_vegetation_hb_surf = esm.pv_mesh_to_hbsurface(con_vegetation_mesh, 0, \"context_vegetation\", esm.material_plastic)\n",
    "\n",
    "hb_surfaces = wal_hb_surf + fen_hb_surf + con_buildings_hb_surf + con_ground_hb_surf + con_vegetation_hb_surf"
   ]
  },
  {
   "cell_type": "code",
   "execution_count": 3,
   "metadata": {},
   "outputs": [
    {
     "output_type": "stream",
     "name": "stdout",
     "text": [
      "Found 5486 opaque surfaces.\nFound 1 fenestration surfaces.\nFound 0 window-groups.\n"
     ]
    }
   ],
   "source": [
    "# generate grid of test points\n",
    "test_pts = [(1, 1, 1),(6, 1, 1),(1, 6, 1),(1, 1, 6)]\n",
    "test_vec = [(0, 0, 1),(0, 0, 1),(0, 0, 1),(0, 0, 1)]\n",
    "analysis_grid = esm.AnalysisGrid.from_points_and_vectors(test_pts, test_vec, 'test_grid')\n",
    "\n",
    "# # generate the sky\n",
    "# sky = esm.CertainIlluminanceLevel(illuminance_value=10000,sky_type=1)\n",
    "\n",
    "# put the recipe together\n",
    "rp = esm.ContextViewGridBased(analysis_grids=(analysis_grid,),\n",
    "               hb_objects=hb_surfaces)"
   ]
  },
  {
   "cell_type": "code",
   "execution_count": 4,
   "metadata": {},
   "outputs": [
    {
     "output_type": "stream",
     "name": "stdout",
     "text": [
      "Writing recipe contents to: ./clean_context_view/gridbased\n"
     ]
    }
   ],
   "source": [
    "# write simulation to folder\n",
    "batch_file = rp.write(\n",
    "    target_folder='.', project_name='clean_context_view')\n"
   ]
  },
  {
   "cell_type": "code",
   "execution_count": 6,
   "metadata": {},
   "outputs": [
    {
     "output_type": "execute_result",
     "data": {
      "text/plain": [
       "True"
      ]
     },
     "metadata": {},
     "execution_count": 6
    }
   ],
   "source": [
    "# run the simulation\n",
    "rp.run(batch_file, debug=False)"
   ]
  },
  {
   "cell_type": "code",
   "execution_count": 7,
   "metadata": {},
   "outputs": [
    {
     "output_type": "stream",
     "name": "stdout",
     "text": [
      "Unloading the current values from the analysis grids.\n"
     ]
    }
   ],
   "source": [
    "# results - in this case it will be an analysis grid\n",
    "result = rp.results()[0]\n",
    "\n",
    "# extract the points of interest from the recipe\n",
    "result_points = [[p[0], p[1], p[2]] for p in result.points]"
   ]
  },
  {
   "cell_type": "code",
   "execution_count": 8,
   "metadata": {},
   "outputs": [
    {
     "output_type": "stream",
     "name": "stdout",
     "text": [
      "Changed view_h_size and view_v_size to 180 for fisheye view type.\n-aa 0.25 -ab 2 -ad 512 -ar 16 -as 128 -dc 0.25 -dj 0.0 -dp 64 -ds 0.5 -dr 0 -dt 0.5 -lr 4 -lw 0.05 -pj 0.6 -ps 8 -pt 0.15 -ss 0.0 -st 0.85\n-ab 0 -ovmlL -w\n"
     ]
    }
   ],
   "source": [
    "import honeybee_plus\n",
    "\n",
    "project_name='external_context_view'\n",
    "octf = src+'/recipe_notebooks/external_context_view/gridbased/external_context_view.oct'\n",
    "\n",
    "view = honeybee_plus.radiance.view.View(name='indoor_fisheye', \n",
    "                                        view_point=(1,1,1),\n",
    "                                        view_direction=(0,-1,0),\n",
    "                                        view_up_vector=(0,0,1),\n",
    "                                        view_type=4,\n",
    "                                        view_h_size=180,\n",
    "                                        view_v_size=180,\n",
    "                                        x_resolution=128,\n",
    "                                        y_resolution=128)\n",
    "\n",
    "rp_rpict = honeybee_plus.radiance.parameters.rpict.RpictParameters(0)\n",
    "rp_rtrace = honeybee_plus.radiance.parameters.rtrace.LowQuality()\n",
    "rp_rtrace.remove_parameters() # I didn't find a more elegant way to initialise the parameter class\n",
    "rp_rtrace.add_radiance_number('ab')\n",
    "rp_rtrace.ab = 0\n",
    "rp_rtrace.add_radiance_value('o', is_joined=True)\n",
    "rp_rtrace.o = 'vmlL'\n",
    "rp_rtrace.add_radiance_bool_flag('w')\n",
    "rp_rtrace.w = True\n",
    "\n",
    "print(rp_rpict.to_rad_string())\n",
    "print(rp_rtrace.to_rad_string())\n",
    "\n"
   ]
  },
  {
   "cell_type": "code",
   "execution_count": 50,
   "metadata": {},
   "outputs": [
    {
     "output_type": "stream",
     "name": "stdout",
     "text": [
      "Save view to a file.\n"
     ]
    }
   ],
   "source": [
    "print(view.save_to_file.__doc__)"
   ]
  },
  {
   "cell_type": "code",
   "execution_count": 11,
   "metadata": {},
   "outputs": [
    {
     "output_type": "execute_result",
     "data": {
      "text/plain": [
       "(b'', b'')"
      ]
     },
     "metadata": {},
     "execution_count": 11
    }
   ],
   "source": [
    "rpict_cmd_0 = 'rpict -w %s %s -af %s/%s.af %s > /dev/null' % (rp_rpict, view, project_name, project_name, octf)\n",
    "rpict_cmd = 'rpict -w %s %s -af %s/%s.af %s > %s/%s.hdr' % (rp_rpict, view, project_name, project_name, octf, project_name, project_name)\n",
    "normtiff_cmd = 'normtiff -h %s/%s.hdr %s/%s.tif' % (project_name, project_name, project_name, project_name)\n",
    "\n",
    "rpict = subprocess.Popen(rpict_cmd_0, shell=True, stdout=subprocess.PIPE, stderr=subprocess.PIPE)\n",
    "rpict = subprocess.Popen(rpict_cmd, shell=True, stdout=subprocess.PIPE, stderr=subprocess.PIPE)\n",
    "rpict.communicate()\n",
    "normtiff = subprocess.Popen(normtiff_cmd, shell=True, stdout=subprocess.PIPE, stderr=subprocess.PIPE)\n",
    "normtiff.communicate()"
   ]
  },
  {
   "cell_type": "code",
   "execution_count": 12,
   "metadata": {},
   "outputs": [
    {
     "output_type": "execute_result",
     "data": {
      "text/plain": [
       "         0    1    2               3         4         5   6\n",
       "0      0.0  0.0  0.0            wall  3.508846  3.508846 NaN\n",
       "1      0.0  0.0  0.0            wall  3.438210  3.438210 NaN\n",
       "2      0.0  0.0  0.0            wall  3.370834  3.370834 NaN\n",
       "3      0.0  0.0  0.0            wall  3.306528  3.306528 NaN\n",
       "4      0.0  0.0  0.0            wall  3.245116  3.245116 NaN\n",
       "...    ...  ...  ...             ...       ...       ...  ..\n",
       "16379  0.0  0.0  0.0  context_ground  1.622558  1.622558 NaN\n",
       "16380  0.0  0.0  0.0  context_ground  1.653264  1.653264 NaN\n",
       "16381  0.0  0.0  0.0  context_ground  1.685417  1.685417 NaN\n",
       "16382  0.0  0.0  0.0  context_ground  1.719105  1.719105 NaN\n",
       "16383  0.0  0.0  0.0            wall  1.754423  1.754423 NaN\n",
       "\n",
       "[16384 rows x 7 columns]"
      ],
      "text/html": "<div>\n<style scoped>\n    .dataframe tbody tr th:only-of-type {\n        vertical-align: middle;\n    }\n\n    .dataframe tbody tr th {\n        vertical-align: top;\n    }\n\n    .dataframe thead th {\n        text-align: right;\n    }\n</style>\n<table border=\"1\" class=\"dataframe\">\n  <thead>\n    <tr style=\"text-align: right;\">\n      <th></th>\n      <th>0</th>\n      <th>1</th>\n      <th>2</th>\n      <th>3</th>\n      <th>4</th>\n      <th>5</th>\n      <th>6</th>\n    </tr>\n  </thead>\n  <tbody>\n    <tr>\n      <th>0</th>\n      <td>0.0</td>\n      <td>0.0</td>\n      <td>0.0</td>\n      <td>wall</td>\n      <td>3.508846</td>\n      <td>3.508846</td>\n      <td>NaN</td>\n    </tr>\n    <tr>\n      <th>1</th>\n      <td>0.0</td>\n      <td>0.0</td>\n      <td>0.0</td>\n      <td>wall</td>\n      <td>3.438210</td>\n      <td>3.438210</td>\n      <td>NaN</td>\n    </tr>\n    <tr>\n      <th>2</th>\n      <td>0.0</td>\n      <td>0.0</td>\n      <td>0.0</td>\n      <td>wall</td>\n      <td>3.370834</td>\n      <td>3.370834</td>\n      <td>NaN</td>\n    </tr>\n    <tr>\n      <th>3</th>\n      <td>0.0</td>\n      <td>0.0</td>\n      <td>0.0</td>\n      <td>wall</td>\n      <td>3.306528</td>\n      <td>3.306528</td>\n      <td>NaN</td>\n    </tr>\n    <tr>\n      <th>4</th>\n      <td>0.0</td>\n      <td>0.0</td>\n      <td>0.0</td>\n      <td>wall</td>\n      <td>3.245116</td>\n      <td>3.245116</td>\n      <td>NaN</td>\n    </tr>\n    <tr>\n      <th>...</th>\n      <td>...</td>\n      <td>...</td>\n      <td>...</td>\n      <td>...</td>\n      <td>...</td>\n      <td>...</td>\n      <td>...</td>\n    </tr>\n    <tr>\n      <th>16379</th>\n      <td>0.0</td>\n      <td>0.0</td>\n      <td>0.0</td>\n      <td>context_ground</td>\n      <td>1.622558</td>\n      <td>1.622558</td>\n      <td>NaN</td>\n    </tr>\n    <tr>\n      <th>16380</th>\n      <td>0.0</td>\n      <td>0.0</td>\n      <td>0.0</td>\n      <td>context_ground</td>\n      <td>1.653264</td>\n      <td>1.653264</td>\n      <td>NaN</td>\n    </tr>\n    <tr>\n      <th>16381</th>\n      <td>0.0</td>\n      <td>0.0</td>\n      <td>0.0</td>\n      <td>context_ground</td>\n      <td>1.685417</td>\n      <td>1.685417</td>\n      <td>NaN</td>\n    </tr>\n    <tr>\n      <th>16382</th>\n      <td>0.0</td>\n      <td>0.0</td>\n      <td>0.0</td>\n      <td>context_ground</td>\n      <td>1.719105</td>\n      <td>1.719105</td>\n      <td>NaN</td>\n    </tr>\n    <tr>\n      <th>16383</th>\n      <td>0.0</td>\n      <td>0.0</td>\n      <td>0.0</td>\n      <td>wall</td>\n      <td>1.754423</td>\n      <td>1.754423</td>\n      <td>NaN</td>\n    </tr>\n  </tbody>\n</table>\n<p>16384 rows × 7 columns</p>\n</div>"
     },
     "metadata": {},
     "execution_count": 12
    }
   ],
   "source": [
    "rtrace_res = pd.read_csv('%s/rtrace_res.txt' % project_name, skiprows=8, sep='\\t', header=None)\n",
    "rtrace_res"
   ]
  },
  {
   "cell_type": "code",
   "execution_count": 45,
   "metadata": {},
   "outputs": [
    {
     "output_type": "stream",
     "name": "stdout",
     "text": [
      "[     nan 1.000106 1.000106 1.000106]\n[           nan 1.24900000e+13 1.73620341e+04 5.29704977e+03]\n[           nan 2.11948335e+19 8.70059504e+01 4.32431875e-02]\n"
     ]
    }
   ],
   "source": [
    "pnt_cnt = 1 # grid point count\n",
    "labels = np.array(rtrace_res[3]) # .reshape(pnt_cnt, -1)\n",
    "dist_0 = np.array(rtrace_res[4]) # .reshape(pnt_cnt, -1)\n",
    "\n",
    "window_mask = labels=='window'\n",
    "win_hit_count = np.sum(window_mask.reshape(pnt_cnt, -1), axis=1)\n",
    "\n",
    "dist_window = dist_0\n",
    "dist_window[1 - window_mask] = np.nan\n",
    "min_win_dist = np.min(dist_window.reshape(pnt_cnt, -1), axis=1)\n",
    "print(min_win_dist)\n",
    "sum_win_dist = np.sum(dist_window.reshape(pnt_cnt, -1), axis=1)\n",
    "print(sum_win_dist)\n",
    "var_win_dist = np.var(dist_window.reshape(pnt_cnt, -1), axis=1)\n",
    "print(var_win_dist)"
   ]
  },
  {
   "cell_type": "code",
   "execution_count": null,
   "metadata": {},
   "outputs": [],
   "source": [
    "# distances outside the window\n",
    "\n",
    "labels_array = rtrace_res[3]\n",
    "window_dist_array = rtrace_res[4].values.reshape(int(view.x_resolution), int(view.y_resolution))\n",
    "window_dist_masked = np.ma.masked_where((labels_array!='window'), rtrace_res[4]).reshape(int(view.x_resolution), int(view.y_resolution))\n",
    "\n",
    "plt.imshow(window_dist_masked, origin='upper', norm=LogNorm(vmin=0.01, vmax=1e10))\n",
    "plt.colorbar()\n",
    "plt.show()\n",
    "\n",
    "print(window_dist_masked.min(), window_dist_masked.max())"
   ]
  },
  {
   "cell_type": "code",
   "execution_count": null,
   "metadata": {},
   "outputs": [],
   "source": [
    "# Distances and angles on the central row (eye level)\n",
    "\n",
    "cx, cy = int(int(view.x_resolution)/2), int(int(view.y_resolution)/2)\n",
    "\n",
    "c_row = labels_array.iloc[int(view.x_resolution)*(cy-1):int(view.x_resolution)*(cy)]\n",
    "window_h_aperture_angle = c_row.groupby(c_row).count()['window'] * 180 / int(view.x_resolution)\n",
    "window_h_aperture_angle"
   ]
  },
  {
   "cell_type": "code",
   "execution_count": null,
   "metadata": {},
   "outputs": [],
   "source": [
    "# distances within the room\n",
    "\n",
    "dist_array = rtrace_res[5].values.reshape(int(view.x_resolution),int(view.y_resolution))\n",
    "dist_c = dist_array[cx, cy]\n",
    "\n",
    "plt.imshow(dist_array, origin='upper')\n",
    "plt.colorbar()\n",
    "plt.show()\n",
    "\n",
    "print(dist_array.min(), dist_array.max(), dist_c)"
   ]
  }
 ],
 "metadata": {
  "kernelspec": {
   "name": "python3",
   "display_name": "Python 3.8.5 64-bit ('environmental': conda)",
   "metadata": {
    "interpreter": {
     "hash": "e27e6096067a616dec79045cf409423a9c007e56e5a32f2b7b56e2bb4865536c"
    }
   }
  },
  "language_info": {
   "codemirror_mode": {
    "name": "ipython",
    "version": 3
   },
   "file_extension": ".py",
   "mimetype": "text/x-python",
   "name": "python",
   "nbconvert_exporter": "python",
   "pygments_lexer": "ipython3",
   "version": "3.8.5-final"
  }
 },
 "nbformat": 4,
 "nbformat_minor": 2
}