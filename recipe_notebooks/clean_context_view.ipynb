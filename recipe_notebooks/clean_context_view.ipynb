{
 "cells": [
  {
   "cell_type": "code",
   "execution_count": 1,
   "metadata": {},
   "outputs": [
    {
     "output_type": "stream",
     "name": "stdout",
     "text": [
      "Path to radiance is set to: /usr/local/radiance\nPath to perl is set to: /usr/bin\n"
     ]
    }
   ],
   "source": [
    "import esm\n",
    "import pyvista as pv\n",
    "import os\n",
    "import pandas as pd\n",
    "import numpy as np\n",
    "import trimesh as tm\n",
    "\n",
    "cwd = os.getcwd()\n",
    "src = os.path.dirname(cwd)"
   ]
  },
  {
   "cell_type": "code",
   "execution_count": 2,
   "metadata": {},
   "outputs": [],
   "source": [
    "# import all external geometry with pyvista\n",
    "wal_filepath = os.path.join(src, \"data\", \"test_room_walls_02.obj\")\n",
    "wal_mesh = pv.read(wal_filepath)\n",
    "fen_filepath = os.path.join(src, \"data\", \"test_room_fens_02.obj\")\n",
    "fen_mesh = pv.read(fen_filepath)\n",
    "\n",
    "con_buildings_filepath = os.path.join(src, \"data\", \"test_context_01_buildings.obj\")\n",
    "con_buildings_mesh = pv.read(con_buildings_filepath)\n",
    "con_ground_filepath = os.path.join(src, \"data\", \"test_context_01_ground.obj\")\n",
    "con_ground_mesh = pv.read(con_ground_filepath)\n",
    "# con_sky_filepath = os.path.join(src, \"data\", \"test_context_01_sky.obj\")\n",
    "# con_sky_mesh = pv.read(con_sky_filepath)\n",
    "con_vegetation_filepath = os.path.join(src, \"data\", \"test_context_01_vegetation.obj\")\n",
    "con_vegetation_mesh = pv.read(con_vegetation_filepath)\n",
    "\n",
    "# construct honeybee surfaces from the mesh\n",
    "wal_hb_surf = esm.pv_mesh_to_hbsurface(wal_mesh, 0, \"wall\", esm.material_plastic)\n",
    "fen_hb_surf = esm.pv_mesh_to_hbsurface(fen_mesh, 5, \"window\", esm.material_glass)\n",
    "con_buildings_hb_surf = esm.pv_mesh_to_hbsurface(con_buildings_mesh, 0, \"context_buildings\", esm.material_plastic)\n",
    "con_ground_hb_surf = esm.pv_mesh_to_hbsurface(con_ground_mesh, 0, \"context_ground\", esm.material_plastic)\n",
    "# con_sky_hb_surf = esm.pv_mesh_to_hbsurface(con_sky_mesh, 0, \"context_sky\", esm.material_plastic)\n",
    "con_vegetation_hb_surf = esm.pv_mesh_to_hbsurface(con_vegetation_mesh, 0, \"context_vegetation\", esm.material_plastic)\n",
    "\n",
    "hb_surfaces = wal_hb_surf + fen_hb_surf + con_buildings_hb_surf + con_ground_hb_surf + con_vegetation_hb_surf"
   ]
  },
  {
   "cell_type": "code",
   "execution_count": 3,
   "metadata": {},
   "outputs": [
    {
     "output_type": "stream",
     "name": "stdout",
     "text": [
      "Found 5486 opaque surfaces.\nFound 1 fenestration surfaces.\nFound 0 window-groups.\n"
     ]
    }
   ],
   "source": [
    "# generate grid of test points\n",
    "test_pts = [(1, 1, 1),(6, 1, 1),(1, 6, 1),(1, 1, 6)]\n",
    "test_vec = [(0, 0, 1),(0, 0, 1),(0, 0, 1),(0, 0, 1)]\n",
    "analysis_grid = esm.AnalysisGrid.from_points_and_vectors(test_pts, test_vec, 'test_grid')\n",
    "\n",
    "# put the recipe together\n",
    "rp = esm.ContextViewGridBased(analysis_grids=(analysis_grid,),\n",
    "               hb_objects=hb_surfaces)"
   ]
  },
  {
   "cell_type": "code",
   "execution_count": 4,
   "metadata": {},
   "outputs": [
    {
     "output_type": "stream",
     "name": "stdout",
     "text": [
      "Writing recipe contents to: ./clean_context_view/gridbased\n"
     ]
    }
   ],
   "source": [
    "# write simulation to folder\n",
    "project_name = 'clean_context_view'\n",
    "batch_file = rp.write(\n",
    "    target_folder='.', project_name=project_name)\n"
   ]
  },
  {
   "cell_type": "code",
   "execution_count": 5,
   "metadata": {},
   "outputs": [
    {
     "output_type": "execute_result",
     "data": {
      "text/plain": [
       "True"
      ]
     },
     "metadata": {},
     "execution_count": 5
    }
   ],
   "source": [
    "# run the simulation\n",
    "rp.run(batch_file, debug=False)"
   ]
  },
  {
   "cell_type": "code",
   "execution_count": 6,
   "metadata": {},
   "outputs": [],
   "source": [
    "# load rtrace results\n",
    "rs_path = os.path.join(project_name, 'gridbased', 'rtrace_res.txt')\n",
    "rtrace_res = pd.read_csv(rs_path, skiprows=8, sep='\\t', usecols=[3,4,5], header=None, names=['last_int_name', 'first_int_dist', 'last_int_dist'])\n",
    "# load the rays\n",
    "rays_path = os.path.join(project_name, 'gridbased', 'view_rays.txt')\n",
    "rays_df = pd.read_csv(rays_path, skiprows=0, sep=' ', usecols=[3,4,5], header=None, names=['Rx', 'Ry', 'Rz'])\n",
    "# concatenate data frames\n",
    "results = pd.concat([rays_df, rtrace_res], axis = 1)"
   ]
  },
  {
   "cell_type": "code",
   "execution_count": 7,
   "metadata": {},
   "outputs": [
    {
     "output_type": "stream",
     "name": "stdout",
     "text": [
      "window view solid angle: 1.9459347582868236 steradian\n"
     ]
    }
   ],
   "source": [
    "window_mask = (results['last_int_dist'] - results['first_int_dist']).abs() > 0\n",
    "print('window view solid angle:',4 * np.pi * window_mask.sum()/len(window_mask), 'steradian')"
   ]
  },
  {
   "cell_type": "code",
   "execution_count": 8,
   "metadata": {},
   "outputs": [
    {
     "output_type": "stream",
     "name": "stdout",
     "text": [
      "horizontal window view angle: 2.012582793705961\n"
     ]
    }
   ],
   "source": [
    "horizontal_line_mask = results['Rz'].abs() < 0.01\n",
    "print('horizontal window view angle:',(2 * np.pi * window_mask * horizontal_line_mask).sum() / horizontal_line_mask.sum())"
   ]
  },
  {
   "cell_type": "code",
   "execution_count": 9,
   "metadata": {},
   "outputs": [
    {
     "output_type": "execute_result",
     "data": {
      "text/plain": [
       "wall                 0.553310\n",
       "context_ground       0.257762\n",
       "window               0.154853\n",
       "context_buildings    0.034075\n",
       "Name: last_int_name, dtype: float64"
      ]
     },
     "metadata": {},
     "execution_count": 9
    }
   ],
   "source": [
    "view_quality_ratio = results['last_int_name'].value_counts() / len(results)\n",
    "view_quality_ratio"
   ]
  },
  {
   "cell_type": "code",
   "execution_count": 10,
   "metadata": {},
   "outputs": [
    {
     "output_type": "display_data",
     "data": {
      "text/plain": "ViewInteractiveWidget(height=768, layout=Layout(height='auto', width='100%'), width=1024)",
      "application/vnd.jupyter.widget-view+json": {
       "version_major": 2,
       "version_minor": 0,
       "model_id": "a68d1f06d4724a9cadff7cf84f921427"
      }
     },
     "metadata": {}
    },
    {
     "output_type": "execute_result",
     "data": {
      "text/plain": [
       "[(3.8637033051562737, 3.8637033051562737, 3.8637033051562737),\n",
       " (0.0, 0.0, 0.0),\n",
       " (0.0, 0.0, 1.0)]"
      ]
     },
     "metadata": {},
     "execution_count": 10
    }
   ],
   "source": [
    "p = pv.Plotter(notebook=True)\n",
    "\n",
    "icosphere = tm.creation.icosphere(subdivisions=5, radius=1.0)\n",
    "p.add_mesh(icosphere.vertices, scalars=results['last_int_dist'], point_size=10)\n",
    "\n",
    "p.add_axes()\n",
    "p.show(use_ipyvtk=True)"
   ]
  }
 ],
 "metadata": {
  "kernelspec": {
   "name": "python3",
   "display_name": "Python 3.8.5 64-bit ('environmental': conda)",
   "metadata": {
    "interpreter": {
     "hash": "e27e6096067a616dec79045cf409423a9c007e56e5a32f2b7b56e2bb4865536c"
    }
   }
  },
  "language_info": {
   "codemirror_mode": {
    "name": "ipython",
    "version": 3
   },
   "file_extension": ".py",
   "mimetype": "text/x-python",
   "name": "python",
   "nbconvert_exporter": "python",
   "pygments_lexer": "ipython3",
   "version": "3.8.5-final"
  }
 },
 "nbformat": 4,
 "nbformat_minor": 2
}