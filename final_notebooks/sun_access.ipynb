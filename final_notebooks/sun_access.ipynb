{
 "cells": [
  {
   "cell_type": "markdown",
   "metadata": {},
   "source": [
    "# Sun Access Notebook"
   ]
  },
  {
   "cell_type": "markdown",
   "metadata": {},
   "source": [
    "## 0. Initialization\n",
    "\n",
    "### 0.1. Importing libraries"
   ]
  },
  {
   "cell_type": "code",
   "execution_count": 1,
   "metadata": {},
   "outputs": [
    {
     "name": "stdout",
     "output_type": "stream",
     "text": [
      "Path to radiance is set to: /usr/local/radiance\n",
      "Path to perl is set to: /usr/bin\n"
     ]
    }
   ],
   "source": [
    "import EN_17037_Recipes as enr \n",
    "import os\n",
    "import trimesh as tm \n",
    "import pyvista as pv\n",
    "import ladybug as lb\n",
    "import numpy as np\n",
    "import pandas as pd\n",
    "import matplotlib.pyplot as plt\n",
    "from matplotlib import colors\n",
    "from honeybee_plus.radiance.recipe.solaraccess.gridbased import SolarAccessGridBased\n",
    "from honeybee_plus.radiance.analysisgrid import AnalysisGrid"
   ]
  },
  {
   "cell_type": "markdown",
   "metadata": {},
   "source": [
    "### 0.2. Setting global variables"
   ]
  },
  {
   "cell_type": "code",
   "execution_count": 2,
   "metadata": {},
   "outputs": [
    {
     "data": {
      "text/html": [
       "<div>\n",
       "<style scoped>\n",
       "    .dataframe tbody tr th:only-of-type {\n",
       "        vertical-align: middle;\n",
       "    }\n",
       "\n",
       "    .dataframe tbody tr th {\n",
       "        vertical-align: top;\n",
       "    }\n",
       "\n",
       "    .dataframe thead th {\n",
       "        text-align: right;\n",
       "    }\n",
       "</style>\n",
       "<table border=\"1\" class=\"dataframe\">\n",
       "  <thead>\n",
       "    <tr style=\"text-align: right;\">\n",
       "      <th></th>\n",
       "      <th>surface_name</th>\n",
       "      <th>surface_type</th>\n",
       "      <th>file_path</th>\n",
       "      <th>material_name</th>\n",
       "    </tr>\n",
       "  </thead>\n",
       "  <tbody>\n",
       "    <tr>\n",
       "      <th>0</th>\n",
       "      <td>wall</td>\n",
       "      <td>0</td>\n",
       "      <td>ref_room_walls.obj</td>\n",
       "      <td>material_plastic</td>\n",
       "    </tr>\n",
       "    <tr>\n",
       "      <th>1</th>\n",
       "      <td>window</td>\n",
       "      <td>5</td>\n",
       "      <td>ref_room_window.obj</td>\n",
       "      <td>material_glass</td>\n",
       "    </tr>\n",
       "    <tr>\n",
       "      <th>2</th>\n",
       "      <td>context_buildings</td>\n",
       "      <td>0</td>\n",
       "      <td>test_context_01_buildings.obj</td>\n",
       "      <td>material_plastic</td>\n",
       "    </tr>\n",
       "  </tbody>\n",
       "</table>\n",
       "</div>"
      ],
      "text/plain": [
       "        surface_name  surface_type                      file_path  \\\n",
       "0               wall             0             ref_room_walls.obj   \n",
       "1             window             5            ref_room_window.obj   \n",
       "2  context_buildings             0  test_context_01_buildings.obj   \n",
       "\n",
       "      material_name  \n",
       "0  material_plastic  \n",
       "1    material_glass  \n",
       "2  material_plastic  "
      ]
     },
     "execution_count": 2,
     "metadata": {},
     "output_type": "execute_result"
    }
   ],
   "source": [
    "# directory variables\n",
    "cwd = os.getcwd()\n",
    "src = os.path.dirname(cwd)\n",
    "\n",
    "# project name\n",
    "project_name = 'EN_17037_sun_access'\n",
    "\n",
    "# create the material dictionary\n",
    "material_dict = {\n",
    "    \"material_plastic\": enr.material_plastic,\n",
    "    \"material_glass\": enr.material_glass\n",
    "}\n",
    "\n",
    "# load the surface information table\n",
    "surface_df = pd.read_csv(\"sa_file_table.csv\")\n",
    "surface_df"
   ]
  },
  {
   "cell_type": "markdown",
   "metadata": {},
   "source": [
    "### 0.3. Prepare Analysis Information"
   ]
  },
  {
   "cell_type": "code",
   "execution_count": 3,
   "metadata": {},
   "outputs": [],
   "source": [
    "# prepare grid points\n",
    "grid_path = os.path.join(src, \"data\", \"point_grid_sunacc.csv\")\n",
    "grid_array = np.genfromtxt(grid_path, delimiter=\",\")\n",
    "pnts = [tuple(pnt) for pnt in grid_array] if len(grid_array.shape) == 2 else [tuple(grid_array)]\n",
    "up_vecs = [(0, 0, 1)] * len(pnts)\n",
    "\n",
    "# initiate sunpath\n",
    "sp = lb.sunpath.Sunpath(longitude=4.3571, latitude=52.0116)\n",
    "\n",
    "# define sun hours : A list of hours of the year for each sun vector\n",
    "# there are 8760 hours in a year, so the following integers refer to specific hours throughout the year\n",
    "hoys = []\n",
    "sun_vectors = []\n",
    "hoy_range = np.arange(0, 8760, 0.5)\n",
    "for i in hoy_range:\n",
    "    # compute the sun object\n",
    "    sun = sp.calculate_sun_from_hoy(i)\n",
    "    # extract the sun vector\n",
    "    sun_vector = sun.sun_vector.to_array()\n",
    "    # apparently, if the Z component of sun vector is positive, it is under the horizon \n",
    "    if sun_vector[2] < 0.0:\n",
    "        hoys.append(i)\n",
    "        sun_vectors.append(sun_vector)"
   ]
  },
  {
   "cell_type": "markdown",
   "metadata": {},
   "source": [
    "## 1. Simulation"
   ]
  },
  {
   "cell_type": "markdown",
   "metadata": {},
   "source": [
    "### 1.1. Importing geometries and assigning materials"
   ]
  },
  {
   "cell_type": "code",
   "execution_count": 4,
   "metadata": {},
   "outputs": [],
   "source": [
    "# loading all meshes and converting them into hb surfaces\n",
    "hb_surfaces = []\n",
    "for _, srf in surface_df.iterrows():\n",
    "    filepath = os.path.join(src, \"data\", srf[\"file_path\"])\n",
    "    mesh = pv.read(filepath)\n",
    "    hb_surf = enr.pv_mesh_to_hbsurface(mesh, srf[\"surface_type\"], srf[\"surface_name\"], material_dict[srf[\"material_name\"]])\n",
    "    hb_surfaces.extend(hb_surf)"
   ]
  },
  {
   "cell_type": "markdown",
   "metadata": {},
   "source": [
    "### 1.2. Create Recipe"
   ]
  },
  {
   "cell_type": "code",
   "execution_count": 5,
   "metadata": {},
   "outputs": [
    {
     "name": "stdout",
     "output_type": "stream",
     "text": [
      "Found 12169 opaque surfaces.\n",
      "Found 1 fenestration surfaces.\n",
      "Found 0 window-groups.\n"
     ]
    }
   ],
   "source": [
    "# create analysis grid\n",
    "analysis_grid = AnalysisGrid.from_points_and_vectors(pnts, up_vecs, 'test_grid')\n",
    "# put the recipe together\n",
    "rp = SolarAccessGridBased(sun_vectors, hoys, [analysis_grid], hb_objects=hb_surfaces)"
   ]
  },
  {
   "cell_type": "markdown",
   "metadata": {},
   "source": [
    "### 1.3. Create Batch Files"
   ]
  },
  {
   "cell_type": "code",
   "execution_count": 6,
   "metadata": {},
   "outputs": [
    {
     "name": "stdout",
     "output_type": "stream",
     "text": [
      "Writing recipe contents to: ./EN_17037_sun_access/solaraccess\n"
     ]
    }
   ],
   "source": [
    "# write simulation to folder\n",
    "batch_file = rp.write(\n",
    "    target_folder='.', project_name = project_name)"
   ]
  },
  {
   "cell_type": "markdown",
   "metadata": {},
   "source": [
    "### 1.4. Run the simulation"
   ]
  },
  {
   "cell_type": "code",
   "execution_count": 7,
   "metadata": {},
   "outputs": [
    {
     "data": {
      "text/plain": [
       "True"
      ]
     },
     "execution_count": 7,
     "metadata": {},
     "output_type": "execute_result"
    }
   ],
   "source": [
    "# run the simulation\n",
    "rp.run(batch_file, debug=False)"
   ]
  },
  {
   "cell_type": "markdown",
   "metadata": {},
   "source": [
    "## 2. Results"
   ]
  },
  {
   "cell_type": "markdown",
   "metadata": {},
   "source": [
    "### 2.1. Load and parse the results"
   ]
  },
  {
   "cell_type": "code",
   "execution_count": 8,
   "metadata": {},
   "outputs": [
    {
     "name": "stdout",
     "output_type": "stream",
     "text": [
      "   0         1         2         3     4         5         6         7     \\\n",
      "0   0.0  0.001089  0.001684  0.002191   0.0  0.002902  0.003091  0.003164   \n",
      "\n",
      "       8     9     ...      8893      8894      8895  8896  8897  8898  8899  \\\n",
      "0  0.003121   0.0  ...  0.003073  0.003144  0.003098   0.0   0.0   0.0   0.0   \n",
      "\n",
      "   8900  8901  8902  \n",
      "0   0.0   0.0   NaN  \n",
      "\n",
      "[1 rows x 8903 columns]\n"
     ]
    }
   ],
   "source": [
    "def parse_results(rp, aggregate=False):\n",
    "\n",
    "    df = pd.read_csv(rp._result_files, skiprows=13, sep='\\t', header=None)\n",
    "\n",
    "    if not aggregate:\n",
    "        return df\n",
    "    else:\n",
    "        return df.sum(axis=1) / df.shape[0]\n",
    "\n",
    "result = parse_results(rp, aggregate=False)\n",
    "print(result)"
   ]
  },
  {
   "cell_type": "markdown",
   "metadata": {},
   "source": [
    "### 2.2. Yearly Sun Access"
   ]
  },
  {
   "cell_type": "code",
   "execution_count": 9,
   "metadata": {},
   "outputs": [
    {
     "data": {
      "text/plain": [
       "<AxesSubplot:>"
      ]
     },
     "execution_count": 9,
     "metadata": {},
     "output_type": "execute_result"
    },
    {
     "data": {
      "image/png": "[encoded data removed]",
      "text/plain": [
       "<Figure size 432x288 with 1 Axes>"
      ]
     },
     "metadata": {
      "needs_background": "light"
     },
     "output_type": "display_data"
    }
   ],
   "source": [
    "# reminder - the HOY indexes for the period 1st Feb and 21st March (included) are 258 and 774\n",
    "\n",
    "point = 0\n",
    "\n",
    "dates = pd.date_range(start='01-01-2021', end='31-12-2021 23:59:00', freq='30min')\n",
    "result_timed = pd.DataFrame(index=hoy_range, columns=['date','res','bin'], dtype='object')\n",
    "result_timed['date'] = list(dates)\n",
    "result_timed.loc[hoys,'res'] = result.iloc[point,:-1].values\n",
    "result_timed['bin'] = 1\n",
    "result_timed.index = dates\n",
    "result_timed.loc[:,'bin'] = result_timed.loc[:,'bin'].where(result_timed['res']>0,other=0)\n",
    "\n",
    "# count of hours with sunlight access in a day (01/02 - 21/03)\n",
    "result_day = result_timed['bin'].resample('D').sum() / 2.\n",
    "result_day.plot()"
   ]
  },
  {
   "cell_type": "markdown",
   "metadata": {},
   "source": [
    "### 2.3. Daily Sun Access"
   ]
  },
  {
   "cell_type": "code",
   "execution_count": 14,
   "metadata": {
    "scrolled": true
   },
   "outputs": [
    {
     "data": {
      "image/png": "[encoded data removed]",
      "text/plain": [
       "<Figure size 504x216 with 2 Axes>"
      ]
     },
     "metadata": {},
     "output_type": "display_data"
    }
   ],
   "source": [
    "fig, ax1 = plt.subplots(figsize=(7,3))\n",
    "\n",
    "cmap = colors.ListedColormap(['slategrey', 'gold'])\n",
    "bounds=[0,.5,1]\n",
    "norm = colors.BoundaryNorm(bounds, cmap.N)\n",
    "\n",
    "ax1.spines['top'].set_visible(False)\n",
    "ax1.spines['right'].set_visible(False)\n",
    "ax1.spines['bottom'].set_visible(False)\n",
    "ax1.spines['left'].set_visible(False)\n",
    "# ax.get_xaxis().set_ticks([])\n",
    "\n",
    "ax1.imshow(result_timed['2021-02-01':'2021-03-21']['bin'].values.reshape(49,-1).T, \n",
    "           aspect='auto', origin='lower', cmap=cmap, norm=norm)\n",
    "ax1.set_ylabel('Time')\n",
    "ax1.set_xlabel('Day')\n",
    "ax1.set_yticks(range(0,48,8))\n",
    "ax1.set_yticklabels(['','4:00','8:00','12:00','16:00','20:00'])\n",
    "ax1.tick_params(axis='y', length=0)\n",
    "ax1.set_xticks(range(0,49,10))\n",
    "ax1.set_xticklabels(['01/02','11/02','21/02','03/03','13/03'])\n",
    "ax1.grid(axis='y', color='w', ls=':')\n",
    "ax1.set_ylim(0,48)\n",
    "\n",
    "\n",
    "ax2 = ax1.twinx()\n",
    "\n",
    "ax2.spines['top'].set_visible(False)\n",
    "ax2.spines['right'].set_visible(False)\n",
    "ax2.spines['bottom'].set_visible(False)\n",
    "ax2.spines['left'].set_visible(False)\n",
    "\n",
    "for i in range(49):\n",
    "    ax2.axvline(i+0.5, color='w', lw=2)\n",
    "ax2.plot(result_day['2021-02-01':'2021-03-21'].values, marker='o', color='darkorange')\n",
    "ax2.set_ylabel('# hours', color='darkorange')\n",
    "ax2.tick_params(axis='y', labelcolor='darkorange', color='darkorange')\n",
    "ax2.set_ylim(0,11)\n",
    "\n",
    "\n",
    "fig.tight_layout()\n",
    "plot_path = os.path.join('plots', project_name + '_sunlight_hours_febmar.eps')\n",
    "plt.savefig(plot_path, format='eps')\n",
    "plt.show()"
   ]
  },
  {
   "cell_type": "code",
   "execution_count": 11,
   "metadata": {},
   "outputs": [
    {
     "data": {
      "image/png": "[encoded data removed]",
      "text/plain": [
       "<Figure size 504x216 with 2 Axes>"
      ]
     },
     "metadata": {},
     "output_type": "display_data"
    }
   ],
   "source": [
    "# Annual plot\n",
    "\n",
    "fig, ax1 = plt.subplots(figsize=(7,3))\n",
    "\n",
    "cmap = colors.ListedColormap(['slategrey', 'gold'])\n",
    "bounds=[0,.5,1]\n",
    "norm = colors.BoundaryNorm(bounds, cmap.N)\n",
    "\n",
    "ax1.spines['top'].set_visible(False)\n",
    "ax1.spines['right'].set_visible(False)\n",
    "ax1.spines['bottom'].set_visible(False)\n",
    "ax1.spines['left'].set_visible(False)\n",
    "# ax.get_xaxis().set_ticks([])\n",
    "\n",
    "ax1.imshow(result_timed['bin'].values.reshape(365,-1).T, \n",
    "           aspect='auto', origin='lower', cmap=cmap, norm=norm)\n",
    "ax1.set_ylabel('Time')\n",
    "ax1.set_xlabel('Day')\n",
    "ax1.set_yticks(range(0,48,8))\n",
    "ax1.set_yticklabels(['','4:00','8:00','12:00','16:00','20:00'])\n",
    "ax1.tick_params(axis='y', length=0)\n",
    "ax1.grid(axis='y', color='w', ls=':')\n",
    "ax1.set_ylim(0,48)\n",
    "\n",
    "\n",
    "ax2 = ax1.twinx()\n",
    "\n",
    "ax2.spines['top'].set_visible(False)\n",
    "ax2.spines['right'].set_visible(False)\n",
    "ax2.spines['bottom'].set_visible(False)\n",
    "ax2.spines['left'].set_visible(False)\n",
    "\n",
    "ax2.plot(result_day.values, marker='o', color='darkorange', ms=1, ls=None)\n",
    "ax2.set_ylabel('# hours', color='darkorange')\n",
    "ax2.tick_params(axis='y', labelcolor='darkorange', color='darkorange')\n",
    "ax2.set_ylim(0,11)\n",
    "\n",
    "\n",
    "fig.tight_layout()\n",
    "plt.show()"
   ]
  }
 ],
 "metadata": {
  "kernelspec": {
   "display_name": "Python 3",
   "language": "python",
   "name": "python3"
  },
  "language_info": {
   "codemirror_mode": {
    "name": "ipython",
    "version": 3
   },
   "file_extension": ".py",
   "mimetype": "text/x-python",
   "name": "python",
   "nbconvert_exporter": "python",
   "pygments_lexer": "ipython3",
   "version": "3.8.5"
  }
 },
 "nbformat": 4,
 "nbformat_minor": 2
}
