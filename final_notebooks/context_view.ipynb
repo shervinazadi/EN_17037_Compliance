{
 "cells": [
  {
   "cell_type": "code",
   "execution_count": null,
   "metadata": {},
   "outputs": [],
   "source": [
    "import EN_17037_Recipes as enr \n",
    "import pyvista as pv\n",
    "import os\n",
    "import pandas as pd\n",
    "import numpy as np\n",
    "import trimesh as tm\n",
    "import itertools\n",
    "\n",
    "cwd = os.getcwd()\n",
    "src = os.path.dirname(cwd)"
   ]
  },
  {
   "cell_type": "code",
   "execution_count": null,
   "metadata": {},
   "outputs": [],
   "source": [
    "# create the material dictionary\n",
    "material_dict = {\n",
    "    \"material_plastic\": enr.material_plastic,\n",
    "    \"material_glass\": enr.material_glass\n",
    "}\n",
    "\n",
    "# load the surface information table\n",
    "surface_df = pd.read_csv(\"cv_file_table.csv\")\n",
    "surface_df"
   ]
  },
  {
   "cell_type": "code",
   "execution_count": null,
   "metadata": {},
   "outputs": [],
   "source": [
    "# loading all meshes and converting them into hb surfaces\n",
    "hb_surfaces = []\n",
    "for _, srf in surface_df.iterrows():\n",
    "    filepath = os.path.join(src, \"data\", srf[\"file_path\"])\n",
    "    mesh = pv.read(filepath)\n",
    "    hb_surf = enr.pv_mesh_to_hbsurface(mesh, srf[\"surface_type\"], srf[\"surface_name\"], material_dict[srf[\"material_name\"]])\n",
    "    hb_surfaces.extend(hb_surf)"
   ]
  },
  {
   "cell_type": "code",
   "execution_count": null,
   "metadata": {
    "tags": []
   },
   "outputs": [],
   "source": [
    "# homogenous discretization of sphere\n",
    "icosphere = tm.creation.icosphere(subdivisions=4, radius=1.0)\n",
    "v = icosphere.vertices\n",
    "\n",
    "# setting the rays and points\n",
    "rays = [tuple(v) for v in icosphere.vertices]\n",
    "grid_path = os.path.join(src, \"data\", \"point_grid.csv\")\n",
    "grid_array = np.genfromtxt(grid_path, delimiter=\",\")\n",
    "pnts = [tuple(pnt) for pnt in grid_array]\n",
    "\n",
    "# generate grid of test points\n",
    "test_inds = [j for j in range(len(pnts)) for i in range(len(rays))]\n",
    "test_pnts = [pnt for pnt in pnts for i in range(len(rays))]\n",
    "test_rays = rays * len(pnts)\n",
    "\n",
    "analysis_grid = enr.AnalysisGrid.from_points_and_vectors(test_pnts, test_rays, 'test_grid')"
   ]
  },
  {
   "cell_type": "code",
   "execution_count": null,
   "metadata": {},
   "outputs": [],
   "source": [
    "# put the recipe together\n",
    "rp = enr.ContextViewGridBased(analysis_grids=(analysis_grid,),\n",
    "               hb_objects=hb_surfaces)"
   ]
  },
  {
   "cell_type": "code",
   "execution_count": null,
   "metadata": {},
   "outputs": [],
   "source": [
    "# write simulation to folder\n",
    "project_name = 'EN_17037_context_view'\n",
    "batch_file = rp.write(\n",
    "    target_folder='.', project_name=project_name)\n"
   ]
  },
  {
   "cell_type": "code",
   "execution_count": null,
   "metadata": {},
   "outputs": [],
   "source": [
    "# run the simulation\n",
    "rp.run(batch_file, debug=False)"
   ]
  },
  {
   "cell_type": "code",
   "execution_count": null,
   "metadata": {},
   "outputs": [],
   "source": [
    "# load rtrace results\n",
    "rs_path = os.path.join(project_name, 'gridbased', 'rtrace_res.txt')\n",
    "rtrace_res = pd.read_csv(rs_path, skiprows=8, sep='\\t', usecols=[3,4,5], header=None, names=['last_int_name', 'first_int_dist', 'last_int_dist'])\n",
    "\n",
    "# load the rays\n",
    "rays_path = os.path.join(project_name, 'gridbased', project_name + '.pts')\n",
    "rays_df = pd.read_csv(rays_path, skiprows=0, sep=' ', header=None, names=['Sx','Sy','Sz','Rx', 'Ry', 'Rz'])\n",
    "\n",
    "# concatenate data frames and group by point ids\n",
    "grid_results = pd.concat([rays_df, rtrace_res], axis = 1)\n",
    "gb = grid_results.groupby(test_inds)\n",
    "\n",
    "# extract point 0 info\n",
    "point_0_results = gb.get_group(0)\n",
    "point_0_results"
   ]
  },
  {
   "cell_type": "code",
   "execution_count": null,
   "metadata": {},
   "outputs": [],
   "source": [
    "window_mask = (point_0_results['last_int_dist'] - point_0_results['first_int_dist']).abs() > 0\n",
    "print('window view solid angle:',4 * np.pi * window_mask.sum()/len(window_mask), 'steradian')"
   ]
  },
  {
   "cell_type": "code",
   "execution_count": null,
   "metadata": {},
   "outputs": [],
   "source": [
    "horizontal_line_mask = point_0_results['Rz'].abs() < 0.01\n",
    "print('horizontal window view angle:',(2 * np.pi * window_mask * horizontal_line_mask).sum() / horizontal_line_mask.sum(), 'radians')"
   ]
  },
  {
   "cell_type": "code",
   "execution_count": null,
   "metadata": {},
   "outputs": [],
   "source": [
    "view_quality_ratio = point_0_results['last_int_name'].value_counts() / len(point_0_results)\n",
    "view_quality_ratio"
   ]
  },
  {
   "cell_type": "code",
   "execution_count": null,
   "metadata": {},
   "outputs": [],
   "source": [
    "p = pv.Plotter(notebook=True)\n",
    "\n",
    "icosphere = tm.creation.icosphere(subdivisions=4, radius=1.0)\n",
    "\n",
    "p.add_mesh(icosphere.vertices, scalars=point_0_results['last_int_dist'], point_size=10)\n",
    "\n",
    "p.add_axes()\n",
    "\n",
    "p.show(use_ipyvtk=True)"
   ]
  }
 ],
 "metadata": {
  "kernelspec": {
   "name": "python3",
   "display_name": "Python 3.8.5 64-bit",
   "metadata": {
    "interpreter": {
     "hash": "e27e6096067a616dec79045cf409423a9c007e56e5a32f2b7b56e2bb4865536c"
    }
   }
  },
  "language_info": {
   "codemirror_mode": {
    "name": "ipython",
    "version": 3
   },
   "file_extension": ".py",
   "mimetype": "text/x-python",
   "name": "python",
   "nbconvert_exporter": "python",
   "pygments_lexer": "ipython3",
   "version": "3.8.5-final"
  }
 },
 "nbformat": 4,
 "nbformat_minor": 2
}