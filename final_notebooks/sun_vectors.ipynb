{
 "cells": [
  {
   "cell_type": "markdown",
   "metadata": {},
   "source": [
    "# Sun Access Notebook"
   ]
  },
  {
   "cell_type": "markdown",
   "metadata": {},
   "source": [
    "## 0. Initialization\n",
    "\n",
    "### 0.1. Importing libraries"
   ]
  },
  {
   "cell_type": "code",
   "execution_count": 1,
   "metadata": {},
   "outputs": [
    {
     "output_type": "stream",
     "name": "stdout",
     "text": [
      "Path to radiance is set to: /usr/local/radiance\nPath to perl is set to: /usr/bin\n"
     ]
    }
   ],
   "source": [
    "import EN_17037_Recipes as enr \n",
    "import os\n",
    "import trimesh as tm \n",
    "import pyvista as pv\n",
    "import ladybug as lb\n",
    "import numpy as np\n",
    "import pandas as pd\n",
    "import matplotlib.pyplot as plt\n",
    "import matplotlib.dates as mdates\n",
    "from matplotlib import colors\n",
    "from honeybee_plus.radiance.recipe.solaraccess.gridbased import SolarAccessGridBased\n",
    "from honeybee_plus.radiance.analysisgrid import AnalysisGrid"
   ]
  },
  {
   "cell_type": "markdown",
   "metadata": {},
   "source": [
    "### 0.2. Setting global variables"
   ]
  },
  {
   "cell_type": "code",
   "execution_count": 2,
   "metadata": {},
   "outputs": [
    {
     "output_type": "execute_result",
     "data": {
      "text/plain": [
       "        surface_name  surface_type                      file_path  \\\n",
       "0               wall             0             ref_room_walls.obj   \n",
       "1             window             5            ref_room_window.obj   \n",
       "2  context_buildings             0  test_context_01_buildings.obj   \n",
       "\n",
       "      material_name  \n",
       "0  material_plastic  \n",
       "1    material_glass  \n",
       "2  material_plastic  "
      ],
      "text/html": "<div>\n<style scoped>\n    .dataframe tbody tr th:only-of-type {\n        vertical-align: middle;\n    }\n\n    .dataframe tbody tr th {\n        vertical-align: top;\n    }\n\n    .dataframe thead th {\n        text-align: right;\n    }\n</style>\n<table border=\"1\" class=\"dataframe\">\n  <thead>\n    <tr style=\"text-align: right;\">\n      <th></th>\n      <th>surface_name</th>\n      <th>surface_type</th>\n      <th>file_path</th>\n      <th>material_name</th>\n    </tr>\n  </thead>\n  <tbody>\n    <tr>\n      <th>0</th>\n      <td>wall</td>\n      <td>0</td>\n      <td>ref_room_walls.obj</td>\n      <td>material_plastic</td>\n    </tr>\n    <tr>\n      <th>1</th>\n      <td>window</td>\n      <td>5</td>\n      <td>ref_room_window.obj</td>\n      <td>material_glass</td>\n    </tr>\n    <tr>\n      <th>2</th>\n      <td>context_buildings</td>\n      <td>0</td>\n      <td>test_context_01_buildings.obj</td>\n      <td>material_plastic</td>\n    </tr>\n  </tbody>\n</table>\n</div>"
     },
     "metadata": {},
     "execution_count": 2
    }
   ],
   "source": [
    "# directory variables\n",
    "cwd = os.getcwd()\n",
    "src = os.path.dirname(cwd)\n",
    "\n",
    "# project name\n",
    "project_name = 'EN_17037_sun_access'\n",
    "\n",
    "# create the material dictionary\n",
    "material_dict = {\n",
    "    \"material_plastic\": enr.material_plastic,\n",
    "    \"material_glass\": enr.material_glass\n",
    "}\n",
    "\n",
    "# load the surface information table\n",
    "surface_df = pd.read_csv(\"sa_file_table.csv\")\n",
    "surface_df"
   ]
  },
  {
   "cell_type": "markdown",
   "metadata": {},
   "source": [
    "### 0.3. Prepare Analysis Information"
   ]
  },
  {
   "cell_type": "code",
   "execution_count": 3,
   "metadata": {},
   "outputs": [],
   "source": [
    "# prepare grid points\n",
    "grid_path = os.path.join(src, \"data\", \"point_grid_sunacc.csv\")\n",
    "grid_array = np.genfromtxt(grid_path, delimiter=\",\")\n",
    "pnts = [tuple(pnt) for pnt in grid_array] if len(grid_array.shape) == 2 else [tuple(grid_array)]\n",
    "up_vecs = [(0, 0, 1)] * len(pnts)\n",
    "\n",
    "# initiate sunpath\n",
    "sp = lb.sunpath.Sunpath(longitude=4.3571, latitude=52.0116)\n",
    "\n",
    "# define sun hours : A list of hours of the year for each sun vector\n",
    "# there are 8760 hours in a year, so the following integers refer to specific hours throughout the year\n",
    "hoys = []\n",
    "sun_vectors = []\n",
    "hoy_range = np.arange(0, 8760, 1)\n",
    "for i in hoy_range:\n",
    "    # compute the sun object\n",
    "    sun = sp.calculate_sun_from_hoy(i, is_solar_time=True)\n",
    "    # extract the sun vector\n",
    "    sun_vector = sun.sun_vector.to_array()\n",
    "\n",
    "    hoys.append(i)\n",
    "    sun_vectors.append(sun_vector)"
   ]
  },
  {
   "cell_type": "code",
   "execution_count": 10,
   "metadata": {},
   "outputs": [
    {
     "output_type": "execute_result",
     "data": {
      "text/plain": [
       "(array([ 0,  1,  2, ..., 21, 22, 23]),\n",
       " array([  0,   0,   0, ..., 364, 364, 364]))"
      ]
     },
     "metadata": {},
     "execution_count": 10
    }
   ],
   "source": [
    "sun_vectors = np.array(sun_vectors)\n",
    "hoys = np.array(hoys)"
   ]
  },
  {
   "cell_type": "code",
   "execution_count": 11,
   "metadata": {},
   "outputs": [],
   "source": [
    "np.savetxt(\"../data/sun_vectors.csv\", np.c_[sun_vectors,hoys % 24, (hoys / 24).astype(int)], delimiter=\",\")"
   ]
  }
 ],
 "metadata": {
  "kernelspec": {
   "name": "python385jvsc74a57bd0e27e6096067a616dec79045cf409423a9c007e56e5a32f2b7b56e2bb4865536c",
   "display_name": "Python 3.8.5 64-bit ('environmental': conda)"
  },
  "language_info": {
   "codemirror_mode": {
    "name": "ipython",
    "version": 3
   },
   "file_extension": ".py",
   "mimetype": "text/x-python",
   "name": "python",
   "nbconvert_exporter": "python",
   "pygments_lexer": "ipython3",
   "version": "3.8.5"
  }
 },
 "nbformat": 4,
 "nbformat_minor": 2
}