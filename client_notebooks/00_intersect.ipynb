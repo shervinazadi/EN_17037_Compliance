{
 "metadata": {
  "language_info": {
   "codemirror_mode": {
    "name": "ipython",
    "version": 3
   },
   "file_extension": ".py",
   "mimetype": "text/x-python",
   "name": "python",
   "nbconvert_exporter": "python",
   "pygments_lexer": "ipython3",
   "version": "3.8.5"
  },
  "orig_nbformat": 2,
  "kernelspec": {
   "name": "python3",
   "display_name": "Python 3.8.5 64-bit ('environmental': conda)",
   "metadata": {
    "interpreter": {
     "hash": "e27e6096067a616dec79045cf409423a9c007e56e5a32f2b7b56e2bb4865536c"
    }
   }
  }
 },
 "nbformat": 4,
 "nbformat_minor": 2,
 "cells": [
  {
   "cell_type": "code",
   "execution_count": 1,
   "metadata": {},
   "outputs": [],
   "source": [
    "import rad_intersect as radi\n",
    "import trimesh as tm\n",
    "import numpy as np"
   ]
  },
  {
   "cell_type": "code",
   "execution_count": 2,
   "metadata": {},
   "outputs": [],
   "source": [
    "# mesh definition\n",
    "V = np.array(\n",
    "    [[1,0,0],\n",
    "    [0,1,0],\n",
    "    [0,0,1]])\n",
    "F = np.array([[0,1,2]])\n",
    "mesh = tm.Trimesh(V, F)\n",
    "\n",
    "# rays definition\n",
    "ray_src = np.array([[0,0,0]])\n",
    "ray_dir = np.array([[1,1,1]])"
   ]
  },
  {
   "cell_type": "code",
   "execution_count": 3,
   "metadata": {},
   "outputs": [
    {
     "output_type": "stream",
     "name": "stdout",
     "text": [
      "<Response [500]>\n"
     ]
    }
   ],
   "source": [
    "server_address = \"http://0.0.0.0:8080\"\n",
    "radi.intersect(mesh, ray_src, ray_dir, server_address)"
   ]
  }
 ]
}