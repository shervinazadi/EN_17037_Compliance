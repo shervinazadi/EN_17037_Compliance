{
 "metadata": {
  "language_info": {
   "codemirror_mode": {
    "name": "ipython",
    "version": 3
   },
   "file_extension": ".py",
   "mimetype": "text/x-python",
   "name": "python",
   "nbconvert_exporter": "python",
   "pygments_lexer": "ipython3",
   "version": "3.8.5"
  },
  "orig_nbformat": 2,
  "kernelspec": {
   "name": "python385jvsc74a57bd0e27e6096067a616dec79045cf409423a9c007e56e5a32f2b7b56e2bb4865536c",
   "display_name": "Python 3.8.5 64-bit ('environmental': conda)"
  }
 },
 "nbformat": 4,
 "nbformat_minor": 2,
 "cells": [
  {
   "cell_type": "code",
   "execution_count": 4,
   "metadata": {},
   "outputs": [],
   "source": [
    "import rad_intersect as radi\n",
    "import trimesh as tm\n",
    "import numpy as np\n",
    "import pandas as pd"
   ]
  },
  {
   "cell_type": "code",
   "execution_count": 17,
   "metadata": {},
   "outputs": [
    {
     "output_type": "stream",
     "name": "stderr",
     "text": [
      "faces have mixed data, using slow fallback!\n"
     ]
    }
   ],
   "source": [
    "\n",
    "mesh = tm.load_mesh(\"../data/ref_room_walls.obj\")\n",
    "# mesh = tm.util.concatenate(list(scene.geometry.values()) )\n",
    "# mesh = list(scene.geometry.values())[1]\n",
    "# rays definition\n",
    "ray_src = np.array(mesh.vertices.mean(axis=0).reshape(-1, 3))\n",
    "ray_dir = np.array([[0,1,0], [0,-1,0]])\n",
    "\n",
    "rd = np.tile(ray_dir, [len(ray_src),1])\n",
    "rs = np.tile(ray_src, [1, len(ray_dir)]).reshape(-1, 3)"
   ]
  },
  {
   "cell_type": "code",
   "execution_count": 22,
   "metadata": {},
   "outputs": [
    {
     "output_type": "stream",
     "name": "stdout",
     "text": [
      "-MXpkO5v8EZpq8YqGmNO\n",
      "2 intersection found\n"
     ]
    }
   ],
   "source": [
    "server_address = \"http://0.0.0.0:8080\"\n",
    "radi.intersect(mesh, rs, rd, server_address)"
   ]
  }
 ]
}