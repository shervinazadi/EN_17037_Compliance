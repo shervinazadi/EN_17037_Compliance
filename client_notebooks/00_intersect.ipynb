{
 "metadata": {
  "language_info": {
   "codemirror_mode": {
    "name": "ipython",
    "version": 3
   },
   "file_extension": ".py",
   "mimetype": "text/x-python",
   "name": "python",
   "nbconvert_exporter": "python",
   "pygments_lexer": "ipython3",
   "version": "3.8.5"
  },
  "orig_nbformat": 2,
  "kernelspec": {
   "name": "python385jvsc74a57bd0e27e6096067a616dec79045cf409423a9c007e56e5a32f2b7b56e2bb4865536c",
   "display_name": "Python 3.8.5 64-bit ('environmental': conda)"
  }
 },
 "nbformat": 4,
 "nbformat_minor": 2,
 "cells": [
  {
   "cell_type": "code",
   "execution_count": 1,
   "metadata": {},
   "outputs": [],
   "source": [
    "import rad_intersect as radi\n",
    "import trimesh as tm\n",
    "import numpy as np\n",
    "import pandas as pd"
   ]
  },
  {
   "cell_type": "code",
   "execution_count": 2,
   "metadata": {},
   "outputs": [
    {
     "output_type": "stream",
     "name": "stderr",
     "text": [
      "faces have mixed data, using slow fallback!\n"
     ]
    }
   ],
   "source": [
    "mesh = tm.load_mesh(\"../data/ref_room_walls.obj\")\n",
    "# mesh = tm.util.concatenate(list(scene.geometry.values()) )\n",
    "# mesh = list(scene.geometry.values())[1]\n",
    "# rays definition\n",
    "ray_src = np.array(mesh.vertices.mean(axis=0).reshape(-1, 3)) - np.array([0,0,3])\n",
    "ray_dir = np.array([[0,1,0], [0,-1,0]])\n",
    "\n",
    "rd = np.tile(ray_dir, [len(ray_src),1])\n",
    "rs = np.tile(ray_src, [1, len(ray_dir)]).reshape(-1, 3)"
   ]
  },
  {
   "cell_type": "code",
   "execution_count": 3,
   "metadata": {},
   "outputs": [
    {
     "output_type": "execute_result",
     "data": {
      "text/plain": [
       "     first_dist int_name     last_dist\n",
       "0  1.000000e+10        *  1.000000e+10\n",
       "1  1.000000e+10        *  1.000000e+10"
      ],
      "text/html": "<div>\n<style scoped>\n    .dataframe tbody tr th:only-of-type {\n        vertical-align: middle;\n    }\n\n    .dataframe tbody tr th {\n        vertical-align: top;\n    }\n\n    .dataframe thead th {\n        text-align: right;\n    }\n</style>\n<table border=\"1\" class=\"dataframe\">\n  <thead>\n    <tr style=\"text-align: right;\">\n      <th></th>\n      <th>first_dist</th>\n      <th>int_name</th>\n      <th>last_dist</th>\n    </tr>\n  </thead>\n  <tbody>\n    <tr>\n      <th>0</th>\n      <td>1.000000e+10</td>\n      <td>*</td>\n      <td>1.000000e+10</td>\n    </tr>\n    <tr>\n      <th>1</th>\n      <td>1.000000e+10</td>\n      <td>*</td>\n      <td>1.000000e+10</td>\n    </tr>\n  </tbody>\n</table>\n</div>"
     },
     "metadata": {},
     "execution_count": 3
    }
   ],
   "source": [
    "server_address = \"http://0.0.0.0:8080\"\n",
    "op_key = radi.intersect(mesh, rs, rd, server_address)\n",
    "ri_df = radi.retrieve(op_key)\n",
    "ri_df"
   ]
  },
  {
   "cell_type": "code",
   "execution_count": 8,
   "metadata": {},
   "outputs": [
    {
     "output_type": "execute_result",
     "data": {
      "text/plain": [
       "     first_dist int_name     last_dist\n",
       "0  1.000000e+10        *  1.000000e+10\n",
       "1  1.000000e+10        *  1.000000e+10"
      ],
      "text/html": "<div>\n<style scoped>\n    .dataframe tbody tr th:only-of-type {\n        vertical-align: middle;\n    }\n\n    .dataframe tbody tr th {\n        vertical-align: top;\n    }\n\n    .dataframe thead th {\n        text-align: right;\n    }\n</style>\n<table border=\"1\" class=\"dataframe\">\n  <thead>\n    <tr style=\"text-align: right;\">\n      <th></th>\n      <th>first_dist</th>\n      <th>int_name</th>\n      <th>last_dist</th>\n    </tr>\n  </thead>\n  <tbody>\n    <tr>\n      <th>0</th>\n      <td>1.000000e+10</td>\n      <td>*</td>\n      <td>1.000000e+10</td>\n    </tr>\n    <tr>\n      <th>1</th>\n      <td>1.000000e+10</td>\n      <td>*</td>\n      <td>1.000000e+10</td>\n    </tr>\n  </tbody>\n</table>\n</div>"
     },
     "metadata": {},
     "execution_count": 8
    }
   ],
   "source": []
  }
 ]
}